{
 "cells": [
  {
   "cell_type": "code",
   "execution_count": 1,
   "metadata": {},
   "outputs": [
    {
     "name": "stderr",
     "output_type": "stream",
     "text": [
      "Using TensorFlow backend.\n",
      "/Users/tentenich/anaconda3/lib/python3.6/importlib/_bootstrap.py:219: RuntimeWarning: compiletime version 3.5 of module 'tensorflow.python.framework.fast_tensor_util' does not match runtime version 3.6\n",
      "  return f(*args, **kwds)\n"
     ]
    }
   ],
   "source": [
    "import numpy as np\n",
    "\n",
    "from keras.datasets import mnist\n",
    "\n",
    "from keras.models import Sequential, Model\n",
    "from keras.layers import Flatten, Dense, Activation\n",
    "from keras.utils import to_categorical"
   ]
  },
  {
   "cell_type": "code",
   "execution_count": 2,
   "metadata": {},
   "outputs": [],
   "source": [
    "(x_train, y_train), (x_test, y_test) = mnist.load_data()\n",
    "x_train =  x_train / 255.0\n",
    "x_test = x_test / 255.0\n",
    "y_train = to_categorical(y_train)\n",
    "y_test = to_categorical(y_test)"
   ]
  },
  {
   "cell_type": "code",
   "execution_count": 3,
   "metadata": {},
   "outputs": [
    {
     "data": {
      "text/plain": [
       "(60000, 28, 28)"
      ]
     },
     "execution_count": 3,
     "metadata": {},
     "output_type": "execute_result"
    }
   ],
   "source": [
    "x_train.shape"
   ]
  },
  {
   "cell_type": "code",
   "execution_count": 4,
   "metadata": {},
   "outputs": [],
   "source": [
    "model = Sequential()\n",
    "model.add(Flatten(input_shape=(28, 28)))\n",
    "model.add(Dense(256, activation='relu'))\n",
    "model.add(Dense(128, activation='relu'))\n",
    "model.add(Dense(64, activation='relu'))\n",
    "model.add(Dense(10))\n",
    "model.add(Activation('softmax'))"
   ]
  },
  {
   "cell_type": "code",
   "execution_count": 5,
   "metadata": {},
   "outputs": [],
   "source": [
    "model.compile('adam', 'categorical_crossentropy', metrics=['accuracy'])"
   ]
  },
  {
   "cell_type": "code",
   "execution_count": 6,
   "metadata": {},
   "outputs": [
    {
     "name": "stdout",
     "output_type": "stream",
     "text": [
      "_________________________________________________________________\n",
      "Layer (type)                 Output Shape              Param #   \n",
      "=================================================================\n",
      "flatten_1 (Flatten)          (None, 784)               0         \n",
      "_________________________________________________________________\n",
      "dense_1 (Dense)              (None, 256)               200960    \n",
      "_________________________________________________________________\n",
      "dense_2 (Dense)              (None, 128)               32896     \n",
      "_________________________________________________________________\n",
      "dense_3 (Dense)              (None, 64)                8256      \n",
      "_________________________________________________________________\n",
      "dense_4 (Dense)              (None, 10)                650       \n",
      "_________________________________________________________________\n",
      "activation_1 (Activation)    (None, 10)                0         \n",
      "=================================================================\n",
      "Total params: 242,762\n",
      "Trainable params: 242,762\n",
      "Non-trainable params: 0\n",
      "_________________________________________________________________\n"
     ]
    }
   ],
   "source": [
    "model.summary()"
   ]
  },
  {
   "cell_type": "code",
   "execution_count": 7,
   "metadata": {},
   "outputs": [
    {
     "name": "stdout",
     "output_type": "stream",
     "text": [
      "Train on 60000 samples, validate on 10000 samples\n",
      "Epoch 1/10\n",
      "60000/60000 [==============================] - 10s 165us/step - loss: 0.2476 - acc: 0.9268 - val_loss: 0.1200 - val_acc: 0.9638\n",
      "Epoch 2/10\n",
      "60000/60000 [==============================] - 10s 158us/step - loss: 0.0935 - acc: 0.9716 - val_loss: 0.0850 - val_acc: 0.9745\n",
      "Epoch 3/10\n",
      "60000/60000 [==============================] - 8s 136us/step - loss: 0.0655 - acc: 0.9795 - val_loss: 0.0751 - val_acc: 0.9778\n",
      "Epoch 4/10\n",
      "60000/60000 [==============================] - 6s 95us/step - loss: 0.0488 - acc: 0.9852 - val_loss: 0.0710 - val_acc: 0.9782\n",
      "Epoch 5/10\n",
      "60000/60000 [==============================] - 6s 93us/step - loss: 0.0366 - acc: 0.9879 - val_loss: 0.0923 - val_acc: 0.9734\n",
      "Epoch 6/10\n",
      "60000/60000 [==============================] - 6s 102us/step - loss: 0.0311 - acc: 0.9899 - val_loss: 0.0715 - val_acc: 0.9803\n",
      "Epoch 7/10\n",
      "60000/60000 [==============================] - 6s 92us/step - loss: 0.0246 - acc: 0.9919 - val_loss: 0.1046 - val_acc: 0.9723\n",
      "Epoch 8/10\n",
      "60000/60000 [==============================] - 6s 104us/step - loss: 0.0237 - acc: 0.9919 - val_loss: 0.1195 - val_acc: 0.9696\n",
      "Epoch 9/10\n",
      "60000/60000 [==============================] - 7s 118us/step - loss: 0.0213 - acc: 0.9931 - val_loss: 0.0800 - val_acc: 0.9802\n",
      "Epoch 10/10\n",
      "60000/60000 [==============================] - 7s 111us/step - loss: 0.0185 - acc: 0.9939 - val_loss: 0.0899 - val_acc: 0.9790\n"
     ]
    },
    {
     "data": {
      "text/plain": [
       "<keras.callbacks.History at 0x181a308198>"
      ]
     },
     "execution_count": 7,
     "metadata": {},
     "output_type": "execute_result"
    }
   ],
   "source": [
    "model.fit(x_train, y_train, \n",
    "          batch_size=64, epochs=10,\n",
    "          validation_data=(x_test, y_test))"
   ]
  },
  {
   "cell_type": "code",
   "execution_count": 8,
   "metadata": {},
   "outputs": [
    {
     "data": {
      "text/plain": [
       "[0.089888843795310092, 0.97899999999999998]"
      ]
     },
     "execution_count": 8,
     "metadata": {},
     "output_type": "execute_result"
    }
   ],
   "source": [
    "model.evaluate(x_test, y_test, verbose=0)"
   ]
  },
  {
   "cell_type": "code",
   "execution_count": 13,
   "metadata": {},
   "outputs": [],
   "source": [
    "tmp_model = Model(model.inputs, model.layers[-2].output)"
   ]
  },
  {
   "cell_type": "code",
   "execution_count": 16,
   "metadata": {},
   "outputs": [],
   "source": [
    "def softmax(x, t=1.0):\n",
    "    x_exp = np.exp(x / t)\n",
    "    return x_exp / x_exp.sum(axis=1, keepdims=True)"
   ]
  },
  {
   "cell_type": "code",
   "execution_count": 22,
   "metadata": {},
   "outputs": [],
   "source": [
    "probs_train = softmax(tmp_model.predict(x_train), t=10)"
   ]
  },
  {
   "cell_type": "code",
   "execution_count": 23,
   "metadata": {},
   "outputs": [],
   "source": [
    "new_model = Sequential()\n",
    "new_model.add(Flatten(input_shape=(28, 28)))\n",
    "new_model.add(Dense(64, activation='relu'))\n",
    "new_model.add(Dense(64, activation='relu'))\n",
    "new_model.add(Dense(64, activation='relu'))\n",
    "new_model.add(Dense(10, activation='softmax'))"
   ]
  },
  {
   "cell_type": "code",
   "execution_count": 24,
   "metadata": {},
   "outputs": [],
   "source": [
    "new_model.compile('adam', 'kullback_leibler_divergence', metrics=['accuracy'])"
   ]
  },
  {
   "cell_type": "code",
   "execution_count": 25,
   "metadata": {},
   "outputs": [
    {
     "name": "stdout",
     "output_type": "stream",
     "text": [
      "Train on 60000 samples, validate on 10000 samples\n",
      "Epoch 1/10\n",
      "60000/60000 [==============================] - 4s 61us/step - loss: 0.0549 - acc: 0.9182 - val_loss: 0.8261 - val_acc: 0.9571\n",
      "Epoch 2/10\n",
      "60000/60000 [==============================] - 3s 49us/step - loss: 0.0173 - acc: 0.9666 - val_loss: 0.8081 - val_acc: 0.9645\n",
      "Epoch 3/10\n",
      "60000/60000 [==============================] - 3s 49us/step - loss: 0.0127 - acc: 0.9748 - val_loss: 0.8126 - val_acc: 0.9662\n",
      "Epoch 4/10\n",
      "60000/60000 [==============================] - 3s 50us/step - loss: 0.0106 - acc: 0.9793 - val_loss: 0.8047 - val_acc: 0.9688\n",
      "Epoch 5/10\n",
      "60000/60000 [==============================] - 3s 51us/step - loss: 0.0095 - acc: 0.9811 - val_loss: 0.8117 - val_acc: 0.9702\n",
      "Epoch 6/10\n",
      "60000/60000 [==============================] - 3s 50us/step - loss: 0.0085 - acc: 0.9829 - val_loss: 0.7995 - val_acc: 0.9708\n",
      "Epoch 7/10\n",
      "60000/60000 [==============================] - 3s 50us/step - loss: 0.0079 - acc: 0.9837 - val_loss: 0.8080 - val_acc: 0.9718\n",
      "Epoch 8/10\n",
      "60000/60000 [==============================] - 3s 50us/step - loss: 0.0075 - acc: 0.9848 - val_loss: 0.8010 - val_acc: 0.9724\n",
      "Epoch 9/10\n",
      "60000/60000 [==============================] - 3s 55us/step - loss: 0.0071 - acc: 0.9860 - val_loss: 0.7932 - val_acc: 0.9722\n",
      "Epoch 10/10\n",
      "60000/60000 [==============================] - 3s 56us/step - loss: 0.0067 - acc: 0.9869 - val_loss: 0.8126 - val_acc: 0.9712\n"
     ]
    },
    {
     "data": {
      "text/plain": [
       "<keras.callbacks.History at 0x181c094fd0>"
      ]
     },
     "execution_count": 25,
     "metadata": {},
     "output_type": "execute_result"
    }
   ],
   "source": [
    "new_model.fit(x_train, probs_train, \n",
    "              batch_size=64, epochs=10,\n",
    "              validation_data=(x_test, y_test))"
   ]
  },
  {
   "cell_type": "code",
   "execution_count": 26,
   "metadata": {},
   "outputs": [
    {
     "name": "stdout",
     "output_type": "stream",
     "text": [
      "10000/10000 [==============================] - 0s 43us/step\n"
     ]
    },
    {
     "data": {
      "text/plain": [
       "[0.81264471359252932, 0.97119999999999995]"
      ]
     },
     "execution_count": 26,
     "metadata": {},
     "output_type": "execute_result"
    }
   ],
   "source": [
    "new_model.evaluate(x_test, y_test, verbose=1)"
   ]
  },
  {
   "cell_type": "code",
   "execution_count": null,
   "metadata": {},
   "outputs": [],
   "source": []
  },
  {
   "cell_type": "code",
   "execution_count": 27,
   "metadata": {},
   "outputs": [],
   "source": [
    "new_model = Sequential()\n",
    "new_model.add(Flatten(input_shape=(28, 28)))\n",
    "new_model.add(Dense(64, activation='relu'))\n",
    "new_model.add(Dense(64, activation='relu'))\n",
    "new_model.add(Dense(64, activation='relu'))\n",
    "new_model.add(Dense(10, activation='softmax'))"
   ]
  },
  {
   "cell_type": "code",
   "execution_count": 28,
   "metadata": {},
   "outputs": [],
   "source": [
    "new_model.compile('adam', 'categorical_crossentropy', metrics=['accuracy'])"
   ]
  },
  {
   "cell_type": "code",
   "execution_count": 29,
   "metadata": {},
   "outputs": [
    {
     "name": "stdout",
     "output_type": "stream",
     "text": [
      "Train on 60000 samples, validate on 10000 samples\n",
      "Epoch 1/10\n",
      "60000/60000 [==============================] - 4s 61us/step - loss: 0.3151 - acc: 0.9070 - val_loss: 0.1662 - val_acc: 0.9508\n",
      "Epoch 2/10\n",
      "60000/60000 [==============================] - 3s 54us/step - loss: 0.1337 - acc: 0.9597 - val_loss: 0.1168 - val_acc: 0.9648\n",
      "Epoch 3/10\n",
      "60000/60000 [==============================] - 3s 57us/step - loss: 0.0985 - acc: 0.9697 - val_loss: 0.1113 - val_acc: 0.9660\n",
      "Epoch 4/10\n",
      "60000/60000 [==============================] - 3s 55us/step - loss: 0.0791 - acc: 0.9754 - val_loss: 0.1056 - val_acc: 0.9673\n",
      "Epoch 5/10\n",
      "60000/60000 [==============================] - 3s 58us/step - loss: 0.0623 - acc: 0.9806 - val_loss: 0.0889 - val_acc: 0.9736\n",
      "Epoch 6/10\n",
      "60000/60000 [==============================] - 3s 58us/step - loss: 0.0550 - acc: 0.9821 - val_loss: 0.0874 - val_acc: 0.9732\n",
      "Epoch 7/10\n",
      "60000/60000 [==============================] - 4s 62us/step - loss: 0.0459 - acc: 0.9855 - val_loss: 0.0805 - val_acc: 0.9756\n",
      "Epoch 8/10\n",
      "60000/60000 [==============================] - 3s 56us/step - loss: 0.0417 - acc: 0.9867 - val_loss: 0.0831 - val_acc: 0.9774\n",
      "Epoch 9/10\n",
      "60000/60000 [==============================] - 3s 57us/step - loss: 0.0355 - acc: 0.9886 - val_loss: 0.0932 - val_acc: 0.9741\n",
      "Epoch 10/10\n",
      "60000/60000 [==============================] - 3s 55us/step - loss: 0.0310 - acc: 0.9900 - val_loss: 0.1092 - val_acc: 0.9689\n"
     ]
    },
    {
     "data": {
      "text/plain": [
       "<keras.callbacks.History at 0x181c619eb8>"
      ]
     },
     "execution_count": 29,
     "metadata": {},
     "output_type": "execute_result"
    }
   ],
   "source": [
    "new_model.fit(x_train, y_train, \n",
    "              batch_size=64, epochs=10,\n",
    "              validation_data=(x_test, y_test))"
   ]
  },
  {
   "cell_type": "code",
   "execution_count": 30,
   "metadata": {},
   "outputs": [
    {
     "name": "stdout",
     "output_type": "stream",
     "text": [
      "10000/10000 [==============================] - 0s 47us/step\n"
     ]
    },
    {
     "data": {
      "text/plain": [
       "[0.10917768526925938, 0.96889999999999998]"
      ]
     },
     "execution_count": 30,
     "metadata": {},
     "output_type": "execute_result"
    }
   ],
   "source": [
    "new_model.evaluate(x_test, y_test, verbose=1)"
   ]
  }
 ],
 "metadata": {
  "kernelspec": {
   "display_name": "Python 3",
   "language": "python",
   "name": "python3"
  },
  "language_info": {
   "codemirror_mode": {
    "name": "ipython",
    "version": 3
   },
   "file_extension": ".py",
   "mimetype": "text/x-python",
   "name": "python",
   "nbconvert_exporter": "python",
   "pygments_lexer": "ipython3",
   "version": "3.6.3"
  }
 },
 "nbformat": 4,
 "nbformat_minor": 2
}
