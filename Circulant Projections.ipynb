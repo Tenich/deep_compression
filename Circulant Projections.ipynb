{
 "cells": [
  {
   "cell_type": "code",
   "execution_count": 1,
   "metadata": {
    "collapsed": true
   },
   "outputs": [],
   "source": [
    "# import os\n",
    "# os.environ[\"CUDA_DEVICE_ORDER\"] = \"PCI_BUS_ID\"   # see issue #152\n",
    "# os.environ[\"CUDA_VISIBLE_DEVICES\"] = \"-1\""
   ]
  },
  {
   "cell_type": "code",
   "execution_count": 1,
   "metadata": {
    "collapsed": false
   },
   "outputs": [
    {
     "name": "stderr",
     "output_type": "stream",
     "text": [
      "Using Theano backend.\n",
      "WARNING (theano.tensor.blas): Using NumPy C-API based implementation for BLAS functions.\n"
     ]
    }
   ],
   "source": [
    "from keras import backend as K\n",
    "from keras.engine.topology import Layer\n",
    "from keras.models import Sequential\n",
    "from keras.layers import Dense, Activation, InputLayer\n",
    "import keras\n",
    "\n",
    "from sklearn import datasets, model_selection, preprocessing, metrics\n",
    "\n",
    "import numpy as np\n",
    "\n",
    "import theano\n",
    "\n",
    "\n"
   ]
  },
  {
   "cell_type": "markdown",
   "metadata": {},
   "source": [
    "## Implementing circulant layer"
   ]
  },
  {
   "cell_type": "code",
   "execution_count": 2,
   "metadata": {
    "collapsed": false
   },
   "outputs": [
    {
     "data": {
      "text/plain": [
       "array([[[ 1,  4,  9],\n",
       "        [ 3,  8, 15]],\n",
       "\n",
       "       [[ 2,  6, 12],\n",
       "        [ 6, 12, 20]]])"
      ]
     },
     "execution_count": 2,
     "metadata": {},
     "output_type": "execute_result"
    }
   ],
   "source": [
    "a = np.array([[1,2,3], [2,3,4]])\n",
    "a= a[:,None,:]\n",
    "b = np.array([[[1,2,3], [3,4,5]],[[1,2,3], [3,4,5]]])\n",
    "a*b"
   ]
  },
  {
   "cell_type": "code",
   "execution_count": 3,
   "metadata": {
    "collapsed": false
   },
   "outputs": [
    {
     "data": {
      "text/plain": [
       "array([[[1, 2, 3],\n",
       "        [3, 4, 5]],\n",
       "\n",
       "       [[1, 2, 3],\n",
       "        [3, 4, 5]],\n",
       "\n",
       "       [[1, 2, 3],\n",
       "        [3, 4, 5]]])"
      ]
     },
     "execution_count": 3,
     "metadata": {},
     "output_type": "execute_result"
    }
   ],
   "source": [
    "a=np.array([[1,2,3], [3,4,5]])\n",
    "np.tile(a, (3, 1,1))"
   ]
  },
  {
   "cell_type": "code",
   "execution_count": 4,
   "metadata": {
    "collapsed": true
   },
   "outputs": [],
   "source": [
    "def circulant_convolution_op(r, X):\n",
    "    rfft = np.fft.rfft(r)\n",
    "    Xfft = np.fft.rfft(X)\n",
    "    return np.fft.irfft(rfft*Xfft)\n",
    "\n",
    "def circulant_convolution_grad_X(r, X):\n",
    "    rfft = np.fft.rfft(r)\n",
    "    Xfft = np.fft.rfft(X)\n",
    "    return np.fft.irfft(rfft*Xfft)\n",
    "\n"
   ]
  },
  {
   "cell_type": "code",
   "execution_count": 79,
   "metadata": {
    "collapsed": false
   },
   "outputs": [],
   "source": [
    "class CirculantConvolutionGradientHelperOp(theano.Op):\n",
    "    def __init__(self):\n",
    "        super(CirculantConvolutionGradientHelperOp, self).__init__()\n",
    "\n",
    "    def make_node(self, X, O):\n",
    "        X = theano.tensor.as_tensor_variable(X)\n",
    "        O = theano.tensor.as_tensor_variable(O)\n",
    "\n",
    "        return theano.Apply(self, [X, O], [O.type()])\n",
    "\n",
    "    def perform(self, node, inputs, output_storage):\n",
    "        X = inputs[0][:, None, :]\n",
    "        O = inputs[1]\n",
    "        O = O.T\n",
    "        \n",
    "        Offt = np.fft.rfft(O)\n",
    "        Offt = np.tile(Offt, (X.shape[0],1,1))\n",
    "        \n",
    "        Xfft = np.fft.rfft(X)\n",
    "        \n",
    "        XOprod = np.fft.irfft(Xfft*Offt)\n",
    "        \n",
    "        z[0] = np.swapaxes(XOprod, 1,2)\n",
    "\n",
    "    def infer_shape(self, node, input_shapes):\n",
    "        return [(input_shapes[0][0], input_shapes[0][1], input_shapes[1][1])]   "
   ]
  },
  {
   "cell_type": "code",
   "execution_count": 83,
   "metadata": {
    "collapsed": true
   },
   "outputs": [],
   "source": [
    "class CirculantConvolutionOp(theano.Op):\n",
    "    def __init__(self):\n",
    "        super(CirculantConvolutionOp, self).__init__()\n",
    "\n",
    "    def make_node(self, r, X):\n",
    "        r = theano.tensor.as_tensor_variable(r)\n",
    "        X = theano.tensor.as_tensor_variable(X)\n",
    "        return theano.Apply(self, [r, X], [X.type()])\n",
    "\n",
    "    def perform(self, node, inputs, output_storage):\n",
    "        r = inputs[0]\n",
    "        X = inputs[1]\n",
    "        \n",
    "        rfft = np.fft.rfft(r)\n",
    "        Xfft = np.fft.rfft(X)\n",
    "        \n",
    "        result = np.fft.irfft(rfft*Xfft)\n",
    "        \n",
    "        z = output_storage[0]\n",
    "        z[0] = result\n",
    "\n",
    "    def infer_shape(self, node, input_shapes):\n",
    "        return [input_shapes[1]]\n",
    "\n",
    "    def grad(self, inputs, output_grads):\n",
    "        r = inputs[0]\n",
    "        X = inputs[1]\n",
    "        \n",
    "        #grad for r\n",
    "        grad_for_r_op = CirculantConvolutionGradientHelperOp()\n",
    "        grad_r = grad_for_r_op(X, output_grads[0])\n",
    "        \n",
    "        #grad for X\n",
    "        grad_for_X_op = CirculantConvolutionOp()\n",
    "        grad_for_one_sample = grad_for_X_op(r, output_grads[0].T).T\n",
    "        grad_X=theano.tensor.tile(grad_for_one_sample, (X.shape[0],1,1))\n",
    "        \n",
    "        return [grad_X, grad_r]"
   ]
  },
  {
   "cell_type": "code",
   "execution_count": 84,
   "metadata": {
    "collapsed": false
   },
   "outputs": [
    {
     "name": "stdout",
     "output_type": "stream",
     "text": [
      "[[ 5.  4.]\n",
      " [ 0.  0.]]\n"
     ]
    }
   ],
   "source": [
    "r = theano.tensor.dvector()\n",
    "X = theano.tensor.dmatrix()\n",
    "conv_op = CirculantConvolutionOp()\n",
    "f = theano.function([r, X], conv_op(r, X))\n",
    "\n",
    "print(f([1,2], [[1,2],[0,0]]))"
   ]
  },
  {
   "cell_type": "code",
   "execution_count": 85,
   "metadata": {
    "collapsed": false
   },
   "outputs": [
    {
     "ename": "ValueError",
     "evalue": "<__main__.CirculantConvolutionOp object at 0x000001B653FD33C8>.grad returned a term with 3 dimensions, but 1 are required.",
     "output_type": "error",
     "traceback": [
      "\u001b[0;31m---------------------------------------------------------------------------\u001b[0m",
      "\u001b[0;31mValueError\u001b[0m                                Traceback (most recent call last)",
      "\u001b[0;32m<ipython-input-85-764e02b75fb1>\u001b[0m in \u001b[0;36m<module>\u001b[0;34m()\u001b[0m\n\u001b[1;32m      4\u001b[0m                              rng=np.random.RandomState())\n\u001b[1;32m      5\u001b[0m \u001b[1;33m\u001b[0m\u001b[0m\n\u001b[0;32m----> 6\u001b[0;31m \u001b[0mtest_grad\u001b[0m\u001b[1;33m(\u001b[0m\u001b[1;33m)\u001b[0m\u001b[1;33m\u001b[0m\u001b[0m\n\u001b[0m",
      "\u001b[0;32m<ipython-input-85-764e02b75fb1>\u001b[0m in \u001b[0;36mtest_grad\u001b[0;34m()\u001b[0m\n\u001b[1;32m      2\u001b[0m     theano.tensor.verify_grad(conv_op,\n\u001b[1;32m      3\u001b[0m                               \u001b[1;33m[\u001b[0m\u001b[0mnp\u001b[0m\u001b[1;33m.\u001b[0m\u001b[0marray\u001b[0m\u001b[1;33m(\u001b[0m\u001b[1;33m[\u001b[0m\u001b[1;36m1\u001b[0m\u001b[1;33m,\u001b[0m\u001b[1;36m2\u001b[0m\u001b[1;33m]\u001b[0m\u001b[1;33m,\u001b[0m \u001b[0mdtype\u001b[0m\u001b[1;33m=\u001b[0m\u001b[0mnp\u001b[0m\u001b[1;33m.\u001b[0m\u001b[0mfloat32\u001b[0m\u001b[1;33m)\u001b[0m\u001b[1;33m,\u001b[0m \u001b[0mnp\u001b[0m\u001b[1;33m.\u001b[0m\u001b[0marray\u001b[0m\u001b[1;33m(\u001b[0m\u001b[1;33m[\u001b[0m\u001b[1;33m[\u001b[0m\u001b[1;36m1\u001b[0m\u001b[1;33m,\u001b[0m\u001b[1;36m2\u001b[0m\u001b[1;33m]\u001b[0m\u001b[1;33m,\u001b[0m\u001b[1;33m[\u001b[0m\u001b[1;36m0\u001b[0m\u001b[1;33m,\u001b[0m\u001b[1;36m0\u001b[0m\u001b[1;33m]\u001b[0m\u001b[1;33m]\u001b[0m\u001b[1;33m,\u001b[0m \u001b[0mdtype\u001b[0m\u001b[1;33m=\u001b[0m\u001b[0mnp\u001b[0m\u001b[1;33m.\u001b[0m\u001b[0mfloat32\u001b[0m\u001b[1;33m)\u001b[0m\u001b[1;33m]\u001b[0m\u001b[1;33m,\u001b[0m\u001b[1;33m\u001b[0m\u001b[0m\n\u001b[0;32m----> 4\u001b[0;31m                              rng=np.random.RandomState())\n\u001b[0m\u001b[1;32m      5\u001b[0m \u001b[1;33m\u001b[0m\u001b[0m\n\u001b[1;32m      6\u001b[0m \u001b[0mtest_grad\u001b[0m\u001b[1;33m(\u001b[0m\u001b[1;33m)\u001b[0m\u001b[1;33m\u001b[0m\u001b[0m\n",
      "\u001b[0;32mC:\\Users\\emptysamurai\\Anaconda2\\envs\\py35\\lib\\site-packages\\theano\\gradient.py\u001b[0m in \u001b[0;36mverify_grad\u001b[0;34m(fun, pt, n_tests, rng, eps, out_type, abs_tol, rel_tol, mode, cast_to_output_type, no_debug_ref)\u001b[0m\n\u001b[1;32m   1768\u001b[0m \u001b[1;33m\u001b[0m\u001b[0m\n\u001b[1;32m   1769\u001b[0m     symbolic_grad = grad(cost, tensor_pt,\n\u001b[0;32m-> 1770\u001b[0;31m                          disconnected_inputs='ignore')\n\u001b[0m\u001b[1;32m   1771\u001b[0m \u001b[1;33m\u001b[0m\u001b[0m\n\u001b[1;32m   1772\u001b[0m     grad_fn = function(tensor_pt, symbolic_grad,\n",
      "\u001b[0;32mC:\\Users\\emptysamurai\\Anaconda2\\envs\\py35\\lib\\site-packages\\theano\\gradient.py\u001b[0m in \u001b[0;36mgrad\u001b[0;34m(cost, wrt, consider_constant, disconnected_inputs, add_names, known_grads, return_disconnected, null_gradients)\u001b[0m\n\u001b[1;32m    603\u001b[0m \u001b[1;33m\u001b[0m\u001b[0m\n\u001b[1;32m    604\u001b[0m     rval = _populate_grad_dict(var_to_app_to_idx,\n\u001b[0;32m--> 605\u001b[0;31m                                grad_dict, wrt, cost_name)\n\u001b[0m\u001b[1;32m    606\u001b[0m \u001b[1;33m\u001b[0m\u001b[0m\n\u001b[1;32m    607\u001b[0m     \u001b[1;32mfor\u001b[0m \u001b[0mi\u001b[0m \u001b[1;32min\u001b[0m \u001b[0mxrange\u001b[0m\u001b[1;33m(\u001b[0m\u001b[0mlen\u001b[0m\u001b[1;33m(\u001b[0m\u001b[0mrval\u001b[0m\u001b[1;33m)\u001b[0m\u001b[1;33m)\u001b[0m\u001b[1;33m:\u001b[0m\u001b[1;33m\u001b[0m\u001b[0m\n",
      "\u001b[0;32mC:\\Users\\emptysamurai\\Anaconda2\\envs\\py35\\lib\\site-packages\\theano\\gradient.py\u001b[0m in \u001b[0;36m_populate_grad_dict\u001b[0;34m(var_to_app_to_idx, grad_dict, wrt, cost_name)\u001b[0m\n\u001b[1;32m   1369\u001b[0m         \u001b[1;32mreturn\u001b[0m \u001b[0mgrad_dict\u001b[0m\u001b[1;33m[\u001b[0m\u001b[0mvar\u001b[0m\u001b[1;33m]\u001b[0m\u001b[1;33m\u001b[0m\u001b[0m\n\u001b[1;32m   1370\u001b[0m \u001b[1;33m\u001b[0m\u001b[0m\n\u001b[0;32m-> 1371\u001b[0;31m     \u001b[0mrval\u001b[0m \u001b[1;33m=\u001b[0m \u001b[1;33m[\u001b[0m\u001b[0maccess_grad_cache\u001b[0m\u001b[1;33m(\u001b[0m\u001b[0melem\u001b[0m\u001b[1;33m)\u001b[0m \u001b[1;32mfor\u001b[0m \u001b[0melem\u001b[0m \u001b[1;32min\u001b[0m \u001b[0mwrt\u001b[0m\u001b[1;33m]\u001b[0m\u001b[1;33m\u001b[0m\u001b[0m\n\u001b[0m\u001b[1;32m   1372\u001b[0m \u001b[1;33m\u001b[0m\u001b[0m\n\u001b[1;32m   1373\u001b[0m     \u001b[1;32mreturn\u001b[0m \u001b[0mrval\u001b[0m\u001b[1;33m\u001b[0m\u001b[0m\n",
      "\u001b[0;32mC:\\Users\\emptysamurai\\Anaconda2\\envs\\py35\\lib\\site-packages\\theano\\gradient.py\u001b[0m in \u001b[0;36m<listcomp>\u001b[0;34m(.0)\u001b[0m\n\u001b[1;32m   1369\u001b[0m         \u001b[1;32mreturn\u001b[0m \u001b[0mgrad_dict\u001b[0m\u001b[1;33m[\u001b[0m\u001b[0mvar\u001b[0m\u001b[1;33m]\u001b[0m\u001b[1;33m\u001b[0m\u001b[0m\n\u001b[1;32m   1370\u001b[0m \u001b[1;33m\u001b[0m\u001b[0m\n\u001b[0;32m-> 1371\u001b[0;31m     \u001b[0mrval\u001b[0m \u001b[1;33m=\u001b[0m \u001b[1;33m[\u001b[0m\u001b[0maccess_grad_cache\u001b[0m\u001b[1;33m(\u001b[0m\u001b[0melem\u001b[0m\u001b[1;33m)\u001b[0m \u001b[1;32mfor\u001b[0m \u001b[0melem\u001b[0m \u001b[1;32min\u001b[0m \u001b[0mwrt\u001b[0m\u001b[1;33m]\u001b[0m\u001b[1;33m\u001b[0m\u001b[0m\n\u001b[0m\u001b[1;32m   1372\u001b[0m \u001b[1;33m\u001b[0m\u001b[0m\n\u001b[1;32m   1373\u001b[0m     \u001b[1;32mreturn\u001b[0m \u001b[0mrval\u001b[0m\u001b[1;33m\u001b[0m\u001b[0m\n",
      "\u001b[0;32mC:\\Users\\emptysamurai\\Anaconda2\\envs\\py35\\lib\\site-packages\\theano\\gradient.py\u001b[0m in \u001b[0;36maccess_grad_cache\u001b[0;34m(var)\u001b[0m\n\u001b[1;32m   1344\u001b[0m                                 (\"%s.grad returned a term with\"\n\u001b[1;32m   1345\u001b[0m                                  \u001b[1;34m\" %d dimensions, but %d are required.\"\u001b[0m\u001b[1;33m)\u001b[0m \u001b[1;33m%\u001b[0m \u001b[1;33m(\u001b[0m\u001b[1;33m\u001b[0m\u001b[0m\n\u001b[0;32m-> 1346\u001b[0;31m                                      str(node.op), term.ndim, var.ndim))\n\u001b[0m\u001b[1;32m   1347\u001b[0m \u001b[1;33m\u001b[0m\u001b[0m\n\u001b[1;32m   1348\u001b[0m                         \u001b[0mterms\u001b[0m\u001b[1;33m.\u001b[0m\u001b[0mappend\u001b[0m\u001b[1;33m(\u001b[0m\u001b[0mterm\u001b[0m\u001b[1;33m)\u001b[0m\u001b[1;33m\u001b[0m\u001b[0m\n",
      "\u001b[0;31mValueError\u001b[0m: <__main__.CirculantConvolutionOp object at 0x000001B653FD33C8>.grad returned a term with 3 dimensions, but 1 are required."
     ]
    }
   ],
   "source": [
    "def test_grad():\n",
    "    theano.tensor.verify_grad(conv_op,\n",
    "                              [np.array([1,2], dtype=np.float32), np.array([[1,2],[0,0]], dtype=np.float32)],\n",
    "                             rng=np.random.RandomState())\n",
    "    \n",
    "test_grad()"
   ]
  },
  {
   "cell_type": "code",
   "execution_count": null,
   "metadata": {
    "collapsed": true
   },
   "outputs": [],
   "source": [
    "from theano.tests import unittest_tools as utt\n",
    "from theano import config"
   ]
  },
  {
   "cell_type": "code",
   "execution_count": 11,
   "metadata": {
    "collapsed": false
   },
   "outputs": [],
   "source": [
    "class CirculantLayer(Layer):\n",
    "\n",
    "    def __init__(self, output_dim,  **kwargs):\n",
    "        self.output_dim = output_dim\n",
    "        super(CirculantLayer, self).__init__(**kwargs)\n",
    "\n",
    "    def build(self, input_shape):\n",
    "        # Create a trainable weight variable for this layer.\n",
    "        self.sign_flipping = np.random.randint(0,2, size = input_shape[1])\n",
    "        self.sign_flipping = (self.sign_flipping*2-1).astype(np.float32)\n",
    "        \n",
    "        self.input_dim = input_shape[1]\n",
    "        \n",
    "        circulant_vec_shape = (self.input_dim,)\n",
    "        if self.input_dim<self.output_dim:\n",
    "            circulant_vec_shape = (self.output_dim,)\n",
    "        \n",
    "        self.circulant_vec = self.add_weight(name='circulant_vec', \n",
    "                                      shape=circulant_vec_shape,\n",
    "                                      initializer='uniform',\n",
    "                                      trainable=True)\n",
    "        super(CirculantLayer, self).build(input_shape)  # Be sure to call this somewhere!\n",
    "\n",
    "    def call(self, x):\n",
    "        x = K.tf.multiply(x, K.tf.constant(self.sign_flipping))  \n",
    "        \n",
    "        if self.input_dim<self.output_dim:\n",
    "            paddings = K.tf.constant([[0, 0], [0, self.output_dim-self.input_dim]])\n",
    "            x = K.tf.pad(x, paddings)\n",
    "        \n",
    "        r = self.circulant_vec\n",
    "        \n",
    "        xfft = K.tf.spectral.rfft(x)\n",
    "        Rfft = K.tf.spectral.rfft(self.circulant_vec)\n",
    "        \n",
    "        Rx = K.tf.spectral.irfft(K.tf.multiply(xfft, Rfft))\n",
    "        \n",
    "        if self.input_dim>self.output_dim:\n",
    "            Rx = Rx[:, :self.output_dim]\n",
    "        \n",
    "        return Rx\n",
    "\n",
    "    def compute_output_shape(self, input_shape):\n",
    "        return (input_shape[0], self.output_dim)"
   ]
  },
  {
   "cell_type": "code",
   "execution_count": 4,
   "metadata": {
    "collapsed": true
   },
   "outputs": [],
   "source": [
    "# class CirculantLayer(Layer):\n",
    "\n",
    "#     def __init__(self, output_dim,  **kwargs):\n",
    "#         self.output_dim = output_dim\n",
    "#         super(CirculantLayer, self).__init__(**kwargs)\n",
    "\n",
    "#     def build(self, input_shape):\n",
    "#         # Create a trainable weight variable for this layer.\n",
    "#         self.sign_flipping = np.random.randint(0,2, size = input_shape[1])\n",
    "#         self.sign_flipping = (self.sign_flipping*2-1).astype(np.float32)\n",
    "        \n",
    "#         self.input_dim = input_shape[1]\n",
    "        \n",
    "#         circulant_vec_shape = (self.input_dim,)\n",
    "#         if self.input_dim<self.output_dim:\n",
    "#             circulant_vec_shape = (self.output_dim,)\n",
    "        \n",
    "#         self.circulant_vec = self.add_weight(name='circulant_vec', \n",
    "#                                       shape=circulant_vec_shape,\n",
    "#                                       initializer='uniform',\n",
    "#                                       trainable=True)\n",
    "#         super(CirculantLayer, self).build(input_shape)  # Be sure to call this somewhere!\n",
    "\n",
    "#     def call(self, x):\n",
    "#         x =  K.T.as_tensor_variable(self.sign_flipping) * x  \n",
    "        \n",
    "#         if self.input_dim<self.output_dim:\n",
    "#             zeros = K.T.zeros((x.shape[0], self.output_dim))\n",
    "#             x = K.T.set_subtensor(zeros[:,:self.input_dim], x)\n",
    "        \n",
    "#         r = self.circulant_vec\n",
    "        \n",
    "#         xfft = K.T.fft.rfft(x)\n",
    "#         Rfft = K.T.fft.rfft(self.circulant_vec.reshape((1,-1)))\n",
    "        \n",
    "#         Rx = K.T.fft.irfft(Rfft[0] * xfft)\n",
    "        \n",
    "#         if self.input_dim>self.output_dim:\n",
    "#             Rx = Rx[:, :self.output_dim]\n",
    "        \n",
    "#         return Rx\n",
    "\n",
    "#     def compute_output_shape(self, input_shape):\n",
    "#         return (input_shape[0], self.output_dim)"
   ]
  },
  {
   "cell_type": "markdown",
   "metadata": {
    "collapsed": false
   },
   "source": [
    "## Testing on digits dataset"
   ]
  },
  {
   "cell_type": "code",
   "execution_count": 12,
   "metadata": {
    "collapsed": false
   },
   "outputs": [],
   "source": [
    "digits = datasets.load_digits()\n",
    "n_samples = len(digits.images)\n",
    "X = digits.images.reshape((n_samples, -1))\n",
    "le = preprocessing.OneHotEncoder()\n",
    "y = le.fit_transform(digits.target.reshape(-1, 1)).todense()"
   ]
  },
  {
   "cell_type": "code",
   "execution_count": 13,
   "metadata": {
    "collapsed": false
   },
   "outputs": [],
   "source": [
    "X_train, X_test, y_train, y_test = model_selection.train_test_split(X, y, test_size=0.33, random_state=42)"
   ]
  },
  {
   "cell_type": "code",
   "execution_count": 35,
   "metadata": {
    "collapsed": false
   },
   "outputs": [],
   "source": [
    "def fit_circulant():\n",
    "    model = Sequential()\n",
    "    model.add(Dense(1000, input_shape=[X.shape[1]]))\n",
    "    model.add(Activation('relu'))\n",
    "    model.add(CirculantLayer(1000))\n",
    "    model.add(Activation('relu'))\n",
    "    model.add(CirculantLayer(1000))\n",
    "    model.add(Activation('relu'))\n",
    "    model.add(Dense(10))\n",
    "    model.add(Activation('sigmoid'))\n",
    "\n",
    "    model.compile(optimizer='adam',\n",
    "                  loss='categorical_crossentropy',\n",
    "                  metrics=['accuracy'])\n",
    "    model.fit(X_train, y_train, verbose = 0)\n",
    "    return model"
   ]
  },
  {
   "cell_type": "code",
   "execution_count": 36,
   "metadata": {
    "collapsed": true
   },
   "outputs": [],
   "source": [
    "def fit_dense():\n",
    "    model = Sequential()\n",
    "    model.add(Dense(1000, input_shape=[X.shape[1]]))\n",
    "    model.add(Activation('relu'))\n",
    "    model.add(Dense(1000))\n",
    "    model.add(Activation('relu'))\n",
    "    model.add(Dense(1000))\n",
    "    model.add(Activation('relu'))\n",
    "    model.add(Dense(10))\n",
    "    model.add(Activation('sigmoid'))\n",
    "\n",
    "    model.compile(optimizer='adam',\n",
    "                  loss='categorical_crossentropy',\n",
    "                  metrics=['accuracy'])\n",
    "    model.fit(X_train, y_train, verbose=0)\n",
    "    return model"
   ]
  },
  {
   "cell_type": "code",
   "execution_count": 37,
   "metadata": {
    "collapsed": false
   },
   "outputs": [
    {
     "name": "stdout",
     "output_type": "stream",
     "text": [
      "2 loops, best of 3: 9.02 s per loop\n"
     ]
    }
   ],
   "source": [
    "%timeit -n 2 fit_dense()"
   ]
  },
  {
   "cell_type": "code",
   "execution_count": 38,
   "metadata": {
    "collapsed": false,
    "scrolled": false
   },
   "outputs": [
    {
     "name": "stdout",
     "output_type": "stream",
     "text": [
      "2 loops, best of 3: 11.1 s per loop\n"
     ]
    }
   ],
   "source": [
    "%timeit -n 2 fit_circulant()"
   ]
  },
  {
   "cell_type": "code",
   "execution_count": 30,
   "metadata": {
    "collapsed": false
   },
   "outputs": [],
   "source": [
    "dense_model = fit_dense()\n",
    "circulant_model = fit_circulant()"
   ]
  },
  {
   "cell_type": "code",
   "execution_count": 39,
   "metadata": {
    "collapsed": false
   },
   "outputs": [
    {
     "name": "stdout",
     "output_type": "stream",
     "text": [
      "10 loops, best of 3: 32.2 ms per loop\n"
     ]
    }
   ],
   "source": [
    "%timeit dense_model.predict(X_test)"
   ]
  },
  {
   "cell_type": "code",
   "execution_count": 40,
   "metadata": {
    "collapsed": false
   },
   "outputs": [
    {
     "name": "stdout",
     "output_type": "stream",
     "text": [
      "10 loops, best of 3: 92.5 ms per loop\n"
     ]
    }
   ],
   "source": [
    "%timeit circulant_model.predict(X_test)"
   ]
  },
  {
   "cell_type": "code",
   "execution_count": null,
   "metadata": {
    "collapsed": false
   },
   "outputs": [],
   "source": [
    "K.eval(K.mean(keras.metrics.categorical_accuracy(K.variable(y_test), K.variable(dense_model.predict(X_test)))))"
   ]
  },
  {
   "cell_type": "code",
   "execution_count": null,
   "metadata": {
    "collapsed": false
   },
   "outputs": [],
   "source": [
    "K.eval(K.mean(keras.metrics.categorical_accuracy(K.variable(y_test), K.variable(circulant_model.predict(X_test)))))"
   ]
  },
  {
   "cell_type": "code",
   "execution_count": null,
   "metadata": {
    "collapsed": true
   },
   "outputs": [],
   "source": []
  }
 ],
 "metadata": {
  "kernelspec": {
   "display_name": "Python 3",
   "language": "python",
   "name": "python3"
  },
  "language_info": {
   "codemirror_mode": {
    "name": "ipython",
    "version": 3
   },
   "file_extension": ".py",
   "mimetype": "text/x-python",
   "name": "python",
   "nbconvert_exporter": "python",
   "pygments_lexer": "ipython3",
   "version": "3.5.2"
  }
 },
 "nbformat": 4,
 "nbformat_minor": 2
}
