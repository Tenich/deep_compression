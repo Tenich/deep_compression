{
 "cells": [
  {
   "cell_type": "code",
   "execution_count": 1,
   "metadata": {},
   "outputs": [
    {
     "name": "stderr",
     "output_type": "stream",
     "text": [
      "Using Theano backend.\n",
      "WARNING (theano.tensor.blas): Using NumPy C-API based implementation for BLAS functions.\n"
     ]
    }
   ],
   "source": [
    "from keras import backend as K\n",
    "from keras.engine.topology import Layer\n",
    "from keras.models import Sequential\n",
    "from keras.layers import Dense, Activation, Dropout\n",
    "from keras.optimizers import RMSprop\n",
    "import keras\n",
    "\n",
    "from sklearn import datasets, model_selection, preprocessing\n",
    "\n",
    "import numpy as np\n",
    "\n",
    "import theano\n",
    "import theano.tensor as T\n",
    "\n",
    "import scipy\n",
    "from scipy.fftpack import fft, ifft\n",
    "\n",
    "import time\n",
    "from tqdm import tqdm_notebook\n",
    "\n",
    "import matplotlib.pyplot as plt\n",
    "%matplotlib inline\n",
    "\n",
    "from pylab import rcParams\n",
    "rcParams['figure.figsize'] = 10, 10"
   ]
  },
  {
   "cell_type": "markdown",
   "metadata": {},
   "source": [
    "## Comparing numpy and scipy FFT"
   ]
  },
  {
   "cell_type": "code",
   "execution_count": 2,
   "metadata": {},
   "outputs": [],
   "source": [
    "def numpy_fft(x):\n",
    "    #numpy doesn't preserve dtype\n",
    "    return np.fft.fft(np.fft.fft(x)*np.fft.fft(x)).real.astype(np.float32)\n",
    "\n",
    "def scipy_fft(x):\n",
    "    #scipy preserves dtype\n",
    "    return scipy.fftpack.ifft(scipy.fftpack.fft(x)*scipy.fftpack.fft(x)).real"
   ]
  },
  {
   "cell_type": "code",
   "execution_count": 3,
   "metadata": {},
   "outputs": [
    {
     "name": "stdout",
     "output_type": "stream",
     "text": [
      "10 loops, best of 3: 104 ms per loop\n",
      "10 loops, best of 3: 44.1 ms per loop\n"
     ]
    }
   ],
   "source": [
    "x=np.random.random(size=(1000,1000)).astype(np.float32)\n",
    "\n",
    "%timeit numpy_fft(x)\n",
    "%timeit scipy_fft(x)"
   ]
  },
  {
   "cell_type": "markdown",
   "metadata": {},
   "source": [
    "## Implementing circulant layer"
   ]
  },
  {
   "cell_type": "markdown",
   "metadata": {},
   "source": [
    "### Theano forward and gradient operations "
   ]
  },
  {
   "cell_type": "code",
   "execution_count": 4,
   "metadata": {},
   "outputs": [],
   "source": [
    "class CirculantConvolutionGradientOp(theano.Op):\n",
    "    def __init__(self):\n",
    "        super(CirculantConvolutionGradientOp, self).__init__()\n",
    "\n",
    "    def make_node(self, r, X, O):\n",
    "        r = T.as_tensor_variable(r)\n",
    "        X = T.as_tensor_variable(X)\n",
    "        O = T.as_tensor_variable(O)\n",
    "\n",
    "        return theano.Apply(self, [r, X, O], [T.vector(), T.matrix()])\n",
    "\n",
    "    def perform(self, node, inputs, output_storage):\n",
    "        \n",
    "        r = inputs[0]\n",
    "        X = inputs[1]        \n",
    "        O = inputs[2]\n",
    "        \n",
    "        Offt = fft(O)        \n",
    "\n",
    "        X_flipped_shifted = np.roll(X[:,::-1],1, axis=1)\n",
    "        Xfft = fft(X_flipped_shifted)        \n",
    "        XOconv = ifft(Xfft*Offt).real\n",
    "        grad_r = np.sum(XOconv, axis=0)\n",
    "        \n",
    "        Rfft = fft(r)\n",
    "        grad_X = ifft(Rfft*Offt).real\n",
    "\n",
    "        output_storage[0][0] = grad_r\n",
    "        output_storage[1][0] = grad_X\n",
    "\n",
    "    def infer_shape(self, node, input_shapes):\n",
    "        return [input_shapes[0], input_shapes[1]]"
   ]
  },
  {
   "cell_type": "code",
   "execution_count": 5,
   "metadata": {},
   "outputs": [],
   "source": [
    "class CirculantConvolutionOp(theano.Op):\n",
    "    def __init__(self):\n",
    "        super(CirculantConvolutionOp, self).__init__()\n",
    "\n",
    "    def make_node(self, r, X):\n",
    "        r = T.as_tensor_variable(r)\n",
    "        X = T.as_tensor_variable(X)\n",
    "        \n",
    "        assert r.ndim == 1\n",
    "        assert X.ndim == 2\n",
    "        \n",
    "        return theano.Apply(self, [r, X], [T.matrix()])\n",
    "\n",
    "    def perform(self, node, inputs, output_storage):\n",
    "        r = inputs[0]\n",
    "        X = inputs[1]\n",
    "        \n",
    "        Rfft = fft(r)\n",
    "        Xfft = fft(X)\n",
    "        \n",
    "        result = ifft(Rfft*Xfft).real\n",
    "        \n",
    "        output_storage[0][0] = result\n",
    "\n",
    "    def infer_shape(self, node, input_shapes):\n",
    "        return [input_shapes[1]]\n",
    "\n",
    "    def grad(self, inputs, output_grads):\n",
    "        r = inputs[0]\n",
    "        X = inputs[1]\n",
    "        O = output_grads[0]\n",
    "        \n",
    "        grad_op = CirculantConvolutionGradientOp()\n",
    "        return grad_op(r,X, O)"
   ]
  },
  {
   "cell_type": "code",
   "execution_count": 6,
   "metadata": {},
   "outputs": [
    {
     "name": "stdout",
     "output_type": "stream",
     "text": [
      "[[ 5.  4.]\n",
      " [ 3.  3.]\n",
      " [ 0.  0.]]\n"
     ]
    }
   ],
   "source": [
    "r = T.vector()\n",
    "X = T.matrix()\n",
    "conv_op = CirculantConvolutionOp()\n",
    "f = theano.function([r, X], conv_op(r, X))\n",
    "\n",
    "print(f([1,2], [[1,2],[1,1],[0,0]]))"
   ]
  },
  {
   "cell_type": "code",
   "execution_count": 7,
   "metadata": {},
   "outputs": [],
   "source": [
    "T.verify_grad(conv_op,[np.array([1,2], dtype=np.float32), np.array([[10,2],[1,0],[0,0]], dtype=np.float32)],\n",
    "                         rng=np.random.RandomState(), n_tests=20)"
   ]
  },
  {
   "cell_type": "markdown",
   "metadata": {},
   "source": [
    "### Implementing linear layer with circulant weights"
   ]
  },
  {
   "cell_type": "code",
   "execution_count": 8,
   "metadata": {},
   "outputs": [],
   "source": [
    "class CirculantLayer(Layer):\n",
    "\n",
    "    def __init__(self, output_dim, fit_intercept=False, **kwargs):\n",
    "        self.output_dim = output_dim\n",
    "        self.fit_intercept = fit_intercept\n",
    "        super(CirculantLayer, self).__init__(**kwargs)\n",
    "\n",
    "    def build(self, input_shape):\n",
    "        self.sign_flipping = np.random.randint(0,2, size = input_shape[1])\n",
    "        self.sign_flipping = (self.sign_flipping*2-1).astype(np.float32)\n",
    "        self.sign_flipping = K.T.as_tensor_variable(self.sign_flipping)\n",
    "        \n",
    "        self.input_dim = input_shape[1]\n",
    "        \n",
    "        circulant_vec_shape = (self.input_dim,)\n",
    "        if self.input_dim<self.output_dim:\n",
    "            circulant_vec_shape = (self.output_dim,)\n",
    "        \n",
    "        self.circulant_vec = self.add_weight(name='circulant_vec', \n",
    "                                      shape=circulant_vec_shape,\n",
    "                                      initializer='uniform',\n",
    "                                      trainable=True)     \n",
    "        \n",
    "        if self.fit_intercept:\n",
    "            self.bias = self.add_weight(name='bias', \n",
    "                                      shape=(self.output_dim,),\n",
    "                                      initializer='uniform',\n",
    "                                      trainable=True)\n",
    "        \n",
    "        super(CirculantLayer, self).build(input_shape) \n",
    "\n",
    "    def call(self, X):\n",
    "        X =  self.sign_flipping * X  \n",
    "        \n",
    "        if self.input_dim<self.output_dim:\n",
    "            zeros = K.T.zeros((X.shape[0], self.output_dim))\n",
    "            X = K.T.set_subtensor(zeros[:,:self.input_dim], X)\n",
    "        \n",
    "        r = self.circulant_vec\n",
    "\n",
    "        conv_op = CirculantConvolutionOp()\n",
    "        RX =conv_op(r, X)\n",
    "        \n",
    "        if self.input_dim>self.output_dim:\n",
    "            RX = RX[:, :self.output_dim]\n",
    "        \n",
    "        if self.fit_intercept:\n",
    "            RX = RX + self.bias\n",
    "        \n",
    "        return RX\n",
    "\n",
    "    def compute_output_shape(self, input_shape):\n",
    "        return (input_shape[0], self.output_dim)"
   ]
  },
  {
   "cell_type": "markdown",
   "metadata": {},
   "source": [
    "## Testing on digits dataset"
   ]
  },
  {
   "cell_type": "code",
   "execution_count": 9,
   "metadata": {},
   "outputs": [],
   "source": [
    "def model_memory(model):\n",
    "    return sum(w.nbytes for w in model.get_weights())"
   ]
  },
  {
   "cell_type": "code",
   "execution_count": 12,
   "metadata": {},
   "outputs": [],
   "source": [
    "digits = datasets.load_digits()\n",
    "n_samples = len(digits.images)\n",
    "X = digits.images.reshape((n_samples, -1))\n",
    "le = preprocessing.OneHotEncoder()\n",
    "y = le.fit_transform(digits.target.reshape(-1, 1)).todense()"
   ]
  },
  {
   "cell_type": "code",
   "execution_count": 13,
   "metadata": {},
   "outputs": [],
   "source": [
    "X_train, X_test, y_train, y_test = model_selection.train_test_split(X, y, test_size=0.33, random_state=42)"
   ]
  },
  {
   "cell_type": "code",
   "execution_count": 14,
   "metadata": {},
   "outputs": [],
   "source": [
    "def fit_circulant_digits():\n",
    "    model = Sequential()\n",
    "    model.add(CirculantLayer(1000, input_shape=[X.shape[1]]))\n",
    "    model.add(Activation('relu'))\n",
    "    model.add(CirculantLayer(1000))\n",
    "    model.add(Activation('relu'))\n",
    "    model.add(CirculantLayer(10))\n",
    "    model.add(Activation('sigmoid'))\n",
    "\n",
    "    model.compile(optimizer='adam',\n",
    "                  loss='categorical_crossentropy',\n",
    "                  metrics=['accuracy'])\n",
    "    model.fit(X_train, y_train, verbose = 0)\n",
    "    return model"
   ]
  },
  {
   "cell_type": "code",
   "execution_count": 15,
   "metadata": {},
   "outputs": [],
   "source": [
    "def fit_dense_digits():\n",
    "    model = Sequential()\n",
    "    model.add(Dense(1000, input_shape=[X.shape[1]]))\n",
    "    model.add(Activation('relu'))\n",
    "    model.add(Dense(1000))\n",
    "    model.add(Activation('relu'))\n",
    "    model.add(Dense(10))\n",
    "    model.add(Activation('sigmoid'))\n",
    "\n",
    "    model.compile(optimizer='adam',\n",
    "                  loss='categorical_crossentropy',\n",
    "                  metrics=['accuracy'])\n",
    "    model.fit(X_train, y_train, verbose=0)\n",
    "    return model"
   ]
  },
  {
   "cell_type": "code",
   "execution_count": 16,
   "metadata": {},
   "outputs": [
    {
     "name": "stdout",
     "output_type": "stream",
     "text": [
      "10 loops, best of 3: 7.92 s per loop\n"
     ]
    }
   ],
   "source": [
    "%timeit -n 10 fit_dense_digits()"
   ]
  },
  {
   "cell_type": "code",
   "execution_count": 17,
   "metadata": {
    "scrolled": false
   },
   "outputs": [
    {
     "name": "stdout",
     "output_type": "stream",
     "text": [
      "10 loops, best of 3: 4.94 s per loop\n"
     ]
    }
   ],
   "source": [
    "%timeit -n 10 fit_circulant_digits()"
   ]
  },
  {
   "cell_type": "code",
   "execution_count": 18,
   "metadata": {},
   "outputs": [],
   "source": [
    "circulant_model = fit_circulant_digits()"
   ]
  },
  {
   "cell_type": "code",
   "execution_count": 19,
   "metadata": {},
   "outputs": [],
   "source": [
    "dense_model = fit_dense_digits()"
   ]
  },
  {
   "cell_type": "code",
   "execution_count": 20,
   "metadata": {},
   "outputs": [
    {
     "name": "stdout",
     "output_type": "stream",
     "text": [
      "The slowest run took 4.59 times longer than the fastest. This could mean that an intermediate result is being cached.\n",
      "10 loops, best of 3: 33.7 ms per loop\n"
     ]
    }
   ],
   "source": [
    "%timeit dense_model.predict(X_test)"
   ]
  },
  {
   "cell_type": "code",
   "execution_count": 21,
   "metadata": {},
   "outputs": [
    {
     "name": "stdout",
     "output_type": "stream",
     "text": [
      "The slowest run took 4.07 times longer than the fastest. This could mean that an intermediate result is being cached.\n",
      "1 loop, best of 3: 56.2 ms per loop\n"
     ]
    }
   ],
   "source": [
    "%timeit circulant_model.predict(X_test)"
   ]
  },
  {
   "cell_type": "code",
   "execution_count": 22,
   "metadata": {},
   "outputs": [
    {
     "data": {
      "text/plain": [
       "358.67"
      ]
     },
     "execution_count": 22,
     "metadata": {},
     "output_type": "execute_result"
    }
   ],
   "source": [
    "model_memory(dense_model)/model_memory(circulant_model)"
   ]
  },
  {
   "cell_type": "code",
   "execution_count": 23,
   "metadata": {},
   "outputs": [
    {
     "name": "stdout",
     "output_type": "stream",
     "text": [
      "\r",
      " 32/594 [>.............................] - ETA: 0s"
     ]
    },
    {
     "data": {
      "text/plain": [
       "[0.056658413350544494, 0.98653198653198648]"
      ]
     },
     "execution_count": 23,
     "metadata": {},
     "output_type": "execute_result"
    }
   ],
   "source": [
    "dense_model.evaluate(X_test, y_test)"
   ]
  },
  {
   "cell_type": "code",
   "execution_count": 24,
   "metadata": {},
   "outputs": [
    {
     "name": "stdout",
     "output_type": "stream",
     "text": [
      "352/594 [================>.............] - ETA: 0s"
     ]
    },
    {
     "data": {
      "text/plain": [
       "[0.1273461569238592, 0.97306397306397308]"
      ]
     },
     "execution_count": 24,
     "metadata": {},
     "output_type": "execute_result"
    }
   ],
   "source": [
    "circulant_model.evaluate(X_test, y_test)"
   ]
  },
  {
   "cell_type": "markdown",
   "metadata": {},
   "source": [
    "## Testing on MNIST dataset"
   ]
  },
  {
   "cell_type": "code",
   "execution_count": 43,
   "metadata": {},
   "outputs": [],
   "source": [
    "from keras.datasets import mnist"
   ]
  },
  {
   "cell_type": "code",
   "execution_count": 44,
   "metadata": {},
   "outputs": [],
   "source": [
    "(x_train, y_train), (x_test, y_test) = mnist.load_data()"
   ]
  },
  {
   "cell_type": "code",
   "execution_count": 45,
   "metadata": {},
   "outputs": [
    {
     "name": "stdout",
     "output_type": "stream",
     "text": [
      "60000 train samples\n",
      "10000 test samples\n"
     ]
    }
   ],
   "source": [
    "x_train = x_train.reshape(60000, 784)\n",
    "x_test = x_test.reshape(10000, 784)\n",
    "x_train = x_train.astype('float32')\n",
    "x_test = x_test.astype('float32')\n",
    "x_train /= 255\n",
    "x_test /= 255\n",
    "print(x_train.shape[0], 'train samples')\n",
    "print(x_test.shape[0], 'test samples')"
   ]
  },
  {
   "cell_type": "code",
   "execution_count": 46,
   "metadata": {},
   "outputs": [],
   "source": [
    "batch_size = 128\n",
    "num_classes = 10\n",
    "epochs = 20"
   ]
  },
  {
   "cell_type": "code",
   "execution_count": 47,
   "metadata": {},
   "outputs": [],
   "source": [
    "y_train = keras.utils.to_categorical(y_train, num_classes)\n",
    "y_test = keras.utils.to_categorical(y_test, num_classes)"
   ]
  },
  {
   "cell_type": "code",
   "execution_count": 48,
   "metadata": {},
   "outputs": [],
   "source": [
    "def fit_model_mnist(Layer, x_train, y_train, dense_layer_size=512) :\n",
    "    model = Sequential()\n",
    "    model.add(Layer(dense_layer_size, input_shape=(784,)))\n",
    "    model.add(Activation('relu'))\n",
    "    model.add(Dropout(0.2))\n",
    "    model.add(Layer(dense_layer_size))\n",
    "    model.add(Activation('relu'))\n",
    "    model.add(Dropout(0.2))\n",
    "    model.add(Layer(num_classes))\n",
    "    model.add(Activation('softmax'))\n",
    "\n",
    "\n",
    "    model.compile(loss='categorical_crossentropy',\n",
    "                  optimizer=RMSprop(),\n",
    "                  metrics=['accuracy'])\n",
    "\n",
    "    start = time.time()\n",
    "    history = model.fit(x_train, y_train,\n",
    "                        batch_size=batch_size,\n",
    "                        epochs=epochs,\n",
    "                        verbose=2,)\n",
    "    end = time.time()\n",
    "\n",
    "    print(end - start,'s')\n",
    "    return model\n"
   ]
  },
  {
   "cell_type": "code",
   "execution_count": 49,
   "metadata": {},
   "outputs": [
    {
     "name": "stdout",
     "output_type": "stream",
     "text": [
      "Epoch 1/20\n",
      " - 9s - loss: 0.2463 - acc: 0.9247\n",
      "Epoch 2/20\n",
      " - 9s - loss: 0.1017 - acc: 0.9685\n",
      "Epoch 3/20\n",
      " - 10s - loss: 0.0748 - acc: 0.9781\n",
      "Epoch 4/20\n",
      " - 10s - loss: 0.0598 - acc: 0.9822\n",
      "Epoch 5/20\n",
      " - 10s - loss: 0.0506 - acc: 0.9848\n",
      "Epoch 6/20\n",
      " - 10s - loss: 0.0427 - acc: 0.9871\n",
      "Epoch 7/20\n",
      " - 10s - loss: 0.0375 - acc: 0.9888\n",
      "Epoch 8/20\n",
      " - 10s - loss: 0.0354 - acc: 0.9897\n",
      "Epoch 9/20\n",
      " - 11s - loss: 0.0305 - acc: 0.9914\n",
      "Epoch 10/20\n",
      " - 11s - loss: 0.0283 - acc: 0.9921\n",
      "Epoch 11/20\n",
      " - 11s - loss: 0.0276 - acc: 0.9919\n",
      "Epoch 12/20\n",
      " - 11s - loss: 0.0254 - acc: 0.9925\n",
      "Epoch 13/20\n",
      " - 11s - loss: 0.0249 - acc: 0.9935\n",
      "Epoch 14/20\n",
      " - 11s - loss: 0.0245 - acc: 0.9934\n",
      "Epoch 15/20\n",
      " - 11s - loss: 0.0215 - acc: 0.9943\n",
      "Epoch 16/20\n",
      " - 11s - loss: 0.0189 - acc: 0.9949\n",
      "Epoch 17/20\n",
      " - 11s - loss: 0.0198 - acc: 0.9947\n",
      "Epoch 18/20\n",
      " - 11s - loss: 0.0200 - acc: 0.9952\n",
      "Epoch 19/20\n",
      " - 11s - loss: 0.0212 - acc: 0.9949\n",
      "Epoch 20/20\n",
      " - 11s - loss: 0.0213 - acc: 0.9945\n",
      "211.4985761642456 s\n"
     ]
    }
   ],
   "source": [
    "dense_model = fit_model_mnist(Dense, x_train, y_train)"
   ]
  },
  {
   "cell_type": "code",
   "execution_count": 50,
   "metadata": {},
   "outputs": [
    {
     "name": "stdout",
     "output_type": "stream",
     "text": [
      "Epoch 1/20\n",
      " - 16s - loss: 1.0468 - acc: 0.6646\n",
      "Epoch 2/20\n",
      " - 16s - loss: 0.6338 - acc: 0.7952\n",
      "Epoch 3/20\n",
      " - 16s - loss: 0.5750 - acc: 0.8160\n",
      "Epoch 4/20\n",
      " - 16s - loss: 0.5417 - acc: 0.8292\n",
      "Epoch 5/20\n",
      " - 16s - loss: 0.5271 - acc: 0.8342\n",
      "Epoch 6/20\n",
      " - 16s - loss: 0.5233 - acc: 0.8362\n",
      "Epoch 7/20\n",
      " - 16s - loss: 0.5159 - acc: 0.8395\n",
      "Epoch 8/20\n",
      " - 16s - loss: 0.5113 - acc: 0.8376\n",
      "Epoch 9/20\n",
      " - 16s - loss: 0.5055 - acc: 0.8403\n",
      "Epoch 10/20\n",
      " - 16s - loss: 0.5017 - acc: 0.8429\n",
      "Epoch 11/20\n",
      " - 16s - loss: 0.4964 - acc: 0.8434\n",
      "Epoch 12/20\n",
      " - 16s - loss: 0.4940 - acc: 0.8462\n",
      "Epoch 13/20\n",
      " - 16s - loss: 0.4915 - acc: 0.8450\n",
      "Epoch 14/20\n",
      " - 16s - loss: 0.4906 - acc: 0.8464\n",
      "Epoch 15/20\n",
      " - 16s - loss: 0.4868 - acc: 0.8469\n",
      "Epoch 16/20\n",
      " - 16s - loss: 0.4871 - acc: 0.8488\n",
      "Epoch 17/20\n",
      " - 16s - loss: 0.4841 - acc: 0.8489\n",
      "Epoch 18/20\n",
      " - 16s - loss: 0.4790 - acc: 0.8537\n",
      "Epoch 19/20\n",
      " - 16s - loss: 0.4754 - acc: 0.8521\n",
      "Epoch 20/20\n",
      " - 16s - loss: 0.4785 - acc: 0.8508\n",
      "318.8497567176819 s\n"
     ]
    }
   ],
   "source": [
    "circulant_model  = fit_model_mnist(CirculantLayer, x_train, y_train)"
   ]
  },
  {
   "cell_type": "code",
   "execution_count": 51,
   "metadata": {},
   "outputs": [
    {
     "name": "stdout",
     "output_type": "stream",
     "text": [
      "10000/10000 [==============================] - ETA:  - ETA:  - ETA:  - ETA:  - ETA:  - ETA:  - ETA:  - ETA:  - ETA:  - ETA:  - ETA:  - ETA:  - ETA:  - ETA:  - ETA:  - ETA:  - ETA:  - ETA:  - ETA:  - ETA:  - ETA:  - ETA:  - ETA:  - ETA:  - ETA:  - ETA:  - ETA:  - ETA:  - ETA:  - ETA:  - ETA:  - ETA:  - 2s 165us/step\n"
     ]
    },
    {
     "data": {
      "text/plain": [
       "[0.096258650681470839, 0.98440000000000005]"
      ]
     },
     "execution_count": 51,
     "metadata": {},
     "output_type": "execute_result"
    }
   ],
   "source": [
    "dense_model.evaluate(x_test, y_test)"
   ]
  },
  {
   "cell_type": "code",
   "execution_count": 52,
   "metadata": {},
   "outputs": [
    {
     "name": "stdout",
     "output_type": "stream",
     "text": [
      "10000/10000 [==============================] - ETA:  - ETA:  - ETA:  - ETA:  - ETA:  - ETA:  - ETA:  - ETA:  - ETA:  - ETA:  - ETA:  - ETA:  - ETA:  - ETA:  - ETA:  - ETA:  - ETA:  - ETA:  - ETA:  - ETA:  - ETA:  - ETA:  - ETA:  - ETA:  - ETA:  - ETA:  - ETA:  - ETA:  - ETA:  - 1s 150us/step\n"
     ]
    },
    {
     "data": {
      "text/plain": [
       "[0.28823059252500532, 0.91790000000000005]"
      ]
     },
     "execution_count": 52,
     "metadata": {},
     "output_type": "execute_result"
    }
   ],
   "source": [
    "circulant_model.evaluate(x_test, y_test)"
   ]
  },
  {
   "cell_type": "code",
   "execution_count": 53,
   "metadata": {},
   "outputs": [
    {
     "data": {
      "text/plain": [
       "370.41261061946904"
      ]
     },
     "execution_count": 53,
     "metadata": {},
     "output_type": "execute_result"
    }
   ],
   "source": [
    "model_memory(dense_model)/model_memory(circulant_model)"
   ]
  },
  {
   "cell_type": "code",
   "execution_count": 43,
   "metadata": {},
   "outputs": [],
   "source": [
    "def compute_stats(Layer, size):\n",
    "    start = time.time()\n",
    "    model = Sequential()\n",
    "    model.add(Layer(size, input_shape=(784,)))\n",
    "    model.add(Activation('relu'))\n",
    "    model.add(Dropout(0.2))\n",
    "    model.add(Layer(size))\n",
    "    model.add(Activation('relu'))\n",
    "    model.add(Dropout(0.2))\n",
    "    model.add(Layer(num_classes))\n",
    "    model.add(Activation('softmax'))\n",
    "\n",
    "    model.compile(loss='categorical_crossentropy',\n",
    "                  optimizer=RMSprop(),\n",
    "                  metrics=['accuracy'])\n",
    "\n",
    "    history = model.fit(x_train, y_train,\n",
    "                        batch_size=batch_size,\n",
    "                        epochs=1,\n",
    "                        verbose=0,)\n",
    "    end = time.time()\n",
    "\n",
    "    return end - start, model_memory(model)\n"
   ]
  },
  {
   "cell_type": "code",
   "execution_count": 44,
   "metadata": {},
   "outputs": [],
   "source": [
    "layer_sizes= [256, 512, 1024, 2048, 3072]\n",
    "dense_stats = [compute_stats(Dense, size) for size in tqdm_notebook(layer_sizes)]\n",
    "circulant_stats = [compute_stats(CirculantLayer, size) for size in tqdm_notebook(layer_sizes)]\n",
    "\n"
   ]
  },
  {
   "cell_type": "code",
   "execution_count": 62,
   "metadata": {},
   "outputs": [
    {
     "data": {
      "text/plain": [
       "<matplotlib.legend.Legend at 0x25d6de42860>"
      ]
     },
     "execution_count": 62,
     "metadata": {},
     "output_type": "execute_result"
    },
    {
     "data": {
      "image/png": "[encoded data removed]",
      "text/plain": [
       "<matplotlib.figure.Figure at 0x25d3c849828>"
      ]
     },
     "metadata": {},
     "output_type": "display_data"
    }
   ],
   "source": [
    "dense_times = list(map(lambda x:x[0], dense_stats))\n",
    "circulant_times = list(map(lambda x:x[0], circulant_stats))\n",
    "\n",
    "dense_memory = np.array(list(map(lambda x:x[1], dense_stats)))\n",
    "circulant_memory = np.array(list(map(lambda x:x[1], circulant_stats)))\n",
    "\n",
    "plt.plot(layer_sizes, dense_times, label=\"Dense time\")\n",
    "plt.plot(layer_sizes, circulant_times, label=\"Circulant time\")\n",
    "plt.xlabel(\"Layer size\")\n",
    "plt.ylabel(\"Seconds\")\n",
    "plt.legend()"
   ]
  },
  {
   "cell_type": "code",
   "execution_count": 63,
   "metadata": {},
   "outputs": [
    {
     "data": {
      "text/plain": [
       "<matplotlib.legend.Legend at 0x25d619b6400>"
      ]
     },
     "execution_count": 63,
     "metadata": {},
     "output_type": "execute_result"
    },
    {
     "data": {
      "image/png": "[encoded data removed]",
      "text/plain": [
       "<matplotlib.figure.Figure at 0x25d5f70f358>"
      ]
     },
     "metadata": {},
     "output_type": "display_data"
    }
   ],
   "source": [
    "plt.plot(layer_sizes, dense_memory/circulant_memory,  label=\"Compression\")\n",
    "\n",
    "plt.xlabel(\"Layer size\")\n",
    "plt.ylabel(\"Seconds\")\n",
    "plt.axis('equal')\n",
    "plt.legend()"
   ]
  },
  {
   "cell_type": "markdown",
   "metadata": {},
   "source": [
    "## Testing on Fashion MNIST dataset"
   ]
  },
  {
   "cell_type": "code",
   "execution_count": 24,
   "metadata": {},
   "outputs": [],
   "source": [
    "from keras.datasets import fashion_mnist "
   ]
  },
  {
   "cell_type": "code",
   "execution_count": 25,
   "metadata": {},
   "outputs": [],
   "source": [
    "(x_train, y_train), (x_test, y_test) = fashion_mnist.load_data()"
   ]
  },
  {
   "cell_type": "code",
   "execution_count": 26,
   "metadata": {},
   "outputs": [
    {
     "name": "stdout",
     "output_type": "stream",
     "text": [
      "60000 train samples\n",
      "10000 test samples\n"
     ]
    }
   ],
   "source": [
    "x_train = x_train.reshape(60000, 784)\n",
    "x_test = x_test.reshape(10000, 784)\n",
    "x_train = x_train.astype('float32')\n",
    "x_test = x_test.astype('float32')\n",
    "x_train /= 255\n",
    "x_test /= 255\n",
    "print(x_train.shape[0], 'train samples')\n",
    "print(x_test.shape[0], 'test samples')"
   ]
  },
  {
   "cell_type": "code",
   "execution_count": 27,
   "metadata": {},
   "outputs": [],
   "source": [
    "batch_size = 128\n",
    "num_classes = 10\n",
    "epochs = 20"
   ]
  },
  {
   "cell_type": "code",
   "execution_count": 28,
   "metadata": {},
   "outputs": [],
   "source": [
    "y_train = keras.utils.to_categorical(y_train, num_classes)\n",
    "y_test = keras.utils.to_categorical(y_test, num_classes)"
   ]
  },
  {
   "cell_type": "code",
   "execution_count": 35,
   "metadata": {},
   "outputs": [
    {
     "name": "stdout",
     "output_type": "stream",
     "text": [
      "Epoch 1/20\n",
      " - 9s - loss: 0.5604 - acc: 0.7969\n",
      "Epoch 2/20\n",
      " - 9s - loss: 0.4025 - acc: 0.8512\n",
      "Epoch 3/20\n",
      " - 9s - loss: 0.3674 - acc: 0.8660\n",
      "Epoch 4/20\n",
      " - 11s - loss: 0.3496 - acc: 0.8729\n",
      "Epoch 5/20\n",
      " - 11s - loss: 0.3390 - acc: 0.8778\n",
      "Epoch 6/20\n",
      " - 10s - loss: 0.3282 - acc: 0.8824\n",
      "Epoch 7/20\n",
      " - 11s - loss: 0.3194 - acc: 0.8857\n",
      "Epoch 8/20\n",
      " - 12s - loss: 0.3134 - acc: 0.8872\n",
      "Epoch 9/20\n",
      " - 11s - loss: 0.3075 - acc: 0.8906\n",
      "Epoch 10/20\n",
      " - 10s - loss: 0.3044 - acc: 0.8917\n",
      "Epoch 11/20\n",
      " - 10s - loss: 0.3013 - acc: 0.8940\n",
      "Epoch 12/20\n",
      " - 11s - loss: 0.2955 - acc: 0.8961\n",
      "Epoch 13/20\n",
      " - 12s - loss: 0.2936 - acc: 0.8969\n",
      "Epoch 14/20\n",
      " - 11s - loss: 0.2920 - acc: 0.8982\n",
      "Epoch 15/20\n",
      " - 11s - loss: 0.2853 - acc: 0.9007\n",
      "Epoch 16/20\n",
      " - 11s - loss: 0.2850 - acc: 0.8998\n",
      "Epoch 17/20\n",
      " - 11s - loss: 0.2812 - acc: 0.9020\n",
      "Epoch 18/20\n",
      " - 10s - loss: 0.2816 - acc: 0.9021\n",
      "Epoch 19/20\n",
      " - 10s - loss: 0.2765 - acc: 0.9040\n",
      "Epoch 20/20\n",
      " - 11s - loss: 0.2771 - acc: 0.9041\n",
      "213.3881950378418 s\n"
     ]
    }
   ],
   "source": [
    "dense_model = fit_model_mnist(Dense, x_train, y_train)"
   ]
  },
  {
   "cell_type": "code",
   "execution_count": 36,
   "metadata": {},
   "outputs": [
    {
     "name": "stdout",
     "output_type": "stream",
     "text": [
      "Epoch 1/20\n",
      " - 16s - loss: 1.0431 - acc: 0.6300\n",
      "Epoch 2/20\n",
      " - 17s - loss: 0.7266 - acc: 0.7438\n",
      "Epoch 3/20\n",
      " - 16s - loss: 0.6840 - acc: 0.7599\n",
      "Epoch 4/20\n",
      " - 16s - loss: 0.6570 - acc: 0.7685\n",
      "Epoch 5/20\n",
      " - 16s - loss: 0.6422 - acc: 0.7718\n",
      "Epoch 6/20\n",
      " - 16s - loss: 0.6338 - acc: 0.7772\n",
      "Epoch 7/20\n",
      " - 16s - loss: 0.6257 - acc: 0.7795\n",
      "Epoch 8/20\n",
      " - 17s - loss: 0.6159 - acc: 0.7821\n",
      "Epoch 9/20\n",
      " - 16s - loss: 0.6150 - acc: 0.7828\n",
      "Epoch 10/20\n",
      " - 16s - loss: 0.6119 - acc: 0.7837\n",
      "Epoch 11/20\n",
      " - 15s - loss: 0.6110 - acc: 0.7829\n",
      "Epoch 12/20\n",
      " - 15s - loss: 0.6036 - acc: 0.7870\n",
      "Epoch 13/20\n",
      " - 16s - loss: 0.6014 - acc: 0.7857\n",
      "Epoch 14/20\n",
      " - 15s - loss: 0.5994 - acc: 0.7869\n",
      "Epoch 15/20\n",
      " - 15s - loss: 0.5987 - acc: 0.7880\n",
      "Epoch 16/20\n",
      " - 15s - loss: 0.5963 - acc: 0.7867\n",
      "Epoch 17/20\n",
      " - 15s - loss: 0.5966 - acc: 0.7874\n",
      "Epoch 18/20\n",
      " - 15s - loss: 0.5975 - acc: 0.7864\n",
      "Epoch 19/20\n",
      " - 15s - loss: 0.5917 - acc: 0.7904\n",
      "Epoch 20/20\n",
      " - 16s - loss: 0.5940 - acc: 0.7894\n",
      "316.397096157074 s\n"
     ]
    }
   ],
   "source": [
    "circulant_model  = fit_model_mnist(CirculantLayer, x_train, y_train)"
   ]
  },
  {
   "cell_type": "code",
   "execution_count": 37,
   "metadata": {},
   "outputs": [
    {
     "name": "stdout",
     "output_type": "stream",
     "text": [
      "10000/10000 [==============================] - ETA:  - ETA:  - ETA:  - ETA:  - ETA:  - ETA:  - ETA:  - ETA:  - ETA:  - ETA:  - ETA:  - ETA:  - ETA:  - ETA:  - ETA:  - ETA:  - ETA:  - ETA:  - ETA:  - ETA:  - ETA:  - ETA:  - ETA:  - ETA:  - 1s 121us/step\n"
     ]
    },
    {
     "data": {
      "text/plain": [
       "[0.39134998852610586, 0.8891]"
      ]
     },
     "execution_count": 37,
     "metadata": {},
     "output_type": "execute_result"
    }
   ],
   "source": [
    "dense_model.evaluate(x_test, y_test)"
   ]
  },
  {
   "cell_type": "code",
   "execution_count": 38,
   "metadata": {},
   "outputs": [
    {
     "name": "stdout",
     "output_type": "stream",
     "text": [
      "10000/10000 [==============================] - ETA:  - ETA:  - ETA:  - ETA:  - ETA:  - ETA:  - ETA:  - ETA:  - ETA:  - ETA:  - ETA:  - ETA:  - ETA:  - ETA:  - ETA:  - ETA:  - ETA:  - ETA:  - ETA:  - ETA:  - ETA:  - ETA:  - ETA:  - ETA:  - ETA:  - ETA:  - ETA:  - ETA:  - 1s 142us/step\n"
     ]
    },
    {
     "data": {
      "text/plain": [
       "[0.50948777799606326, 0.81940000000000002]"
      ]
     },
     "execution_count": 38,
     "metadata": {},
     "output_type": "execute_result"
    }
   ],
   "source": [
    "circulant_model.evaluate(x_test, y_test)"
   ]
  },
  {
   "cell_type": "code",
   "execution_count": 41,
   "metadata": {},
   "outputs": [
    {
     "data": {
      "text/plain": [
       "370.41261061946904"
      ]
     },
     "execution_count": 41,
     "metadata": {},
     "output_type": "execute_result"
    }
   ],
   "source": [
    "model_memory(dense_model)/model_memory(circulant_model)"
   ]
  },
  {
   "cell_type": "code",
   "execution_count": 39,
   "metadata": {},
   "outputs": [
    {
     "name": "stdout",
     "output_type": "stream",
     "text": [
      "Epoch 1/20\n",
      " - 51s - loss: 0.8803 - acc: 0.6979\n",
      "Epoch 2/20\n",
      " - 50s - loss: 0.6204 - acc: 0.7833\n",
      "Epoch 3/20\n",
      " - 50s - loss: 0.5810 - acc: 0.7945\n",
      "Epoch 4/20\n",
      " - 52s - loss: 0.5567 - acc: 0.8022\n",
      "Epoch 5/20\n",
      " - 53s - loss: 0.5385 - acc: 0.8091\n",
      "Epoch 6/20\n",
      " - 49s - loss: 0.5297 - acc: 0.8102\n",
      "Epoch 7/20\n",
      " - 49s - loss: 0.5187 - acc: 0.8151\n",
      "Epoch 8/20\n",
      " - 53s - loss: 0.5125 - acc: 0.8172\n",
      "Epoch 9/20\n",
      " - 51s - loss: 0.5098 - acc: 0.8184\n",
      "Epoch 10/20\n",
      " - 51s - loss: 0.5076 - acc: 0.8190\n",
      "Epoch 11/20\n",
      " - 51s - loss: 0.5023 - acc: 0.8197\n",
      "Epoch 12/20\n",
      " - 50s - loss: 0.5029 - acc: 0.8198\n",
      "Epoch 13/20\n",
      " - 51s - loss: 0.5018 - acc: 0.8216\n",
      "Epoch 14/20\n",
      " - 50s - loss: 0.4960 - acc: 0.8227\n",
      "Epoch 15/20\n",
      " - 51s - loss: 0.4981 - acc: 0.8215\n",
      "Epoch 16/20\n",
      " - 51s - loss: 0.4979 - acc: 0.8238\n",
      "Epoch 17/20\n",
      " - 50s - loss: 0.4956 - acc: 0.8232\n",
      "Epoch 18/20\n",
      " - 50s - loss: 0.4959 - acc: 0.8232\n",
      "Epoch 19/20\n",
      " - 50s - loss: 0.4951 - acc: 0.8229\n",
      "Epoch 20/20\n",
      " - 50s - loss: 0.4942 - acc: 0.8233\n",
      "1015.1714026927948 s\n"
     ]
    }
   ],
   "source": [
    "circulant_model_2048  = fit_model_mnist(CirculantLayer, x_train, y_train, dense_layer_size=2048)"
   ]
  },
  {
   "cell_type": "code",
   "execution_count": 40,
   "metadata": {},
   "outputs": [
    {
     "name": "stdout",
     "output_type": "stream",
     "text": [
      "10000/10000 [==============================] - ETA:  - ETA:  - ETA:  - ETA:  - ETA:  - ETA:  - ETA:  - ETA:  - ETA:  - ETA:  - ETA:  - ETA:  - ETA:  - ETA:  - ETA:  - ETA:  - ETA:  - ETA:  - ETA:  - ETA:  - ETA:  - ETA:  - ETA:  - ETA:  - ETA:  - ETA:  - ETA:  - ETA:  - ETA:  - ETA:  - ETA:  - ETA:  - ETA:  - ETA:  - ETA:  - ETA:  - ETA:  - ETA:  - ETA:  - ETA:  - ETA:  - ETA:  - ETA:  - ETA:  - ETA:  - ETA:  - ETA:  - ETA:  - ETA:  - ETA:  - ETA:  - ETA:  - ETA:  - ETA:  - ETA:  - ETA:  - ETA:  - ETA:  - ETA:  - ETA:  - ETA:  - ETA:  - ETA:  - ETA:  - ETA:  - ETA:  - ETA:  - ETA:  - ETA:  - ETA:  - ETA:  - ETA:  - ETA:  - ETA:  - ETA:  - ETA:  - ETA:  - 4s 424us/step\n"
     ]
    },
    {
     "data": {
      "text/plain": [
       "[0.42839059092998505, 0.8458]"
      ]
     },
     "execution_count": 40,
     "metadata": {},
     "output_type": "execute_result"
    }
   ],
   "source": [
    "circulant_model_2048.evaluate(x_test, y_test)"
   ]
  },
  {
   "cell_type": "code",
   "execution_count": 42,
   "metadata": {},
   "outputs": [
    {
     "data": {
      "text/plain": [
       "109.00162760416667"
      ]
     },
     "execution_count": 42,
     "metadata": {},
     "output_type": "execute_result"
    }
   ],
   "source": [
    "model_memory(dense_model)/model_memory(circulant_model_2048)"
   ]
  },
  {
   "cell_type": "code",
   "execution_count": null,
   "metadata": {},
   "outputs": [],
   "source": []
  }
 ],
 "metadata": {
  "kernelspec": {
   "display_name": "Python 3",
   "language": "python",
   "name": "python3"
  },
  "language_info": {
   "codemirror_mode": {
    "name": "ipython",
    "version": 3
   },
   "file_extension": ".py",
   "mimetype": "text/x-python",
   "name": "python",
   "nbconvert_exporter": "python",
   "pygments_lexer": "ipython3",
   "version": "3.5.2"
  }
 },
 "nbformat": 4,
 "nbformat_minor": 2
}
