{
 "cells": [
  {
   "cell_type": "code",
   "execution_count": 1,
   "metadata": {},
   "outputs": [
    {
     "name": "stderr",
     "output_type": "stream",
     "text": [
      "Using Theano backend.\n",
      "WARNING (theano.tensor.blas): Using NumPy C-API based implementation for BLAS functions.\n"
     ]
    }
   ],
   "source": [
    "from keras import backend as K\n",
    "from keras.engine.topology import Layer\n",
    "from keras.models import Sequential\n",
    "from keras.layers import Dense, Activation, Dropout\n",
    "from keras.optimizers import RMSprop\n",
    "import keras\n",
    "\n",
    "from sklearn import datasets, model_selection, preprocessing\n",
    "\n",
    "import numpy as np\n",
    "\n",
    "import theano\n",
    "import theano.tensor as T\n",
    "\n",
    "import scipy\n",
    "from scipy.fftpack import fft, ifft\n",
    "\n",
    "import time\n",
    "from tqdm import tqdm_notebook\n",
    "from functools import partial\n",
    "\n",
    "import matplotlib.pyplot as plt\n",
    "%matplotlib inline\n",
    "\n",
    "from pylab import rcParams\n",
    "rcParams['figure.figsize'] = 10, 10\n",
    "rcParams['font.size']=20"
   ]
  },
  {
   "cell_type": "markdown",
   "metadata": {},
   "source": [
    "## Comparing numpy and scipy FFT"
   ]
  },
  {
   "cell_type": "code",
   "execution_count": 2,
   "metadata": {},
   "outputs": [],
   "source": [
    "def numpy_fft(x):\n",
    "    #numpy doesn't preserve dtype\n",
    "    return np.fft.fft(np.fft.fft(x)*np.fft.fft(x)).real.astype(np.float32)\n",
    "\n",
    "def scipy_fft(x):\n",
    "    #scipy preserves dtype\n",
    "    return scipy.fftpack.ifft(scipy.fftpack.fft(x)*scipy.fftpack.fft(x)).real"
   ]
  },
  {
   "cell_type": "code",
   "execution_count": 3,
   "metadata": {},
   "outputs": [
    {
     "name": "stdout",
     "output_type": "stream",
     "text": [
      "10 loops, best of 3: 106 ms per loop\n",
      "10 loops, best of 3: 43.9 ms per loop\n"
     ]
    }
   ],
   "source": [
    "x=np.random.random(size=(1000,1000)).astype(np.float32)\n",
    "\n",
    "%timeit numpy_fft(x)\n",
    "%timeit scipy_fft(x)"
   ]
  },
  {
   "cell_type": "markdown",
   "metadata": {},
   "source": [
    "## Implementing circulant layer"
   ]
  },
  {
   "cell_type": "markdown",
   "metadata": {},
   "source": [
    "### Theano forward and gradient operations "
   ]
  },
  {
   "cell_type": "code",
   "execution_count": 4,
   "metadata": {},
   "outputs": [],
   "source": [
    "class CirculantConvolutionGradientOp(theano.Op):\n",
    "    def __init__(self):\n",
    "        super(CirculantConvolutionGradientOp, self).__init__()\n",
    "\n",
    "    def make_node(self, r, X, O):\n",
    "        r = T.as_tensor_variable(r)\n",
    "        X = T.as_tensor_variable(X)\n",
    "        O = T.as_tensor_variable(O)\n",
    "\n",
    "        return theano.Apply(self, [r, X, O], [T.vector(), T.matrix()])\n",
    "\n",
    "    def perform(self, node, inputs, output_storage):\n",
    "        \n",
    "        r = inputs[0]\n",
    "        X = inputs[1]        \n",
    "        O = inputs[2]\n",
    "        \n",
    "        Offt = fft(O)        \n",
    "\n",
    "        X_flipped_shifted = np.roll(X[:,::-1],1, axis=1)\n",
    "        Xfft = fft(X_flipped_shifted)  \n",
    "        XOfft = np.multiply(Xfft, Offt, out=Xfft) \n",
    "        XOfft_sum = np.sum(XOfft, axis=0)\n",
    "        grad_r = ifft(XOfft_sum).real\n",
    "        \n",
    "        Rfft = fft(r)\n",
    "        ROfft = np.multiply(Rfft, Offt, out=Offt) \n",
    "        grad_X = ifft(ROfft).real\n",
    "\n",
    "        output_storage[0][0] = grad_r\n",
    "        output_storage[1][0] = grad_X\n",
    "\n",
    "    def infer_shape(self, node, input_shapes):\n",
    "        return [input_shapes[0], input_shapes[1]]"
   ]
  },
  {
   "cell_type": "code",
   "execution_count": 5,
   "metadata": {},
   "outputs": [],
   "source": [
    "class CirculantConvolutionOp(theano.Op):\n",
    "    def __init__(self):\n",
    "        super(CirculantConvolutionOp, self).__init__()\n",
    "\n",
    "    def make_node(self, r, X):\n",
    "        r = T.as_tensor_variable(r)\n",
    "        X = T.as_tensor_variable(X)\n",
    "        \n",
    "        assert r.ndim == 1\n",
    "        assert X.ndim == 2\n",
    "        \n",
    "        return theano.Apply(self, [r, X], [T.matrix()])\n",
    "\n",
    "    def perform(self, node, inputs, output_storage):\n",
    "        r = inputs[0]\n",
    "        X = inputs[1]\n",
    "        \n",
    "        Rfft = fft(r)\n",
    "        Xfft = fft(X)\n",
    "\n",
    "        \n",
    "        RXfft = np.multiply(Rfft, Xfft, out = Xfft)\n",
    "        \n",
    "        result = ifft(RXfft).real\n",
    "        \n",
    "        output_storage[0][0] = result\n",
    "\n",
    "    def infer_shape(self, node, input_shapes):\n",
    "        return [input_shapes[1]]\n",
    "\n",
    "    def grad(self, inputs, output_grads):\n",
    "        r = inputs[0]\n",
    "        X = inputs[1]\n",
    "        O = output_grads[0]\n",
    "        \n",
    "        grad_op = CirculantConvolutionGradientOp()\n",
    "        return grad_op(r,X, O)"
   ]
  },
  {
   "cell_type": "code",
   "execution_count": 6,
   "metadata": {},
   "outputs": [
    {
     "name": "stdout",
     "output_type": "stream",
     "text": [
      "[[ 5.  4.]\n",
      " [ 3.  3.]\n",
      " [ 0.  0.]]\n"
     ]
    }
   ],
   "source": [
    "r = T.vector()\n",
    "X = T.matrix()\n",
    "conv_op = CirculantConvolutionOp()\n",
    "f = theano.function([r, X], conv_op(r, X), profile=True)\n",
    "\n",
    "print(f([1,2], [[1,2],[1,1],[0,0]]))"
   ]
  },
  {
   "cell_type": "code",
   "execution_count": 7,
   "metadata": {},
   "outputs": [],
   "source": [
    "T.verify_grad(conv_op,[np.array([1,2], dtype=np.float32), np.array([[10,2],[1,0],[0,0]], dtype=np.float32)],\n",
    "                         rng=np.random.RandomState(), n_tests=20)"
   ]
  },
  {
   "cell_type": "markdown",
   "metadata": {},
   "source": [
    "### Implementing linear layer with circulant weights"
   ]
  },
  {
   "cell_type": "code",
   "execution_count": 8,
   "metadata": {},
   "outputs": [],
   "source": [
    "class CirculantLayer(Layer):\n",
    "\n",
    "    def __init__(self, output_dim, flip_signs = True, fit_intercept=False, **kwargs):\n",
    "        self.output_dim = output_dim\n",
    "        self.fit_intercept = fit_intercept\n",
    "        self.flip_signs = flip_signs\n",
    "        super(CirculantLayer, self).__init__(**kwargs)\n",
    "\n",
    "    def build(self, input_shape):\n",
    "        if self.flip_signs:\n",
    "            self.sign_flipping = np.random.randint(0,2, size = input_shape[1])\n",
    "            self.sign_flipping = (self.sign_flipping*2-1).astype(np.float32)\n",
    "            self.sign_flipping = K.T.as_tensor_variable(self.sign_flipping)\n",
    "        \n",
    "        self.input_dim = input_shape[1]\n",
    "        \n",
    "        circulant_vec_shape = (self.input_dim,)\n",
    "        if self.input_dim<self.output_dim:\n",
    "            circulant_vec_shape = (self.output_dim,)\n",
    "        \n",
    "        self.circulant_vec = self.add_weight(name='circulant_vec', \n",
    "                                      shape=circulant_vec_shape,\n",
    "                                      initializer='uniform',\n",
    "                                      trainable=True)     \n",
    "        \n",
    "        if self.fit_intercept:\n",
    "            self.bias = self.add_weight(name='bias', \n",
    "                                      shape=(self.output_dim,),\n",
    "                                      initializer='uniform',\n",
    "                                      trainable=True)\n",
    "        \n",
    "        super(CirculantLayer, self).build(input_shape) \n",
    "\n",
    "    def call(self, X):\n",
    "        if self.flip_signs:\n",
    "            X =  self.sign_flipping * X  \n",
    "        \n",
    "        if self.input_dim<self.output_dim:\n",
    "            zeros = K.T.zeros((X.shape[0], self.output_dim))\n",
    "            X = K.T.set_subtensor(zeros[:,:self.input_dim], X)\n",
    "        \n",
    "        r = self.circulant_vec\n",
    "\n",
    "        conv_op = CirculantConvolutionOp()\n",
    "        RX =conv_op(r, X)\n",
    "        \n",
    "        if self.input_dim>self.output_dim:\n",
    "            RX = RX[:, :self.output_dim]\n",
    "        \n",
    "        if self.fit_intercept:\n",
    "            RX = RX + self.bias\n",
    "        \n",
    "        return RX\n",
    "\n",
    "    def compute_output_shape(self, input_shape):\n",
    "        return (input_shape[0], self.output_dim)"
   ]
  },
  {
   "cell_type": "markdown",
   "metadata": {},
   "source": [
    "## Testing on digits dataset"
   ]
  },
  {
   "cell_type": "code",
   "execution_count": 9,
   "metadata": {},
   "outputs": [],
   "source": [
    "def model_memory(model):\n",
    "    return sum(w.nbytes for w in model.get_weights())"
   ]
  },
  {
   "cell_type": "code",
   "execution_count": 10,
   "metadata": {},
   "outputs": [],
   "source": [
    "digits = datasets.load_digits()\n",
    "n_samples = len(digits.images)\n",
    "X = digits.images.reshape((n_samples, -1))\n",
    "le = preprocessing.OneHotEncoder()\n",
    "y = le.fit_transform(digits.target.reshape(-1, 1)).todense()"
   ]
  },
  {
   "cell_type": "code",
   "execution_count": 11,
   "metadata": {},
   "outputs": [],
   "source": [
    "X_train, X_test, y_train, y_test = model_selection.train_test_split(X, y, test_size=0.33, random_state=42)"
   ]
  },
  {
   "cell_type": "code",
   "execution_count": 12,
   "metadata": {},
   "outputs": [],
   "source": [
    "def fit_circulant_digits():\n",
    "    model = Sequential()\n",
    "    model.add(CirculantLayer(1000, input_shape=[X.shape[1]]))\n",
    "    model.add(Activation('relu'))\n",
    "    model.add(CirculantLayer(1000))\n",
    "    model.add(Activation('relu'))\n",
    "    model.add(CirculantLayer(10))\n",
    "    model.add(Activation('sigmoid'))\n",
    "\n",
    "    model.compile(optimizer='adam',\n",
    "                  loss='categorical_crossentropy',\n",
    "                  metrics=['accuracy'])\n",
    "    model.fit(X_train, y_train, verbose = 0,epochs=20)\n",
    "    return model"
   ]
  },
  {
   "cell_type": "code",
   "execution_count": 13,
   "metadata": {},
   "outputs": [],
   "source": [
    "def fit_dense_digits():\n",
    "    model = Sequential()\n",
    "    model.add(Dense(1000, input_shape=[X.shape[1]]))\n",
    "    model.add(Activation('relu'))\n",
    "    model.add(Dense(1000))\n",
    "    model.add(Activation('relu'))\n",
    "    model.add(Dense(10))\n",
    "    model.add(Activation('sigmoid'))\n",
    "\n",
    "    model.compile(optimizer='adam',\n",
    "                  loss='categorical_crossentropy',\n",
    "                  metrics=['accuracy'])\n",
    "    model.fit(X_train, y_train, verbose=0, epochs=20)\n",
    "    return model"
   ]
  },
  {
   "cell_type": "code",
   "execution_count": 14,
   "metadata": {},
   "outputs": [
    {
     "name": "stdout",
     "output_type": "stream",
     "text": [
      "10 loops, best of 3: 16.2 s per loop\n"
     ]
    }
   ],
   "source": [
    "%timeit -n 10 fit_dense_digits()"
   ]
  },
  {
   "cell_type": "code",
   "execution_count": 15,
   "metadata": {
    "scrolled": false
   },
   "outputs": [
    {
     "name": "stdout",
     "output_type": "stream",
     "text": [
      "10 loops, best of 3: 7.77 s per loop\n"
     ]
    }
   ],
   "source": [
    "%timeit -n 10 fit_circulant_digits()"
   ]
  },
  {
   "cell_type": "code",
   "execution_count": 16,
   "metadata": {},
   "outputs": [],
   "source": [
    "circulant_model = fit_circulant_digits()"
   ]
  },
  {
   "cell_type": "code",
   "execution_count": 17,
   "metadata": {},
   "outputs": [],
   "source": [
    "dense_model = fit_dense_digits()"
   ]
  },
  {
   "cell_type": "code",
   "execution_count": 18,
   "metadata": {},
   "outputs": [
    {
     "name": "stdout",
     "output_type": "stream",
     "text": [
      "10 loops, best of 3: 34.3 ms per loop\n"
     ]
    }
   ],
   "source": [
    "%timeit dense_model.predict(X_test)"
   ]
  },
  {
   "cell_type": "code",
   "execution_count": 19,
   "metadata": {},
   "outputs": [
    {
     "name": "stdout",
     "output_type": "stream",
     "text": [
      "The slowest run took 5.58 times longer than the fastest. This could mean that an intermediate result is being cached.\n",
      "1 loop, best of 3: 48 ms per loop\n"
     ]
    }
   ],
   "source": [
    "%timeit circulant_model.predict(X_test)"
   ]
  },
  {
   "cell_type": "code",
   "execution_count": 20,
   "metadata": {},
   "outputs": [
    {
     "data": {
      "text/plain": [
       "358.67"
      ]
     },
     "execution_count": 20,
     "metadata": {},
     "output_type": "execute_result"
    }
   ],
   "source": [
    "model_memory(dense_model)/model_memory(circulant_model)"
   ]
  },
  {
   "cell_type": "code",
   "execution_count": 21,
   "metadata": {},
   "outputs": [
    {
     "name": "stdout",
     "output_type": "stream",
     "text": [
      "594/594 [==============================] - ETA:  - ETA:  - 0s 115us/step\n"
     ]
    },
    {
     "data": {
      "text/plain": [
       "[0.072632266745529445, 0.97979797979797978]"
      ]
     },
     "execution_count": 21,
     "metadata": {},
     "output_type": "execute_result"
    }
   ],
   "source": [
    "dense_model.evaluate(X_test, y_test)"
   ]
  },
  {
   "cell_type": "code",
   "execution_count": 22,
   "metadata": {},
   "outputs": [
    {
     "name": "stdout",
     "output_type": "stream",
     "text": [
      "594/594 [==============================] - ETA:  - ETA:  - 0s 135us/step\n"
     ]
    },
    {
     "data": {
      "text/plain": [
       "[0.085059651847840964, 0.97643097643097643]"
      ]
     },
     "execution_count": 22,
     "metadata": {},
     "output_type": "execute_result"
    }
   ],
   "source": [
    "circulant_model.evaluate(X_test, y_test)"
   ]
  },
  {
   "cell_type": "markdown",
   "metadata": {},
   "source": [
    "## Testing on MNIST dataset"
   ]
  },
  {
   "cell_type": "code",
   "execution_count": 23,
   "metadata": {},
   "outputs": [],
   "source": [
    "from keras.datasets import mnist"
   ]
  },
  {
   "cell_type": "code",
   "execution_count": 24,
   "metadata": {},
   "outputs": [],
   "source": [
    "(x_train, y_train), (x_test, y_test) = mnist.load_data()"
   ]
  },
  {
   "cell_type": "code",
   "execution_count": 25,
   "metadata": {},
   "outputs": [
    {
     "name": "stdout",
     "output_type": "stream",
     "text": [
      "60000 train samples\n",
      "10000 test samples\n"
     ]
    }
   ],
   "source": [
    "x_train = x_train.reshape(60000, 784)\n",
    "x_test = x_test.reshape(10000, 784)\n",
    "x_train = x_train.astype('float32')\n",
    "x_test = x_test.astype('float32')\n",
    "x_train /= 255\n",
    "x_test /= 255\n",
    "print(x_train.shape[0], 'train samples')\n",
    "print(x_test.shape[0], 'test samples')"
   ]
  },
  {
   "cell_type": "code",
   "execution_count": 26,
   "metadata": {},
   "outputs": [],
   "source": [
    "batch_size = 128\n",
    "num_classes = 10\n",
    "epochs = 20"
   ]
  },
  {
   "cell_type": "code",
   "execution_count": 27,
   "metadata": {},
   "outputs": [],
   "source": [
    "y_train = keras.utils.to_categorical(y_train, num_classes)\n",
    "y_test = keras.utils.to_categorical(y_test, num_classes)"
   ]
  },
  {
   "cell_type": "code",
   "execution_count": 28,
   "metadata": {},
   "outputs": [],
   "source": [
    "def get_mnist_model(Layer, dense_layer_size=512):\n",
    "    model = Sequential()\n",
    "    model.add(Layer(dense_layer_size, input_shape=(784,)))\n",
    "    model.add(Activation('relu'))\n",
    "    model.add(Dropout(0.2))\n",
    "    model.add(Layer(dense_layer_size))\n",
    "    model.add(Activation('relu'))\n",
    "    model.add(Dropout(0.2))\n",
    "    model.add(Layer(num_classes))\n",
    "    model.add(Activation('softmax'))\n",
    "\n",
    "\n",
    "    model.compile(loss='categorical_crossentropy',\n",
    "                  optimizer=RMSprop(),\n",
    "                  metrics=['accuracy'])\n",
    "    return model\n",
    "\n",
    "def fit_model_mnist(Layer, x_train, y_train, dense_layer_size=512) :\n",
    "    model = get_mnist_model(Layer, dense_layer_size=dense_layer_size)\n",
    "    start = time.time()\n",
    "    history = model.fit(x_train, y_train,\n",
    "                        batch_size=batch_size,\n",
    "                        epochs=epochs,\n",
    "                        verbose=2,)\n",
    "    end = time.time()\n",
    "\n",
    "    print(end - start,'s')\n",
    "    return model\n"
   ]
  },
  {
   "cell_type": "code",
   "execution_count": 29,
   "metadata": {},
   "outputs": [
    {
     "name": "stdout",
     "output_type": "stream",
     "text": [
      "Epoch 1/20\n",
      " - 10s - loss: 0.2445 - acc: 0.9254\n",
      "Epoch 2/20\n",
      " - 9s - loss: 0.1016 - acc: 0.9700\n",
      "Epoch 3/20\n",
      " - 10s - loss: 0.0740 - acc: 0.9782\n",
      "Epoch 4/20\n",
      " - 10s - loss: 0.0591 - acc: 0.9818\n",
      "Epoch 5/20\n",
      " - 10s - loss: 0.0501 - acc: 0.9851\n",
      "Epoch 6/20\n",
      " - 10s - loss: 0.0443 - acc: 0.9868\n",
      "Epoch 7/20\n",
      " - 10s - loss: 0.0393 - acc: 0.9888\n",
      "Epoch 8/20\n",
      " - 10s - loss: 0.0341 - acc: 0.9901\n",
      "Epoch 9/20\n",
      " - 10s - loss: 0.0321 - acc: 0.9907\n",
      "Epoch 10/20\n",
      " - 10s - loss: 0.0277 - acc: 0.9919\n",
      "Epoch 11/20\n",
      " - 11s - loss: 0.0268 - acc: 0.9925\n",
      "Epoch 12/20\n",
      " - 11s - loss: 0.0262 - acc: 0.9928\n",
      "Epoch 13/20\n",
      " - 11s - loss: 0.0245 - acc: 0.9930\n",
      "Epoch 14/20\n",
      " - 12s - loss: 0.0240 - acc: 0.9933\n",
      "Epoch 15/20\n",
      " - 11s - loss: 0.0231 - acc: 0.9940\n",
      "Epoch 16/20\n",
      " - 11s - loss: 0.0213 - acc: 0.9941\n",
      "Epoch 17/20\n",
      " - 11s - loss: 0.0191 - acc: 0.9946\n",
      "Epoch 18/20\n",
      " - 11s - loss: 0.0190 - acc: 0.9947\n",
      "Epoch 19/20\n",
      " - 11s - loss: 0.0184 - acc: 0.9952\n",
      "Epoch 20/20\n",
      " - 11s - loss: 0.0191 - acc: 0.9950\n",
      "212.08176922798157 s\n"
     ]
    }
   ],
   "source": [
    "dense_model = fit_model_mnist(Dense, x_train, y_train)"
   ]
  },
  {
   "cell_type": "code",
   "execution_count": 30,
   "metadata": {},
   "outputs": [
    {
     "name": "stdout",
     "output_type": "stream",
     "text": [
      "Epoch 1/20\n",
      " - 13s - loss: 1.0348 - acc: 0.6784\n",
      "Epoch 2/20\n",
      " - 13s - loss: 0.6389 - acc: 0.7951\n",
      "Epoch 3/20\n",
      " - 13s - loss: 0.5851 - acc: 0.8140\n",
      "Epoch 4/20\n",
      " - 13s - loss: 0.5630 - acc: 0.8203\n",
      "Epoch 5/20\n",
      " - 13s - loss: 0.5435 - acc: 0.8279\n",
      "Epoch 6/20\n",
      " - 13s - loss: 0.5238 - acc: 0.8340\n",
      "Epoch 7/20\n",
      " - 13s - loss: 0.5205 - acc: 0.8378\n",
      "Epoch 8/20\n",
      " - 13s - loss: 0.5121 - acc: 0.8382\n",
      "Epoch 9/20\n",
      " - 13s - loss: 0.5067 - acc: 0.8399\n",
      "Epoch 10/20\n",
      " - 13s - loss: 0.5037 - acc: 0.8428\n",
      "Epoch 11/20\n",
      " - 13s - loss: 0.5047 - acc: 0.8409\n",
      "Epoch 12/20\n",
      " - 13s - loss: 0.5022 - acc: 0.8414\n",
      "Epoch 13/20\n",
      " - 13s - loss: 0.4966 - acc: 0.8445\n",
      "Epoch 14/20\n",
      " - 13s - loss: 0.5004 - acc: 0.8442\n",
      "Epoch 15/20\n",
      " - 13s - loss: 0.4920 - acc: 0.8471\n",
      "Epoch 16/20\n",
      " - 13s - loss: 0.4878 - acc: 0.8453\n",
      "Epoch 17/20\n",
      " - 13s - loss: 0.4857 - acc: 0.8470\n",
      "Epoch 18/20\n",
      " - 13s - loss: 0.4928 - acc: 0.8452\n",
      "Epoch 19/20\n",
      " - 13s - loss: 0.4891 - acc: 0.8471\n",
      "Epoch 20/20\n",
      " - 13s - loss: 0.4891 - acc: 0.8466\n",
      "262.9946563243866 s\n"
     ]
    }
   ],
   "source": [
    "circulant_model  = fit_model_mnist(CirculantLayer, x_train, y_train)"
   ]
  },
  {
   "cell_type": "code",
   "execution_count": 31,
   "metadata": {},
   "outputs": [
    {
     "name": "stdout",
     "output_type": "stream",
     "text": [
      "10000/10000 [==============================] - ETA:  - ETA:  - ETA:  - ETA:  - ETA:  - ETA:  - ETA:  - ETA:  - ETA:  - ETA:  - ETA:  - ETA:  - ETA:  - ETA:  - ETA:  - ETA:  - ETA:  - ETA:  - ETA:  - 1s 94us/step\n"
     ]
    },
    {
     "data": {
      "text/plain": [
       "[0.11284993469809231, 0.98299999999999998]"
      ]
     },
     "execution_count": 31,
     "metadata": {},
     "output_type": "execute_result"
    }
   ],
   "source": [
    "dense_model.evaluate(x_test, y_test)"
   ]
  },
  {
   "cell_type": "code",
   "execution_count": 32,
   "metadata": {},
   "outputs": [
    {
     "name": "stdout",
     "output_type": "stream",
     "text": [
      "10000/10000 [==============================] - ETA:  - ETA:  - ETA:  - ETA:  - ETA:  - ETA:  - ETA:  - ETA:  - ETA:  - ETA:  - ETA:  - ETA:  - ETA:  - ETA:  - ETA:  - ETA:  - ETA:  - ETA:  - ETA:  - ETA:  - ETA:  - ETA:  - ETA:  - ETA:  - ETA:  - 1s 129us/step\n"
     ]
    },
    {
     "data": {
      "text/plain": [
       "[0.27687504755854608, 0.92090000000000005]"
      ]
     },
     "execution_count": 32,
     "metadata": {},
     "output_type": "execute_result"
    }
   ],
   "source": [
    "circulant_model.evaluate(x_test, y_test)"
   ]
  },
  {
   "cell_type": "code",
   "execution_count": 33,
   "metadata": {},
   "outputs": [
    {
     "data": {
      "text/plain": [
       "370.41261061946904"
      ]
     },
     "execution_count": 33,
     "metadata": {},
     "output_type": "execute_result"
    }
   ],
   "source": [
    "model_memory(dense_model)/model_memory(circulant_model)"
   ]
  },
  {
   "cell_type": "code",
   "execution_count": 34,
   "metadata": {},
   "outputs": [],
   "source": [
    "def compute_stats(Layer, size):\n",
    "    start = time.time()\n",
    "    model = Sequential()\n",
    "    model.add(Layer(size, input_shape=(784,)))\n",
    "    model.add(Activation('relu'))\n",
    "    model.add(Dropout(0.2))\n",
    "    model.add(Layer(size))\n",
    "    model.add(Activation('relu'))\n",
    "    model.add(Dropout(0.2))\n",
    "    model.add(Layer(num_classes))\n",
    "    model.add(Activation('softmax'))\n",
    "\n",
    "    model.compile(loss='categorical_crossentropy',\n",
    "                  optimizer=RMSprop(),\n",
    "                  metrics=['accuracy'])\n",
    "\n",
    "    history = model.fit(x_train, y_train,\n",
    "                        batch_size=batch_size,\n",
    "                        epochs=1,\n",
    "                        verbose=0,)\n",
    "    end = time.time()\n",
    "\n",
    "    return end - start, model_memory(model)\n"
   ]
  },
  {
   "cell_type": "code",
   "execution_count": 35,
   "metadata": {},
   "outputs": [
    {
     "name": "stdout",
     "output_type": "stream",
     "text": [
      "\n",
      "\n"
     ]
    }
   ],
   "source": [
    "layer_sizes= [256, 512, 1024, 2048, 3072]\n",
    "dense_stats = [compute_stats(Dense, size) for size in tqdm_notebook(layer_sizes)]\n",
    "circulant_stats = [compute_stats(CirculantLayer, size) for size in tqdm_notebook(layer_sizes)]\n",
    "\n"
   ]
  },
  {
   "cell_type": "code",
   "execution_count": 36,
   "metadata": {},
   "outputs": [
    {
     "data": {
      "image/png": "[encoded data removed]",
      "text/plain": [
       "<matplotlib.figure.Figure at 0x24656820160>"
      ]
     },
     "metadata": {},
     "output_type": "display_data"
    }
   ],
   "source": [
    "dense_times = list(map(lambda x:x[0], dense_stats))\n",
    "circulant_times = list(map(lambda x:x[0], circulant_stats))\n",
    "\n",
    "dense_memory = np.array(list(map(lambda x:x[1], dense_stats)))\n",
    "circulant_memory = np.array(list(map(lambda x:x[1], circulant_stats)))\n",
    "\n",
    "plt.plot(layer_sizes, dense_times, label=\"Dense time\")\n",
    "plt.plot(layer_sizes, circulant_times, label=\"Circulant time\")\n",
    "plt.xlabel(\"Layer size\")\n",
    "plt.ylabel(\"Seconds\")\n",
    "plt.legend()\n",
    "plt.tight_layout()"
   ]
  },
  {
   "cell_type": "code",
   "execution_count": 37,
   "metadata": {},
   "outputs": [
    {
     "data": {
      "image/png": "[encoded data removed]",
      "text/plain": [
       "<matplotlib.figure.Figure at 0x2465d6f59b0>"
      ]
     },
     "metadata": {},
     "output_type": "display_data"
    }
   ],
   "source": [
    "plt.plot(layer_sizes, dense_memory/circulant_memory,  label=\"Compression\")\n",
    "\n",
    "plt.xlabel(\"Layer size\")\n",
    "plt.ylabel(\"Ratio\")\n",
    "plt.legend()\n",
    "plt.tight_layout()"
   ]
  },
  {
   "cell_type": "markdown",
   "metadata": {},
   "source": [
    "## Testing on Fashion MNIST dataset"
   ]
  },
  {
   "cell_type": "code",
   "execution_count": 38,
   "metadata": {},
   "outputs": [],
   "source": [
    "from keras.datasets import fashion_mnist "
   ]
  },
  {
   "cell_type": "code",
   "execution_count": 39,
   "metadata": {},
   "outputs": [],
   "source": [
    "(x_train, y_train), (x_test, y_test) = fashion_mnist.load_data()"
   ]
  },
  {
   "cell_type": "code",
   "execution_count": 40,
   "metadata": {},
   "outputs": [
    {
     "name": "stdout",
     "output_type": "stream",
     "text": [
      "60000 train samples\n",
      "10000 test samples\n"
     ]
    }
   ],
   "source": [
    "x_train = x_train.reshape(60000, 784)\n",
    "x_test = x_test.reshape(10000, 784)\n",
    "x_train = x_train.astype('float32')\n",
    "x_test = x_test.astype('float32')\n",
    "x_train /= 255\n",
    "x_test /= 255\n",
    "print(x_train.shape[0], 'train samples')\n",
    "print(x_test.shape[0], 'test samples')"
   ]
  },
  {
   "cell_type": "code",
   "execution_count": 41,
   "metadata": {},
   "outputs": [],
   "source": [
    "batch_size = 128\n",
    "num_classes = 10\n",
    "epochs = 20"
   ]
  },
  {
   "cell_type": "code",
   "execution_count": 42,
   "metadata": {},
   "outputs": [],
   "source": [
    "y_train = keras.utils.to_categorical(y_train, num_classes)\n",
    "y_test = keras.utils.to_categorical(y_test, num_classes)"
   ]
  },
  {
   "cell_type": "code",
   "execution_count": 43,
   "metadata": {},
   "outputs": [
    {
     "name": "stdout",
     "output_type": "stream",
     "text": [
      "Epoch 1/20\n",
      " - 9s - loss: 0.5614 - acc: 0.7958\n",
      "Epoch 2/20\n",
      " - 9s - loss: 0.4016 - acc: 0.8524\n",
      "Epoch 3/20\n",
      " - 9s - loss: 0.3705 - acc: 0.8653\n",
      "Epoch 4/20\n",
      " - 10s - loss: 0.3486 - acc: 0.8730\n",
      "Epoch 5/20\n",
      " - 10s - loss: 0.3375 - acc: 0.8779\n",
      "Epoch 6/20\n",
      " - 10s - loss: 0.3297 - acc: 0.8814\n",
      "Epoch 7/20\n",
      " - 10s - loss: 0.3201 - acc: 0.8854\n",
      "Epoch 8/20\n",
      " - 10s - loss: 0.3115 - acc: 0.8883\n",
      "Epoch 9/20\n",
      " - 10s - loss: 0.3114 - acc: 0.8890\n",
      "Epoch 10/20\n",
      " - 10s - loss: 0.3072 - acc: 0.8918\n",
      "Epoch 11/20\n",
      " - 10s - loss: 0.3005 - acc: 0.8942\n",
      "Epoch 12/20\n",
      " - 10s - loss: 0.2957 - acc: 0.8963\n",
      "Epoch 13/20\n",
      " - 10s - loss: 0.2914 - acc: 0.8980\n",
      "Epoch 14/20\n",
      " - 10s - loss: 0.2904 - acc: 0.8981\n",
      "Epoch 15/20\n",
      " - 10s - loss: 0.2846 - acc: 0.9004\n",
      "Epoch 16/20\n",
      " - 10s - loss: 0.2822 - acc: 0.9000\n",
      "Epoch 17/20\n",
      " - 11s - loss: 0.2833 - acc: 0.9024\n",
      "Epoch 18/20\n",
      " - 10s - loss: 0.2781 - acc: 0.9037\n",
      "Epoch 19/20\n",
      " - 10s - loss: 0.2711 - acc: 0.9043\n",
      "Epoch 20/20\n",
      " - 10s - loss: 0.2758 - acc: 0.9043\n",
      "199.43996667861938 s\n"
     ]
    }
   ],
   "source": [
    "dense_model = fit_model_mnist(Dense, x_train, y_train)"
   ]
  },
  {
   "cell_type": "code",
   "execution_count": 44,
   "metadata": {},
   "outputs": [
    {
     "name": "stdout",
     "output_type": "stream",
     "text": [
      "Epoch 1/20\n",
      " - 13s - loss: 1.0608 - acc: 0.6298\n",
      "Epoch 2/20\n",
      " - 13s - loss: 0.7503 - acc: 0.7392\n",
      "Epoch 3/20\n",
      " - 13s - loss: 0.6984 - acc: 0.7574\n",
      "Epoch 4/20\n",
      " - 13s - loss: 0.6712 - acc: 0.7646\n",
      "Epoch 5/20\n",
      " - 13s - loss: 0.6549 - acc: 0.7705\n",
      "Epoch 6/20\n",
      " - 13s - loss: 0.6415 - acc: 0.7741\n",
      "Epoch 7/20\n",
      " - 13s - loss: 0.6303 - acc: 0.7783\n",
      "Epoch 8/20\n",
      " - 13s - loss: 0.6234 - acc: 0.7800\n",
      "Epoch 9/20\n",
      " - 13s - loss: 0.6151 - acc: 0.7823\n",
      "Epoch 10/20\n",
      " - 13s - loss: 0.6126 - acc: 0.7847\n",
      "Epoch 11/20\n",
      " - 13s - loss: 0.6101 - acc: 0.7842\n",
      "Epoch 12/20\n",
      " - 13s - loss: 0.6069 - acc: 0.7848\n",
      "Epoch 13/20\n",
      " - 13s - loss: 0.6071 - acc: 0.7837\n",
      "Epoch 14/20\n",
      " - 13s - loss: 0.5998 - acc: 0.7869\n",
      "Epoch 15/20\n",
      " - 13s - loss: 0.5989 - acc: 0.7880\n",
      "Epoch 16/20\n",
      " - 13s - loss: 0.6007 - acc: 0.7881\n",
      "Epoch 17/20\n",
      " - 13s - loss: 0.5973 - acc: 0.7865\n",
      "Epoch 18/20\n",
      " - 13s - loss: 0.5965 - acc: 0.7887\n",
      "Epoch 19/20\n",
      " - 13s - loss: 0.5958 - acc: 0.7902\n",
      "Epoch 20/20\n",
      " - 14s - loss: 0.5929 - acc: 0.7889\n",
      "267.6711175441742 s\n"
     ]
    }
   ],
   "source": [
    "circulant_model  = fit_model_mnist(CirculantLayer, x_train, y_train)"
   ]
  },
  {
   "cell_type": "code",
   "execution_count": 45,
   "metadata": {},
   "outputs": [
    {
     "name": "stdout",
     "output_type": "stream",
     "text": [
      "10000/10000 [==============================] - ETA:  - ETA:  - ETA:  - ETA:  - ETA:  - ETA:  - ETA:  - ETA:  - ETA:  - ETA:  - ETA:  - ETA:  - ETA:  - ETA:  - ETA:  - ETA:  - ETA:  - ETA:  - ETA:  - ETA:  - ETA:  - ETA:  - ETA:  - ETA:  - 1s 122us/step\n"
     ]
    },
    {
     "data": {
      "text/plain": [
       "[0.38641436491012571, 0.88649999999999995]"
      ]
     },
     "execution_count": 45,
     "metadata": {},
     "output_type": "execute_result"
    }
   ],
   "source": [
    "dense_model.evaluate(x_test, y_test)"
   ]
  },
  {
   "cell_type": "code",
   "execution_count": 46,
   "metadata": {},
   "outputs": [
    {
     "name": "stdout",
     "output_type": "stream",
     "text": [
      "10000/10000 [==============================] - ETA:  - ETA:  - ETA:  - ETA:  - ETA:  - ETA:  - ETA:  - ETA:  - ETA:  - ETA:  - ETA:  - ETA:  - ETA:  - ETA:  - ETA:  - ETA:  - ETA:  - ETA:  - ETA:  - ETA:  - ETA:  - ETA:  - ETA:  - ETA:  - ETA:  - ETA:  - ETA:  - ETA:  - ETA:  - ETA:  - ETA:  - 2s 157us/step\n"
     ]
    },
    {
     "data": {
      "text/plain": [
       "[0.50040812978744509, 0.8236]"
      ]
     },
     "execution_count": 46,
     "metadata": {},
     "output_type": "execute_result"
    }
   ],
   "source": [
    "circulant_model.evaluate(x_test, y_test)"
   ]
  },
  {
   "cell_type": "code",
   "execution_count": 47,
   "metadata": {},
   "outputs": [
    {
     "data": {
      "text/plain": [
       "370.41261061946904"
      ]
     },
     "execution_count": 47,
     "metadata": {},
     "output_type": "execute_result"
    }
   ],
   "source": [
    "model_memory(dense_model)/model_memory(circulant_model)"
   ]
  },
  {
   "cell_type": "code",
   "execution_count": 48,
   "metadata": {},
   "outputs": [
    {
     "name": "stdout",
     "output_type": "stream",
     "text": [
      "Epoch 1/20\n",
      " - 40s - loss: 0.8541 - acc: 0.7069\n",
      "Epoch 2/20\n",
      " - 40s - loss: 0.6268 - acc: 0.7811\n",
      "Epoch 3/20\n",
      " - 40s - loss: 0.5766 - acc: 0.7978\n",
      "Epoch 4/20\n",
      " - 41s - loss: 0.5510 - acc: 0.8070\n",
      "Epoch 5/20\n",
      " - 40s - loss: 0.5346 - acc: 0.8105\n",
      "Epoch 6/20\n",
      " - 40s - loss: 0.5245 - acc: 0.8122\n",
      "Epoch 7/20\n",
      " - 40s - loss: 0.5210 - acc: 0.8163\n",
      "Epoch 8/20\n",
      " - 40s - loss: 0.5152 - acc: 0.8170\n",
      "Epoch 9/20\n",
      " - 40s - loss: 0.5082 - acc: 0.8183\n",
      "Epoch 10/20\n",
      " - 40s - loss: 0.4987 - acc: 0.8222\n",
      "Epoch 11/20\n",
      " - 41s - loss: 0.4988 - acc: 0.8214\n",
      "Epoch 12/20\n",
      " - 41s - loss: 0.4968 - acc: 0.8228\n",
      "Epoch 13/20\n",
      " - 40s - loss: 0.4954 - acc: 0.8243\n",
      "Epoch 14/20\n",
      " - 40s - loss: 0.4941 - acc: 0.8235\n",
      "Epoch 15/20\n",
      " - 40s - loss: 0.4924 - acc: 0.8264\n",
      "Epoch 16/20\n",
      " - 40s - loss: 0.4855 - acc: 0.8267\n",
      "Epoch 17/20\n",
      " - 40s - loss: 0.4895 - acc: 0.8254\n",
      "Epoch 18/20\n",
      " - 40s - loss: 0.4883 - acc: 0.8267\n",
      "Epoch 19/20\n",
      " - 40s - loss: 0.4800 - acc: 0.8309\n",
      "Epoch 20/20\n",
      " - 40s - loss: 0.4841 - acc: 0.8289\n",
      "804.176994562149 s\n"
     ]
    }
   ],
   "source": [
    "circulant_model_2048  = fit_model_mnist(CirculantLayer, x_train, y_train, dense_layer_size=2048)"
   ]
  },
  {
   "cell_type": "code",
   "execution_count": 49,
   "metadata": {},
   "outputs": [
    {
     "name": "stdout",
     "output_type": "stream",
     "text": [
      "10000/10000 [==============================] - ETA:  - ETA:  - ETA:  - ETA:  - ETA:  - ETA:  - ETA:  - ETA:  - ETA:  - ETA:  - ETA:  - ETA:  - ETA:  - ETA:  - ETA:  - ETA:  - ETA:  - ETA:  - ETA:  - ETA:  - ETA:  - ETA:  - ETA:  - ETA:  - ETA:  - ETA:  - ETA:  - ETA:  - ETA:  - ETA:  - ETA:  - ETA:  - ETA:  - ETA:  - ETA:  - ETA:  - ETA:  - ETA:  - ETA:  - ETA:  - ETA:  - ETA:  - ETA:  - ETA:  - ETA:  - ETA:  - ETA:  - ETA:  - ETA:  - ETA:  - ETA:  - ETA:  - ETA:  - ETA:  - ETA:  - ETA:  - ETA:  - ETA:  - ETA:  - ETA:  - ETA:  - ETA:  - ETA:  - ETA:  - ETA:  - ETA:  - ETA:  - ETA:  - ETA:  - ETA:  - ETA:  - ETA:  - ETA:  - ETA:  - ETA:  - ETA:  - ETA:  - ETA:  - 4s 436us/step\n"
     ]
    },
    {
     "data": {
      "text/plain": [
       "[0.42580916891098025, 0.84570000000000001]"
      ]
     },
     "execution_count": 49,
     "metadata": {},
     "output_type": "execute_result"
    }
   ],
   "source": [
    "circulant_model_2048.evaluate(x_test, y_test)"
   ]
  },
  {
   "cell_type": "code",
   "execution_count": 50,
   "metadata": {},
   "outputs": [
    {
     "data": {
      "text/plain": [
       "109.00162760416667"
      ]
     },
     "execution_count": 50,
     "metadata": {},
     "output_type": "execute_result"
    }
   ],
   "source": [
    "model_memory(dense_model)/model_memory(circulant_model_2048)"
   ]
  },
  {
   "cell_type": "code",
   "execution_count": 51,
   "metadata": {},
   "outputs": [
    {
     "name": "stdout",
     "output_type": "stream",
     "text": [
      "Epoch 1/20\n",
      " - 14s - loss: 1.0172 - acc: 0.6419\n",
      "Epoch 2/20\n",
      " - 14s - loss: 0.6934 - acc: 0.7535\n",
      "Epoch 3/20\n",
      " - 14s - loss: 0.6368 - acc: 0.7715\n",
      "Epoch 4/20\n",
      " - 14s - loss: 0.6092 - acc: 0.7788\n",
      "Epoch 5/20\n",
      " - 14s - loss: 0.5945 - acc: 0.7847\n",
      "Epoch 6/20\n",
      " - 14s - loss: 0.5807 - acc: 0.7908\n",
      "Epoch 7/20\n",
      " - 14s - loss: 0.5742 - acc: 0.7931\n",
      "Epoch 8/20\n",
      " - 14s - loss: 0.5685 - acc: 0.7955\n",
      "Epoch 9/20\n",
      " - 14s - loss: 0.5629 - acc: 0.7973\n",
      "Epoch 10/20\n",
      " - 14s - loss: 0.5604 - acc: 0.7993\n",
      "Epoch 11/20\n",
      " - 14s - loss: 0.5530 - acc: 0.8018\n",
      "Epoch 12/20\n",
      " - 14s - loss: 0.5533 - acc: 0.8023\n",
      "Epoch 13/20\n",
      " - 14s - loss: 0.5487 - acc: 0.8022\n",
      "Epoch 14/20\n",
      " - 14s - loss: 0.5439 - acc: 0.8058\n",
      "Epoch 15/20\n",
      " - 14s - loss: 0.5425 - acc: 0.8056\n",
      "Epoch 16/20\n",
      " - 13s - loss: 0.5397 - acc: 0.8065\n",
      "Epoch 17/20\n",
      " - 14s - loss: 0.5401 - acc: 0.8084\n",
      "Epoch 18/20\n",
      " - 13s - loss: 0.5372 - acc: 0.8075\n",
      "Epoch 19/20\n",
      " - 13s - loss: 0.5318 - acc: 0.8085\n",
      "Epoch 20/20\n",
      " - 13s - loss: 0.5265 - acc: 0.8096\n",
      "273.993976354599 s\n"
     ]
    }
   ],
   "source": [
    "circulant_model_intercept  = fit_model_mnist(partial(CirculantLayer, fit_intercept=True), x_train, y_train)"
   ]
  },
  {
   "cell_type": "code",
   "execution_count": 52,
   "metadata": {},
   "outputs": [
    {
     "name": "stdout",
     "output_type": "stream",
     "text": [
      "10000/10000 [==============================] - ETA:  - ETA:  - ETA:  - ETA:  - ETA:  - ETA:  - ETA:  - ETA:  - ETA:  - ETA:  - ETA:  - ETA:  - ETA:  - ETA:  - ETA:  - ETA:  - ETA:  - ETA:  - ETA:  - ETA:  - ETA:  - ETA:  - ETA:  - ETA:  - ETA:  - ETA:  - ETA:  - ETA:  - ETA:  - ETA:  - ETA:  - 2s 159us/step\n"
     ]
    },
    {
     "data": {
      "text/plain": [
       "[0.46839489250183103, 0.8286]"
      ]
     },
     "execution_count": 52,
     "metadata": {},
     "output_type": "execute_result"
    }
   ],
   "source": [
    "circulant_model_intercept.evaluate(x_test, y_test)"
   ]
  },
  {
   "cell_type": "code",
   "execution_count": 53,
   "metadata": {},
   "outputs": [
    {
     "data": {
      "text/plain": [
       "235.6460239268121"
      ]
     },
     "execution_count": 53,
     "metadata": {},
     "output_type": "execute_result"
    }
   ],
   "source": [
    "model_memory(dense_model)/model_memory(circulant_model_intercept)"
   ]
  },
  {
   "cell_type": "code",
   "execution_count": null,
   "metadata": {},
   "outputs": [],
   "source": []
  }
 ],
 "metadata": {
  "kernelspec": {
   "display_name": "Python 3",
   "language": "python",
   "name": "python3"
  },
  "language_info": {
   "codemirror_mode": {
    "name": "ipython",
    "version": 3
   },
   "file_extension": ".py",
   "mimetype": "text/x-python",
   "name": "python",
   "nbconvert_exporter": "python",
   "pygments_lexer": "ipython3",
   "version": "3.5.2"
  },
  "widgets": {
   "state": {
    "129ca728136a495487915bb177a2e7fe": {
     "views": [
      {
       "cell_index": 40
      }
     ]
    },
    "512c30fce0a64344806430fbbd249743": {
     "views": [
      {
       "cell_index": 40
      }
     ]
    },
    "625b7e00772d4525aeab1bdaedd20cbd": {
     "views": [
      {
       "cell_index": 40
      }
     ]
    },
    "781fd9e385784ddc96fe193cd238bad1": {
     "views": [
      {
       "cell_index": 40
      }
     ]
    },
    "d742f48e268641de96007a754ef40b2b": {
     "views": [
      {
       "cell_index": 40
      }
     ]
    },
    "f5cec07dd3aa4eb4961bc1b89872047b": {
     "views": [
      {
       "cell_index": 40
      }
     ]
    }
   },
   "version": "1.2.0"
  }
 },
 "nbformat": 4,
 "nbformat_minor": 2
}
