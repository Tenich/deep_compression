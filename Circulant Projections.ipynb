{
 "cells": [
  {
   "cell_type": "code",
   "execution_count": 576,
   "metadata": {
    "collapsed": false
   },
   "outputs": [],
   "source": [
    "from keras import backend as K\n",
    "from keras.engine.topology import Layer\n",
    "from keras.models import Sequential\n",
    "from keras.layers import Dense, Activation\n",
    "import keras\n",
    "\n",
    "from sklearn import datasets, model_selection, preprocessing, metrics\n",
    "\n",
    "import numpy as np\n",
    "\n",
    "import theano\n",
    "import theano.tensor as T\n",
    "\n",
    "import scipy\n",
    "from scipy.fftpack import rfft, irfft\n"
   ]
  },
  {
   "cell_type": "markdown",
   "metadata": {},
   "source": [
    "## Comparing numpy and scipy FFT"
   ]
  },
  {
   "cell_type": "code",
   "execution_count": 577,
   "metadata": {
    "collapsed": true
   },
   "outputs": [],
   "source": [
    "def numpy_fft(x):\n",
    "    #numpy doesn't preserve dtype\n",
    "    return np.fft.irfft(np.fft.rfft(x)*np.fft.rfft(x)).astype(np.float32)\n",
    "\n",
    "def scipy_fft(x):\n",
    "    #scipy preserves dtype\n",
    "    return scipy.fftpack.irfft(scipy.fftpack.rfft(x)*scipy.fftpack.rfft(x))"
   ]
  },
  {
   "cell_type": "code",
   "execution_count": 578,
   "metadata": {
    "collapsed": false
   },
   "outputs": [
    {
     "name": "stdout",
     "output_type": "stream",
     "text": [
      "10 loops, best of 3: 68.1 ms per loop\n",
      "10 loops, best of 3: 28.9 ms per loop\n"
     ]
    }
   ],
   "source": [
    "x=np.random.random(size=(1000,1000)).astype(np.float32)\n",
    "\n",
    "%timeit numpy_fft(x)\n",
    "%timeit scipy_fft(x)"
   ]
  },
  {
   "cell_type": "markdown",
   "metadata": {},
   "source": [
    "## Implementing circulant layer"
   ]
  },
  {
   "cell_type": "markdown",
   "metadata": {},
   "source": [
    "### Theano forward and gradient operations "
   ]
  },
  {
   "cell_type": "code",
   "execution_count": 522,
   "metadata": {
    "collapsed": false
   },
   "outputs": [],
   "source": [
    "class CirculantConvolutionGradientOp(theano.Op):\n",
    "    def __init__(self):\n",
    "        super(CirculantConvolutionGradientOp, self).__init__()\n",
    "\n",
    "    def make_node(self, r, X, O):\n",
    "        r = T.as_tensor_variable(r)\n",
    "        X = T.as_tensor_variable(X)\n",
    "        O = T.as_tensor_variable(O)\n",
    "\n",
    "        return theano.Apply(self, [r, X, O], [T.vector(), T.matrix()])\n",
    "\n",
    "    def perform(self, node, inputs, output_storage):\n",
    "        \n",
    "        r = inputs[0]\n",
    "        X = inputs[1]        \n",
    "        O = inputs[2]\n",
    "        \n",
    "        Offt = rfft(O)        \n",
    "\n",
    "        Xfft = rfft(X)        \n",
    "        XOconv = irfft(Xfft*Offt)\n",
    "        grad_r = np.sum(XOconv, axis=0)\n",
    "        \n",
    "        r_flipped_shifted = np.roll(r[::-1],1)\n",
    "        Rfft = rfft(r_flipped_shifted)\n",
    "        grad_X = irfft(Rfft*Offt)\n",
    "\n",
    "        output_storage[0][0] = grad_r\n",
    "        output_storage[1][0] = grad_X\n",
    "\n",
    "    def infer_shape(self, node, input_shapes):\n",
    "        return [input_shapes[0], input_shapes[1]]"
   ]
  },
  {
   "cell_type": "code",
   "execution_count": 524,
   "metadata": {
    "collapsed": true
   },
   "outputs": [],
   "source": [
    "class CirculantConvolutionOp(theano.Op):\n",
    "    def __init__(self):\n",
    "        super(CirculantConvolutionOp, self).__init__()\n",
    "\n",
    "    def make_node(self, r, X):\n",
    "        r = T.as_tensor_variable(r)\n",
    "        X = T.as_tensor_variable(X)\n",
    "        \n",
    "        assert r.ndim == 1\n",
    "        assert X.ndim == 2\n",
    "        \n",
    "        return theano.Apply(self, [r, X], [T.matrix()])\n",
    "\n",
    "    def perform(self, node, inputs, output_storage):\n",
    "        r = inputs[0]\n",
    "        X = inputs[1]\n",
    "        \n",
    "        Rfft = rfft(r)\n",
    "        Xfft = rfft(X)\n",
    "        \n",
    "        result = irfft(Rfft*Xfft)\n",
    "        \n",
    "        z = output_storage[0]\n",
    "        z[0] = result\n",
    "\n",
    "    def infer_shape(self, node, input_shapes):\n",
    "        return [input_shapes[1]]\n",
    "\n",
    "    def grad(self, inputs, output_grads):\n",
    "        r = inputs[0]\n",
    "        X = inputs[1]\n",
    "        O = output_grads[0]\n",
    "        \n",
    "        grad_op = CirculantConvolutionGradientOp()\n",
    "        return grad_op(r,X, O)"
   ]
  },
  {
   "cell_type": "code",
   "execution_count": 574,
   "metadata": {
    "collapsed": false
   },
   "outputs": [
    {
     "name": "stdout",
     "output_type": "stream",
     "text": [
      "[[ 5.  4.]\n",
      " [ 3.  3.]\n",
      " [ 0.  0.]]\n"
     ]
    }
   ],
   "source": [
    "r = T.dvector()\n",
    "X = T.dmatrix()\n",
    "conv_op = CirculantConvolutionOp()\n",
    "f = theano.function([r, X], conv_op(r, X))\n",
    "\n",
    "print(f([1,2], [[1,2],[1,1],[0,0]]))"
   ]
  },
  {
   "cell_type": "code",
   "execution_count": 575,
   "metadata": {
    "collapsed": false
   },
   "outputs": [],
   "source": [
    "T.verify_grad(conv_op,[np.array([1,2], dtype=np.float32), np.array([[1,2],[1,1],[0,0]], dtype=np.float32)],\n",
    "                         rng=np.random.RandomState())"
   ]
  },
  {
   "cell_type": "markdown",
   "metadata": {},
   "source": [
    "### Implementing linear layer with circulant weights"
   ]
  },
  {
   "cell_type": "code",
   "execution_count": 554,
   "metadata": {
    "collapsed": true
   },
   "outputs": [],
   "source": [
    "class CirculantLayer(Layer):\n",
    "\n",
    "    def __init__(self, output_dim,  **kwargs):\n",
    "        self.output_dim = output_dim\n",
    "        super(CirculantLayer, self).__init__(**kwargs)\n",
    "\n",
    "    def build(self, input_shape):\n",
    "        self.sign_flipping = np.random.randint(0,2, size = input_shape[1])\n",
    "        self.sign_flipping = (self.sign_flipping*2-1).astype(np.float32)\n",
    "        \n",
    "        self.input_dim = input_shape[1]\n",
    "        \n",
    "        circulant_vec_shape = (self.input_dim,)\n",
    "        if self.input_dim<self.output_dim:\n",
    "            circulant_vec_shape = (self.output_dim,)\n",
    "        \n",
    "        self.circulant_vec = self.add_weight(name='circulant_vec', \n",
    "                                      shape=circulant_vec_shape,\n",
    "                                      initializer='uniform',\n",
    "                                      trainable=True)\n",
    "        \n",
    "        self.bias = self.add_weight(name='bias', \n",
    "                                      shape=(self.output_dim,),\n",
    "                                      initializer='uniform',\n",
    "                                      trainable=True)\n",
    "        \n",
    "        \n",
    "        super(CirculantLayer, self).build(input_shape) \n",
    "\n",
    "    def call(self, X):\n",
    "        X =  K.T.as_tensor_variable(self.sign_flipping) * X  \n",
    "        \n",
    "        if self.input_dim<self.output_dim:\n",
    "            zeros = K.T.zeros((X.shape[0], self.output_dim))\n",
    "            X = K.T.set_subtensor(zeros[:,:self.input_dim], X)\n",
    "        \n",
    "        r = self.circulant_vec\n",
    "\n",
    "        conv_op = CirculantConvolutionOp()\n",
    "        RX =conv_op(r, X)\n",
    "        \n",
    "        if self.input_dim>self.output_dim:\n",
    "            RX = RX[:, :self.output_dim]\n",
    "        \n",
    "        return RX+self.bias\n",
    "\n",
    "    def compute_output_shape(self, input_shape):\n",
    "        return (input_shape[0], self.output_dim)"
   ]
  },
  {
   "cell_type": "markdown",
   "metadata": {
    "collapsed": false
   },
   "source": [
    "## Testing on digits dataset"
   ]
  },
  {
   "cell_type": "code",
   "execution_count": 555,
   "metadata": {
    "collapsed": false
   },
   "outputs": [],
   "source": [
    "digits = datasets.load_digits()\n",
    "n_samples = len(digits.images)\n",
    "X = digits.images.reshape((n_samples, -1))\n",
    "le = preprocessing.OneHotEncoder()\n",
    "y = le.fit_transform(digits.target.reshape(-1, 1)).todense()"
   ]
  },
  {
   "cell_type": "code",
   "execution_count": 556,
   "metadata": {
    "collapsed": false
   },
   "outputs": [],
   "source": [
    "X_train, X_test, y_train, y_test = model_selection.train_test_split(X, y, test_size=0.33, random_state=42)"
   ]
  },
  {
   "cell_type": "code",
   "execution_count": 557,
   "metadata": {
    "collapsed": false
   },
   "outputs": [],
   "source": [
    "def fit_circulant():\n",
    "    model = Sequential()\n",
    "    model.add(CirculantLayer(1000, input_shape=[X.shape[1]]))\n",
    "    model.add(Activation('relu'))\n",
    "    model.add(CirculantLayer(1000))\n",
    "    model.add(Activation('relu'))\n",
    "    model.add(Dense(10))\n",
    "    model.add(Activation('sigmoid'))\n",
    "\n",
    "    model.compile(optimizer='adam',\n",
    "                  loss='categorical_crossentropy',\n",
    "                  metrics=['accuracy'])\n",
    "    model.fit(X_train, y_train, verbose = 0)\n",
    "    return model"
   ]
  },
  {
   "cell_type": "code",
   "execution_count": 551,
   "metadata": {
    "collapsed": true
   },
   "outputs": [],
   "source": [
    "def fit_dense():\n",
    "    model = Sequential()\n",
    "    model.add(Dense(1000, input_shape=[X.shape[1]]))\n",
    "    model.add(Activation('relu'))\n",
    "    model.add(Dense(1000))\n",
    "    model.add(Activation('relu'))\n",
    "    model.add(Dense(10))\n",
    "    model.add(Activation('sigmoid'))\n",
    "\n",
    "    model.compile(optimizer='adam',\n",
    "                  loss='categorical_crossentropy',\n",
    "                  metrics=['accuracy'])\n",
    "    model.fit(X_train, y_train, verbose=0)\n",
    "    return model"
   ]
  },
  {
   "cell_type": "code",
   "execution_count": 552,
   "metadata": {
    "collapsed": false
   },
   "outputs": [
    {
     "name": "stdout",
     "output_type": "stream",
     "text": [
      "10 loops, best of 3: 7.97 s per loop\n"
     ]
    }
   ],
   "source": [
    "%timeit -n 10 fit_dense()"
   ]
  },
  {
   "cell_type": "code",
   "execution_count": 558,
   "metadata": {
    "collapsed": false,
    "scrolled": false
   },
   "outputs": [
    {
     "name": "stdout",
     "output_type": "stream",
     "text": [
      "10 loops, best of 3: 3.31 s per loop\n"
     ]
    }
   ],
   "source": [
    "%timeit -n 10 fit_circulant()"
   ]
  },
  {
   "cell_type": "code",
   "execution_count": 559,
   "metadata": {
    "collapsed": false
   },
   "outputs": [],
   "source": [
    "circulant_model = fit_circulant()"
   ]
  },
  {
   "cell_type": "code",
   "execution_count": 560,
   "metadata": {
    "collapsed": false
   },
   "outputs": [],
   "source": [
    "dense_model = fit_dense()"
   ]
  },
  {
   "cell_type": "code",
   "execution_count": 561,
   "metadata": {
    "collapsed": false
   },
   "outputs": [
    {
     "name": "stdout",
     "output_type": "stream",
     "text": [
      "10 loops, best of 3: 34.3 ms per loop\n"
     ]
    }
   ],
   "source": [
    "%timeit dense_model.predict(X_test)"
   ]
  },
  {
   "cell_type": "code",
   "execution_count": 563,
   "metadata": {
    "collapsed": false
   },
   "outputs": [
    {
     "name": "stdout",
     "output_type": "stream",
     "text": [
      "10 loops, best of 3: 23.8 ms per loop\n"
     ]
    }
   ],
   "source": [
    "%timeit circulant_model.predict(X_test)"
   ]
  },
  {
   "cell_type": "code",
   "execution_count": 564,
   "metadata": {
    "collapsed": true
   },
   "outputs": [],
   "source": [
    "def model_memory(model):\n",
    "    return sum(w.nbytes for w in model.get_weights())"
   ]
  },
  {
   "cell_type": "code",
   "execution_count": 565,
   "metadata": {
    "collapsed": false
   },
   "outputs": [
    {
     "data": {
      "text/plain": [
       "76.80299785867237"
      ]
     },
     "execution_count": 565,
     "metadata": {},
     "output_type": "execute_result"
    }
   ],
   "source": [
    "model_memory(dense_model)/model_memory(circulant_model)"
   ]
  },
  {
   "cell_type": "code",
   "execution_count": 567,
   "metadata": {
    "collapsed": false
   },
   "outputs": [
    {
     "data": {
      "text/plain": [
       "array(0.9781144857406616, dtype=float32)"
      ]
     },
     "execution_count": 567,
     "metadata": {},
     "output_type": "execute_result"
    }
   ],
   "source": [
    "K.eval(K.mean(keras.metrics.categorical_accuracy(K.variable(y_test), K.variable(dense_model.predict(X_test)))))"
   ]
  },
  {
   "cell_type": "code",
   "execution_count": 568,
   "metadata": {
    "collapsed": false
   },
   "outputs": [
    {
     "data": {
      "text/plain": [
       "array(0.9696969985961914, dtype=float32)"
      ]
     },
     "execution_count": 568,
     "metadata": {},
     "output_type": "execute_result"
    }
   ],
   "source": [
    "K.eval(K.mean(keras.metrics.categorical_accuracy(K.variable(y_test), K.variable(circulant_model.predict(X_test)))))"
   ]
  },
  {
   "cell_type": "code",
   "execution_count": null,
   "metadata": {
    "collapsed": true
   },
   "outputs": [],
   "source": []
  }
 ],
 "metadata": {
  "kernelspec": {
   "display_name": "Python 3",
   "language": "python",
   "name": "python3"
  },
  "language_info": {
   "codemirror_mode": {
    "name": "ipython",
    "version": 3
   },
   "file_extension": ".py",
   "mimetype": "text/x-python",
   "name": "python",
   "nbconvert_exporter": "python",
   "pygments_lexer": "ipython3",
   "version": "3.5.2"
  }
 },
 "nbformat": 4,
 "nbformat_minor": 2
}
