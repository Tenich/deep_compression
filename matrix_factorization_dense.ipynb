{
 "cells": [
  {
   "cell_type": "code",
   "execution_count": 11,
   "metadata": {},
   "outputs": [],
   "source": [
    "import numpy as np\n",
    "\n",
    "from keras.datasets import mnist\n",
    "\n",
    "from keras.models import Sequential\n",
    "from keras.layers import Flatten, Dense, Dropout, Activation\n",
    "from keras.utils import to_categorical\n",
    "\n",
    "from tqdm import tqdm_notebook"
   ]
  },
  {
   "cell_type": "code",
   "execution_count": 2,
   "metadata": {},
   "outputs": [],
   "source": [
    "(x_train, y_train), (x_test, y_test) = mnist.load_data()\n",
    "x_train =  x_train / 255.0\n",
    "x_test = x_test / 255.0\n",
    "y_train = to_categorical(y_train)\n",
    "y_test = to_categorical(y_test)"
   ]
  },
  {
   "cell_type": "code",
   "execution_count": 3,
   "metadata": {},
   "outputs": [
    {
     "data": {
      "text/plain": [
       "(60000, 28, 28)"
      ]
     },
     "execution_count": 3,
     "metadata": {},
     "output_type": "execute_result"
    }
   ],
   "source": [
    "x_train.shape"
   ]
  },
  {
   "cell_type": "code",
   "execution_count": 4,
   "metadata": {},
   "outputs": [],
   "source": [
    "model = Sequential()\n",
    "model.add(Flatten(input_shape=(28, 28)))\n",
    "model.add(Dense(512, activation='relu'))\n",
    "model.add(Dropout(0.2))\n",
    "model.add(Dense(512, activation='relu'))\n",
    "model.add(Dropout(0.2))\n",
    "model.add(Dense(10))\n",
    "model.add(Activation('softmax'))"
   ]
  },
  {
   "cell_type": "code",
   "execution_count": 5,
   "metadata": {},
   "outputs": [],
   "source": [
    "model.compile('adam', 'categorical_crossentropy', metrics=['accuracy'])"
   ]
  },
  {
   "cell_type": "code",
   "execution_count": 6,
   "metadata": {},
   "outputs": [
    {
     "name": "stdout",
     "output_type": "stream",
     "text": [
      "Train on 60000 samples, validate on 10000 samples\n",
      "Epoch 1/10\n",
      "60000/60000 [==============================] - 42s 697us/step - loss: 0.2242 - acc: 0.9319 - val_loss: 0.1034 - val_acc: 0.9660\n",
      "Epoch 2/10\n",
      "60000/60000 [==============================] - 40s 667us/step - loss: 0.1027 - acc: 0.9690 - val_loss: 0.0878 - val_acc: 0.9725\n",
      "Epoch 3/10\n",
      "60000/60000 [==============================] - 41s 678us/step - loss: 0.0735 - acc: 0.9763 - val_loss: 0.0734 - val_acc: 0.9776\n",
      "Epoch 4/10\n",
      "60000/60000 [==============================] - 42s 701us/step - loss: 0.0612 - acc: 0.9804 - val_loss: 0.0686 - val_acc: 0.9801\n",
      "Epoch 5/10\n",
      "60000/60000 [==============================] - 39s 642us/step - loss: 0.0507 - acc: 0.9837 - val_loss: 0.0677 - val_acc: 0.9797\n",
      "Epoch 6/10\n",
      "60000/60000 [==============================] - 28s 471us/step - loss: 0.0430 - acc: 0.9859 - val_loss: 0.0709 - val_acc: 0.9802\n",
      "Epoch 7/10\n",
      "60000/60000 [==============================] - 34s 561us/step - loss: 0.0394 - acc: 0.9871 - val_loss: 0.0719 - val_acc: 0.9806\n",
      "Epoch 8/10\n",
      "60000/60000 [==============================] - 27s 443us/step - loss: 0.0352 - acc: 0.9889 - val_loss: 0.0714 - val_acc: 0.9814\n",
      "Epoch 9/10\n",
      "60000/60000 [==============================] - 27s 457us/step - loss: 0.0327 - acc: 0.9895 - val_loss: 0.0746 - val_acc: 0.9818\n",
      "Epoch 10/10\n",
      "60000/60000 [==============================] - 24s 396us/step - loss: 0.0306 - acc: 0.9900 - val_loss: 0.0695 - val_acc: 0.9823\n"
     ]
    },
    {
     "data": {
      "text/plain": [
       "<keras.callbacks.History at 0x181994fbe0>"
      ]
     },
     "execution_count": 6,
     "metadata": {},
     "output_type": "execute_result"
    }
   ],
   "source": [
    "model.fit(x_train, y_train, \n",
    "          batch_size=64, epochs=10,\n",
    "          validation_data=(x_test, y_test))"
   ]
  },
  {
   "cell_type": "code",
   "execution_count": 7,
   "metadata": {},
   "outputs": [
    {
     "data": {
      "text/plain": [
       "[0.069526189794246143, 0.98229999999999995]"
      ]
     },
     "execution_count": 7,
     "metadata": {},
     "output_type": "execute_result"
    }
   ],
   "source": [
    "model.evaluate(x_test, y_test, verbose=0)"
   ]
  },
  {
   "cell_type": "code",
   "execution_count": 9,
   "metadata": {},
   "outputs": [
    {
     "name": "stdout",
     "output_type": "stream",
     "text": [
      "[10.146345379638673, 0.15939999999999999]\n",
      "[4.4640375984191891, 0.16980000000000001]\n",
      "[3.2330919906616211, 0.2878]\n",
      "[2.8833652229309084, 0.53439999999999999]\n",
      "[0.5375544863879681, 0.85270000000000001]\n",
      "[0.096995719662818378, 0.97560000000000002]\n",
      "[0.073573062395004399, 0.9819]\n",
      "[0.069296292846260626, 0.98170000000000002]\n",
      "[0.069256134514182943, 0.98199999999999998]\n"
     ]
    }
   ],
   "source": [
    "target = model.layers[1].get_weights()\n",
    "u, s, v_t = np.linalg.svd(target[0], full_matrices=False)\n",
    "\n",
    "for k in range(9):\n",
    "    tmp_s = s.copy()\n",
    "    tmp_s[2 ** k:] = 0\n",
    "    new_weight = u @ np.diag(tmp_s) @ v_t\n",
    "    \n",
    "    model.layers[1].set_weights([new_weight, target[1]])\n",
    "    \n",
    "    print(model.evaluate(x_test, y_test, verbose=0))\n",
    "model.layers[1].set_weights(target)"
   ]
  },
  {
   "cell_type": "code",
   "execution_count": 13,
   "metadata": {},
   "outputs": [
    {
     "data": {
      "application/vnd.jupyter.widget-view+json": {
       "model_id": "f7f1d166959746f898c56a58351c7266",
       "version_major": 2,
       "version_minor": 0
      },
      "text/html": [
       "<p>Failed to display Jupyter Widget of type <code>HBox</code>.</p>\n",
       "<p>\n",
       "  If you're reading this message in the Jupyter Notebook or JupyterLab Notebook, it may mean\n",
       "  that the widgets JavaScript is still loading. If this message persists, it\n",
       "  likely means that the widgets JavaScript library is either not installed or\n",
       "  not enabled. See the <a href=\"https://ipywidgets.readthedocs.io/en/stable/user_install.html\">Jupyter\n",
       "  Widgets Documentation</a> for setup instructions.\n",
       "</p>\n",
       "<p>\n",
       "  If you're reading this message in another frontend (for example, a static\n",
       "  rendering on GitHub or <a href=\"https://nbviewer.jupyter.org/\">NBViewer</a>),\n",
       "  it may mean that your frontend doesn't currently support widgets.\n",
       "</p>\n"
      ],
      "text/plain": [
       "HBox(children=(IntProgress(value=0, max=9), HTML(value='')))"
      ]
     },
     "metadata": {},
     "output_type": "display_data"
    },
    {
     "name": "stdout",
     "output_type": "stream",
     "text": [
      "[1.6379653503417968, 0.3574]\n",
      "[1.1204903287887573, 0.59989999999999999]\n",
      "[0.59145005402564998, 0.82130000000000003]\n",
      "[0.29622616779208183, 0.91300000000000003]\n",
      "[0.1685811268031597, 0.94789999999999996]\n",
      "[0.10343013823218644, 0.96679999999999999]\n",
      "[0.07126743512176327, 0.97750000000000004]\n",
      "[0.072578562841452365, 0.9798]\n",
      "[0.070283059116308874, 0.98170000000000002]\n",
      "\n"
     ]
    }
   ],
   "source": [
    "for k in tqdm_notebook(range(9)):\n",
    "    model = Sequential()\n",
    "    model.add(Flatten(input_shape=(28, 28)))\n",
    "    model.add(Dense(2 ** k, activation='relu'))\n",
    "    model.add(Dropout(0.2))\n",
    "    model.add(Dense(512, activation='relu'))\n",
    "    model.add(Dropout(0.2))\n",
    "    model.add(Dense(10))\n",
    "    model.add(Activation('softmax'))\n",
    "    model.compile('adam', 'categorical_crossentropy', metrics=['accuracy'])\n",
    "    \n",
    "    model.fit(x_train, y_train, \n",
    "          batch_size=64, epochs=10,\n",
    "          validation_data=(x_test, y_test), verbose=0)\n",
    "    print(model.evaluate(x_test, y_test, verbose=0))"
   ]
  }
 ],
 "metadata": {
  "kernelspec": {
   "display_name": "Python 3",
   "language": "python",
   "name": "python3"
  },
  "language_info": {
   "codemirror_mode": {
    "name": "ipython",
    "version": 3
   },
   "file_extension": ".py",
   "mimetype": "text/x-python",
   "name": "python",
   "nbconvert_exporter": "python",
   "pygments_lexer": "ipython3",
   "version": "3.6.3"
  }
 },
 "nbformat": 4,
 "nbformat_minor": 2
}
