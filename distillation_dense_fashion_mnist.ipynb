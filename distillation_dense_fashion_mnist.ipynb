{
 "cells": [
  {
   "cell_type": "code",
   "execution_count": 1,
   "metadata": {},
   "outputs": [
    {
     "name": "stderr",
     "output_type": "stream",
     "text": [
      "Using TensorFlow backend.\n",
      "/Users/tentenich/anaconda3/lib/python3.6/importlib/_bootstrap.py:219: RuntimeWarning: compiletime version 3.5 of module 'tensorflow.python.framework.fast_tensor_util' does not match runtime version 3.6\n",
      "  return f(*args, **kwds)\n"
     ]
    }
   ],
   "source": [
    "import numpy as np\n",
    "\n",
    "from keras.datasets import fashion_mnist as mnist\n",
    "\n",
    "from keras.models import Sequential, Model\n",
    "from keras.layers import Flatten, Dense, Activation, Dropout\n",
    "from keras.utils import to_categorical\n",
    "\n",
    "from tqdm import tqdm_notebook\n",
    "\n",
    "import matplotlib.pyplot as plt\n",
    "%matplotlib inline\n",
    "import seaborn as sns"
   ]
  },
  {
   "cell_type": "code",
   "execution_count": 2,
   "metadata": {},
   "outputs": [],
   "source": [
    "(x_train, y_train), (x_test, y_test) = mnist.load_data()\n",
    "x_train =  x_train / 255.0\n",
    "x_test = x_test / 255.0\n",
    "y_train = to_categorical(y_train)\n",
    "y_test = to_categorical(y_test)"
   ]
  },
  {
   "cell_type": "code",
   "execution_count": 3,
   "metadata": {},
   "outputs": [
    {
     "data": {
      "text/plain": [
       "(60000, 28, 28)"
      ]
     },
     "execution_count": 3,
     "metadata": {},
     "output_type": "execute_result"
    }
   ],
   "source": [
    "x_train.shape"
   ]
  },
  {
   "cell_type": "code",
   "execution_count": 4,
   "metadata": {},
   "outputs": [],
   "source": [
    "model = Sequential()\n",
    "model.add(Flatten(input_shape=(28, 28)))\n",
    "model.add(Dense(512, activation='relu'))\n",
    "model.add(Dropout(0.2))\n",
    "model.add(Dense(512, activation='relu'))\n",
    "model.add(Dropout(0.2))\n",
    "model.add(Dense(10))\n",
    "model.add(Activation('softmax'))"
   ]
  },
  {
   "cell_type": "code",
   "execution_count": 5,
   "metadata": {},
   "outputs": [],
   "source": [
    "model.compile('adam', 'categorical_crossentropy', metrics=['accuracy'])"
   ]
  },
  {
   "cell_type": "code",
   "execution_count": 6,
   "metadata": {},
   "outputs": [
    {
     "name": "stdout",
     "output_type": "stream",
     "text": [
      "_________________________________________________________________\n",
      "Layer (type)                 Output Shape              Param #   \n",
      "=================================================================\n",
      "flatten_1 (Flatten)          (None, 784)               0         \n",
      "_________________________________________________________________\n",
      "dense_1 (Dense)              (None, 512)               401920    \n",
      "_________________________________________________________________\n",
      "dropout_1 (Dropout)          (None, 512)               0         \n",
      "_________________________________________________________________\n",
      "dense_2 (Dense)              (None, 512)               262656    \n",
      "_________________________________________________________________\n",
      "dropout_2 (Dropout)          (None, 512)               0         \n",
      "_________________________________________________________________\n",
      "dense_3 (Dense)              (None, 10)                5130      \n",
      "_________________________________________________________________\n",
      "activation_1 (Activation)    (None, 10)                0         \n",
      "=================================================================\n",
      "Total params: 669,706\n",
      "Trainable params: 669,706\n",
      "Non-trainable params: 0\n",
      "_________________________________________________________________\n"
     ]
    }
   ],
   "source": [
    "model.summary()"
   ]
  },
  {
   "cell_type": "code",
   "execution_count": 7,
   "metadata": {},
   "outputs": [
    {
     "name": "stdout",
     "output_type": "stream",
     "text": [
      "Train on 60000 samples, validate on 10000 samples\n",
      "Epoch 1/10\n",
      "60000/60000 [==============================] - 41s 679us/step - loss: 0.5088 - acc: 0.8171 - val_loss: 0.4121 - val_acc: 0.8511\n",
      "Epoch 2/10\n",
      "60000/60000 [==============================] - 43s 714us/step - loss: 0.3859 - acc: 0.8582 - val_loss: 0.3748 - val_acc: 0.8617\n",
      "Epoch 3/10\n",
      "60000/60000 [==============================] - 47s 775us/step - loss: 0.3505 - acc: 0.8714 - val_loss: 0.3487 - val_acc: 0.8733\n",
      "Epoch 4/10\n",
      "60000/60000 [==============================] - 47s 788us/step - loss: 0.3352 - acc: 0.8746 - val_loss: 0.3684 - val_acc: 0.8648\n",
      "Epoch 5/10\n",
      "60000/60000 [==============================] - 42s 692us/step - loss: 0.3160 - acc: 0.8833 - val_loss: 0.3642 - val_acc: 0.8711\n",
      "Epoch 6/10\n",
      "60000/60000 [==============================] - 29s 477us/step - loss: 0.3048 - acc: 0.8870 - val_loss: 0.3365 - val_acc: 0.8798\n",
      "Epoch 7/10\n",
      "60000/60000 [==============================] - 33s 542us/step - loss: 0.2930 - acc: 0.8899 - val_loss: 0.3366 - val_acc: 0.8804\n",
      "Epoch 8/10\n",
      "60000/60000 [==============================] - 47s 778us/step - loss: 0.2838 - acc: 0.8934 - val_loss: 0.3213 - val_acc: 0.8837\n",
      "Epoch 9/10\n",
      "60000/60000 [==============================] - 44s 726us/step - loss: 0.2763 - acc: 0.8957 - val_loss: 0.3214 - val_acc: 0.8850\n",
      "Epoch 10/10\n",
      "60000/60000 [==============================] - 39s 645us/step - loss: 0.2665 - acc: 0.8987 - val_loss: 0.3373 - val_acc: 0.8797\n"
     ]
    },
    {
     "data": {
      "text/plain": [
       "<keras.callbacks.History at 0x1a1a8274a8>"
      ]
     },
     "execution_count": 7,
     "metadata": {},
     "output_type": "execute_result"
    }
   ],
   "source": [
    "model.fit(x_train, y_train, \n",
    "          batch_size=64, epochs=10,\n",
    "          validation_data=(x_test, y_test))"
   ]
  },
  {
   "cell_type": "code",
   "execution_count": 8,
   "metadata": {},
   "outputs": [
    {
     "data": {
      "text/plain": [
       "[0.33732885749340058, 0.87970000000000004]"
      ]
     },
     "execution_count": 8,
     "metadata": {},
     "output_type": "execute_result"
    }
   ],
   "source": [
    "model.evaluate(x_test, y_test, verbose=0)"
   ]
  },
  {
   "cell_type": "code",
   "execution_count": 9,
   "metadata": {},
   "outputs": [],
   "source": [
    "tmp_model = Model(model.inputs, model.layers[-2].output)"
   ]
  },
  {
   "cell_type": "code",
   "execution_count": 10,
   "metadata": {},
   "outputs": [],
   "source": [
    "def softmax(x, t=1.0):\n",
    "    x_exp = np.exp(x / t)\n",
    "    return x_exp / x_exp.sum(axis=1, keepdims=True)"
   ]
  },
  {
   "cell_type": "code",
   "execution_count": 11,
   "metadata": {},
   "outputs": [
    {
     "data": {
      "application/vnd.jupyter.widget-view+json": {
       "model_id": "eefef5b8804b4428a9ff8a4706d7905d",
       "version_major": 2,
       "version_minor": 0
      },
      "text/html": [
       "<p>Failed to display Jupyter Widget of type <code>HBox</code>.</p>\n",
       "<p>\n",
       "  If you're reading this message in the Jupyter Notebook or JupyterLab Notebook, it may mean\n",
       "  that the widgets JavaScript is still loading. If this message persists, it\n",
       "  likely means that the widgets JavaScript library is either not installed or\n",
       "  not enabled. See the <a href=\"https://ipywidgets.readthedocs.io/en/stable/user_install.html\">Jupyter\n",
       "  Widgets Documentation</a> for setup instructions.\n",
       "</p>\n",
       "<p>\n",
       "  If you're reading this message in another frontend (for example, a static\n",
       "  rendering on GitHub or <a href=\"https://nbviewer.jupyter.org/\">NBViewer</a>),\n",
       "  it may mean that your frontend doesn't currently support widgets.\n",
       "</p>\n"
      ],
      "text/plain": [
       "HBox(children=(IntProgress(value=0, max=5), HTML(value='')))"
      ]
     },
     "metadata": {},
     "output_type": "display_data"
    },
    {
     "data": {
      "application/vnd.jupyter.widget-view+json": {
       "model_id": "e95e259aed67454f9159c786b0db33bd",
       "version_major": 2,
       "version_minor": 0
      },
      "text/html": [
       "<p>Failed to display Jupyter Widget of type <code>HBox</code>.</p>\n",
       "<p>\n",
       "  If you're reading this message in the Jupyter Notebook or JupyterLab Notebook, it may mean\n",
       "  that the widgets JavaScript is still loading. If this message persists, it\n",
       "  likely means that the widgets JavaScript library is either not installed or\n",
       "  not enabled. See the <a href=\"https://ipywidgets.readthedocs.io/en/stable/user_install.html\">Jupyter\n",
       "  Widgets Documentation</a> for setup instructions.\n",
       "</p>\n",
       "<p>\n",
       "  If you're reading this message in another frontend (for example, a static\n",
       "  rendering on GitHub or <a href=\"https://nbviewer.jupyter.org/\">NBViewer</a>),\n",
       "  it may mean that your frontend doesn't currently support widgets.\n",
       "</p>\n"
      ],
      "text/plain": [
       "HBox(children=(IntProgress(value=0, max=6), HTML(value='')))"
      ]
     },
     "metadata": {},
     "output_type": "display_data"
    },
    {
     "name": "stdout",
     "output_type": "stream",
     "text": [
      "[1.1669988160133362, 0.84299999999999997]\n",
      "[1.2398902673721313, 0.82230000000000003]\n",
      "[1.2956529656410218, 0.72470000000000001]\n",
      "[1.4244512098312379, 0.60909999999999997]\n",
      "[1.6455307523727416, 0.45689999999999997]\n",
      "[1.8388499662399291, 0.44330000000000003]\n"
     ]
    },
    {
     "data": {
      "application/vnd.jupyter.widget-view+json": {
       "model_id": "917310292d604c1e9994b9aa91297e19",
       "version_major": 2,
       "version_minor": 0
      },
      "text/html": [
       "<p>Failed to display Jupyter Widget of type <code>HBox</code>.</p>\n",
       "<p>\n",
       "  If you're reading this message in the Jupyter Notebook or JupyterLab Notebook, it may mean\n",
       "  that the widgets JavaScript is still loading. If this message persists, it\n",
       "  likely means that the widgets JavaScript library is either not installed or\n",
       "  not enabled. See the <a href=\"https://ipywidgets.readthedocs.io/en/stable/user_install.html\">Jupyter\n",
       "  Widgets Documentation</a> for setup instructions.\n",
       "</p>\n",
       "<p>\n",
       "  If you're reading this message in another frontend (for example, a static\n",
       "  rendering on GitHub or <a href=\"https://nbviewer.jupyter.org/\">NBViewer</a>),\n",
       "  it may mean that your frontend doesn't currently support widgets.\n",
       "</p>\n"
      ],
      "text/plain": [
       "HBox(children=(IntProgress(value=0, max=6), HTML(value='')))"
      ]
     },
     "metadata": {},
     "output_type": "display_data"
    },
    {
     "name": "stdout",
     "output_type": "stream",
     "text": [
      "[1.1782121329307556, 0.85580000000000001]\n",
      "[1.1997837825775146, 0.83499999999999996]\n",
      "[1.2927645238876342, 0.75370000000000004]\n",
      "[1.3732114331245422, 0.61629999999999996]\n",
      "[1.5854132637023926, 0.502]\n",
      "[1.9745964275360108, 0.27329999999999999]\n"
     ]
    },
    {
     "data": {
      "application/vnd.jupyter.widget-view+json": {
       "model_id": "a6a7be3681d4428bb5b6ae051c501d6a",
       "version_major": 2,
       "version_minor": 0
      },
      "text/html": [
       "<p>Failed to display Jupyter Widget of type <code>HBox</code>.</p>\n",
       "<p>\n",
       "  If you're reading this message in the Jupyter Notebook or JupyterLab Notebook, it may mean\n",
       "  that the widgets JavaScript is still loading. If this message persists, it\n",
       "  likely means that the widgets JavaScript library is either not installed or\n",
       "  not enabled. See the <a href=\"https://ipywidgets.readthedocs.io/en/stable/user_install.html\">Jupyter\n",
       "  Widgets Documentation</a> for setup instructions.\n",
       "</p>\n",
       "<p>\n",
       "  If you're reading this message in another frontend (for example, a static\n",
       "  rendering on GitHub or <a href=\"https://nbviewer.jupyter.org/\">NBViewer</a>),\n",
       "  it may mean that your frontend doesn't currently support widgets.\n",
       "</p>\n"
      ],
      "text/plain": [
       "HBox(children=(IntProgress(value=0, max=6), HTML(value='')))"
      ]
     },
     "metadata": {},
     "output_type": "display_data"
    },
    {
     "name": "stdout",
     "output_type": "stream",
     "text": [
      "[1.1971533603668212, 0.85619999999999996]\n",
      "[1.2383922478675842, 0.81659999999999999]\n",
      "[1.2890478141784667, 0.76649999999999996]\n",
      "[1.4238563024520874, 0.61370000000000002]\n",
      "[1.5789125045776367, 0.49299999999999999]\n",
      "[1.8444282627105713, 0.41889999999999999]\n"
     ]
    },
    {
     "data": {
      "application/vnd.jupyter.widget-view+json": {
       "model_id": "bfa9409cffe6403880f6baf925eaa66d",
       "version_major": 2,
       "version_minor": 0
      },
      "text/html": [
       "<p>Failed to display Jupyter Widget of type <code>HBox</code>.</p>\n",
       "<p>\n",
       "  If you're reading this message in the Jupyter Notebook or JupyterLab Notebook, it may mean\n",
       "  that the widgets JavaScript is still loading. If this message persists, it\n",
       "  likely means that the widgets JavaScript library is either not installed or\n",
       "  not enabled. See the <a href=\"https://ipywidgets.readthedocs.io/en/stable/user_install.html\">Jupyter\n",
       "  Widgets Documentation</a> for setup instructions.\n",
       "</p>\n",
       "<p>\n",
       "  If you're reading this message in another frontend (for example, a static\n",
       "  rendering on GitHub or <a href=\"https://nbviewer.jupyter.org/\">NBViewer</a>),\n",
       "  it may mean that your frontend doesn't currently support widgets.\n",
       "</p>\n"
      ],
      "text/plain": [
       "HBox(children=(IntProgress(value=0, max=6), HTML(value='')))"
      ]
     },
     "metadata": {},
     "output_type": "display_data"
    },
    {
     "name": "stdout",
     "output_type": "stream",
     "text": [
      "[1.2002977197647096, 0.84630000000000005]\n",
      "[1.2177450578689575, 0.82369999999999999]\n",
      "[1.2819756113052367, 0.79090000000000005]\n",
      "[1.3993512513160706, 0.56689999999999996]\n",
      "[1.6517489692687988, 0.47489999999999999]\n",
      "[1.9801278686523438, 0.2792]\n"
     ]
    },
    {
     "data": {
      "application/vnd.jupyter.widget-view+json": {
       "model_id": "319788aa2777423d8f83e237fa3013cb",
       "version_major": 2,
       "version_minor": 0
      },
      "text/html": [
       "<p>Failed to display Jupyter Widget of type <code>HBox</code>.</p>\n",
       "<p>\n",
       "  If you're reading this message in the Jupyter Notebook or JupyterLab Notebook, it may mean\n",
       "  that the widgets JavaScript is still loading. If this message persists, it\n",
       "  likely means that the widgets JavaScript library is either not installed or\n",
       "  not enabled. See the <a href=\"https://ipywidgets.readthedocs.io/en/stable/user_install.html\">Jupyter\n",
       "  Widgets Documentation</a> for setup instructions.\n",
       "</p>\n",
       "<p>\n",
       "  If you're reading this message in another frontend (for example, a static\n",
       "  rendering on GitHub or <a href=\"https://nbviewer.jupyter.org/\">NBViewer</a>),\n",
       "  it may mean that your frontend doesn't currently support widgets.\n",
       "</p>\n"
      ],
      "text/plain": [
       "HBox(children=(IntProgress(value=0, max=6), HTML(value='')))"
      ]
     },
     "metadata": {},
     "output_type": "display_data"
    },
    {
     "name": "stdout",
     "output_type": "stream",
     "text": [
      "[1.1814528100967407, 0.85019999999999996]\n",
      "[1.2247882466316222, 0.82369999999999999]\n",
      "[1.2721406158447266, 0.77380000000000004]\n",
      "[1.4227315647125245, 0.60840000000000005]\n",
      "[1.5856623649597168, 0.4975]\n",
      "[1.9163854682922363, 0.28799999999999998]\n",
      "\n"
     ]
    }
   ],
   "source": [
    "result = {}\n",
    "for t in tqdm_notebook([1, 4, 16, 32, 128]):\n",
    "    probs_train = softmax(tmp_model.predict(x_train), t=10)\n",
    "    for k in tqdm_notebook(range(2, 8), leave=False):\n",
    "        new_model = Sequential()\n",
    "        new_model.add(Flatten(input_shape=(28, 28)))\n",
    "        new_model.add(Dense(512 // 2 ** k, activation='relu'))\n",
    "        new_model.add(Dropout(0.2))\n",
    "        new_model.add(Dense(256 // 2 ** k, activation='relu'))\n",
    "        new_model.add(Dropout(0.2))\n",
    "        new_model.add(Dense(10))\n",
    "        new_model.add(Activation('softmax'))\n",
    "\n",
    "        new_model.compile('adam', 'kullback_leibler_divergence', metrics=['accuracy'])\n",
    "\n",
    "        new_model.fit(x_train, probs_train, \n",
    "                      batch_size=64, epochs=10,\n",
    "                      validation_data=(x_test, y_test), verbose=0)\n",
    "        \n",
    "        result[(t, k)] = new_model.evaluate(x_test, y_test, verbose=0)\n",
    "        print(result[(t, k)])"
   ]
  },
  {
   "cell_type": "code",
   "execution_count": 12,
   "metadata": {},
   "outputs": [
    {
     "data": {
      "application/vnd.jupyter.widget-view+json": {
       "model_id": "f1c95ee804eb45b282e2b3d51c5197cc",
       "version_major": 2,
       "version_minor": 0
      },
      "text/html": [
       "<p>Failed to display Jupyter Widget of type <code>HBox</code>.</p>\n",
       "<p>\n",
       "  If you're reading this message in the Jupyter Notebook or JupyterLab Notebook, it may mean\n",
       "  that the widgets JavaScript is still loading. If this message persists, it\n",
       "  likely means that the widgets JavaScript library is either not installed or\n",
       "  not enabled. See the <a href=\"https://ipywidgets.readthedocs.io/en/stable/user_install.html\">Jupyter\n",
       "  Widgets Documentation</a> for setup instructions.\n",
       "</p>\n",
       "<p>\n",
       "  If you're reading this message in another frontend (for example, a static\n",
       "  rendering on GitHub or <a href=\"https://nbviewer.jupyter.org/\">NBViewer</a>),\n",
       "  it may mean that your frontend doesn't currently support widgets.\n",
       "</p>\n"
      ],
      "text/plain": [
       "HBox(children=(IntProgress(value=0, max=6), HTML(value='')))"
      ]
     },
     "metadata": {},
     "output_type": "display_data"
    },
    {
     "name": "stdout",
     "output_type": "stream",
     "text": [
      "[0.34734366161823271, 0.87490000000000001]\n",
      "[0.35934051780700682, 0.87629999999999997]\n",
      "[0.39978528811931607, 0.86109999999999998]\n",
      "[0.51885488924980161, 0.83320000000000005]\n",
      "[0.74625239562988277, 0.77490000000000003]\n",
      "[1.1882811880111694, 0.60770000000000002]\n",
      "\r"
     ]
    }
   ],
   "source": [
    "result_baseline = {}\n",
    "\n",
    "for k in tqdm_notebook(range(2, 8), leave=False):\n",
    "    new_model = Sequential()\n",
    "    new_model.add(Flatten(input_shape=(28, 28)))\n",
    "    new_model.add(Dense(512 // 2 ** k, activation='relu'))\n",
    "    new_model.add(Dropout(0.2))\n",
    "    new_model.add(Dense(256 // 2 ** k, activation='relu'))\n",
    "    new_model.add(Dropout(0.2))\n",
    "    new_model.add(Dense(10))\n",
    "    new_model.add(Activation('softmax'))\n",
    "\n",
    "    new_model.compile('adam', 'categorical_crossentropy', metrics=['accuracy'])\n",
    "\n",
    "    new_model.fit(x_train, y_train, \n",
    "                  batch_size=64, epochs=10,\n",
    "                  validation_data=(x_test, y_test), verbose=0)\n",
    "        \n",
    "    result_baseline[k] = new_model.evaluate(x_test, y_test, verbose=0)\n",
    "    print(result_baseline[k])"
   ]
  },
  {
   "cell_type": "code",
   "execution_count": 13,
   "metadata": {},
   "outputs": [
    {
     "data": {
      "text/plain": [
       "{2: [0.34734366161823271, 0.87490000000000001],\n",
       " 3: [0.35934051780700682, 0.87629999999999997],\n",
       " 4: [0.39978528811931607, 0.86109999999999998],\n",
       " 5: [0.51885488924980161, 0.83320000000000005],\n",
       " 6: [0.74625239562988277, 0.77490000000000003],\n",
       " 7: [1.1882811880111694, 0.60770000000000002]}"
      ]
     },
     "execution_count": 13,
     "metadata": {},
     "output_type": "execute_result"
    }
   ],
   "source": [
    "result_baseline"
   ]
  },
  {
   "cell_type": "code",
   "execution_count": 19,
   "metadata": {},
   "outputs": [
    {
     "data": {
      "text/plain": [
       "<matplotlib.legend.Legend at 0x1a4a5dc6d8>"
      ]
     },
     "execution_count": 19,
     "metadata": {},
     "output_type": "execute_result"
    },
    {
     "data": {
      "image/png": "[encoded data removed]",
      "text/plain": [
       "<matplotlib.figure.Figure at 0x1a4a1a4c50>"
      ]
     },
     "metadata": {},
     "output_type": "display_data"
    }
   ],
   "source": [
    "legend = []\n",
    "\n",
    "plt.figure(figsize=(10, 6))\n",
    "plt.title('Fashion-MNIST')\n",
    "\n",
    "    \n",
    "plt.plot([result_baseline[i] for i in range(2, 8)])\n",
    "legend = ['train_logloss', 'train_accuracy']\n",
    "\n",
    "for t in [1, 4, 16, 32, 128]:\n",
    "    plt.plot([result[(t, i)] for i in range(2, 8)])\n",
    "  \n",
    "    legend += ['distill_t_{}_logloss'.format(t), \n",
    "               'distill_t_{}_accuracy'.format(t)]\n",
    "    \n",
    "plt.ylabel('metric')\n",
    "plt.xlabel('log layer output divisior')\n",
    "plt.legend(legend, bbox_to_anchor=(1.0, 1.0))"
   ]
  }
 ],
 "metadata": {
  "kernelspec": {
   "display_name": "Python 3",
   "language": "python",
   "name": "python3"
  },
  "language_info": {
   "codemirror_mode": {
    "name": "ipython",
    "version": 3
   },
   "file_extension": ".py",
   "mimetype": "text/x-python",
   "name": "python",
   "nbconvert_exporter": "python",
   "pygments_lexer": "ipython3",
   "version": "3.6.3"
  }
 },
 "nbformat": 4,
 "nbformat_minor": 2
}
