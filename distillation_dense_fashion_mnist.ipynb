{
 "cells": [
  {
   "cell_type": "code",
   "execution_count": 1,
   "metadata": {},
   "outputs": [
    {
     "name": "stderr",
     "output_type": "stream",
     "text": [
      "Using TensorFlow backend.\n",
      "/Users/tentenich/anaconda3/lib/python3.6/importlib/_bootstrap.py:219: RuntimeWarning: compiletime version 3.5 of module 'tensorflow.python.framework.fast_tensor_util' does not match runtime version 3.6\n",
      "  return f(*args, **kwds)\n"
     ]
    }
   ],
   "source": [
    "import numpy as np\n",
    "\n",
    "from keras.datasets import fashion_mnist as mnist\n",
    "\n",
    "from keras.models import Sequential, Model\n",
    "from keras.layers import Flatten, Dense, Activation, Dropout\n",
    "from keras.utils import to_categorical\n",
    "\n",
    "from tqdm import tqdm_notebook\n",
    "\n",
    "import matplotlib.pyplot as plt\n",
    "%matplotlib inline\n",
    "import seaborn as sns"
   ]
  },
  {
   "cell_type": "code",
   "execution_count": 2,
   "metadata": {},
   "outputs": [],
   "source": [
    "(x_train, y_train), (x_test, y_test) = mnist.load_data()\n",
    "x_train =  x_train / 255.0\n",
    "x_test = x_test / 255.0\n",
    "y_train = to_categorical(y_train)\n",
    "y_test = to_categorical(y_test)"
   ]
  },
  {
   "cell_type": "code",
   "execution_count": 3,
   "metadata": {},
   "outputs": [
    {
     "data": {
      "text/plain": [
       "(60000, 28, 28)"
      ]
     },
     "execution_count": 3,
     "metadata": {},
     "output_type": "execute_result"
    }
   ],
   "source": [
    "x_train.shape"
   ]
  },
  {
   "cell_type": "code",
   "execution_count": 4,
   "metadata": {},
   "outputs": [],
   "source": [
    "model = Sequential()\n",
    "model.add(Flatten(input_shape=(28, 28)))\n",
    "model.add(Dense(512, activation='relu'))\n",
    "model.add(Dropout(0.2))\n",
    "model.add(Dense(512, activation='relu'))\n",
    "model.add(Dropout(0.2))\n",
    "model.add(Dense(10))\n",
    "model.add(Activation('softmax'))"
   ]
  },
  {
   "cell_type": "code",
   "execution_count": 5,
   "metadata": {},
   "outputs": [],
   "source": [
    "model.compile('adam', 'categorical_crossentropy', metrics=['accuracy'])"
   ]
  },
  {
   "cell_type": "code",
   "execution_count": 6,
   "metadata": {},
   "outputs": [
    {
     "name": "stdout",
     "output_type": "stream",
     "text": [
      "_________________________________________________________________\n",
      "Layer (type)                 Output Shape              Param #   \n",
      "=================================================================\n",
      "flatten_1 (Flatten)          (None, 784)               0         \n",
      "_________________________________________________________________\n",
      "dense_1 (Dense)              (None, 512)               401920    \n",
      "_________________________________________________________________\n",
      "dropout_1 (Dropout)          (None, 512)               0         \n",
      "_________________________________________________________________\n",
      "dense_2 (Dense)              (None, 512)               262656    \n",
      "_________________________________________________________________\n",
      "dropout_2 (Dropout)          (None, 512)               0         \n",
      "_________________________________________________________________\n",
      "dense_3 (Dense)              (None, 10)                5130      \n",
      "_________________________________________________________________\n",
      "activation_1 (Activation)    (None, 10)                0         \n",
      "=================================================================\n",
      "Total params: 669,706\n",
      "Trainable params: 669,706\n",
      "Non-trainable params: 0\n",
      "_________________________________________________________________\n"
     ]
    }
   ],
   "source": [
    "model.summary()"
   ]
  },
  {
   "cell_type": "code",
   "execution_count": 7,
   "metadata": {},
   "outputs": [
    {
     "name": "stdout",
     "output_type": "stream",
     "text": [
      "Train on 60000 samples, validate on 10000 samples\n",
      "Epoch 1/10\n",
      "60000/60000 [==============================] - 30s 497us/step - loss: 0.5059 - acc: 0.8168 - val_loss: 0.4142 - val_acc: 0.8459\n",
      "Epoch 2/10\n",
      "60000/60000 [==============================] - 34s 572us/step - loss: 0.3842 - acc: 0.8591 - val_loss: 0.3665 - val_acc: 0.8690\n",
      "Epoch 3/10\n",
      "60000/60000 [==============================] - 34s 560us/step - loss: 0.3557 - acc: 0.8694 - val_loss: 0.3626 - val_acc: 0.8683\n",
      "Epoch 4/10\n",
      "60000/60000 [==============================] - 32s 531us/step - loss: 0.3331 - acc: 0.8778 - val_loss: 0.3378 - val_acc: 0.8781\n",
      "Epoch 5/10\n",
      "60000/60000 [==============================] - 34s 572us/step - loss: 0.3139 - acc: 0.8848 - val_loss: 0.3345 - val_acc: 0.8797\n",
      "Epoch 6/10\n",
      "60000/60000 [==============================] - 30s 496us/step - loss: 0.3051 - acc: 0.8875 - val_loss: 0.3653 - val_acc: 0.8656\n",
      "Epoch 7/10\n",
      "60000/60000 [==============================] - 27s 442us/step - loss: 0.2953 - acc: 0.8887 - val_loss: 0.3363 - val_acc: 0.8783\n",
      "Epoch 8/10\n",
      "60000/60000 [==============================] - 27s 452us/step - loss: 0.2851 - acc: 0.8924 - val_loss: 0.3305 - val_acc: 0.8816\n",
      "Epoch 9/10\n",
      "60000/60000 [==============================] - 26s 438us/step - loss: 0.2769 - acc: 0.8952 - val_loss: 0.3408 - val_acc: 0.8792\n",
      "Epoch 10/10\n",
      "60000/60000 [==============================] - 27s 445us/step - loss: 0.2710 - acc: 0.8985 - val_loss: 0.3147 - val_acc: 0.8891\n"
     ]
    },
    {
     "data": {
      "text/plain": [
       "<keras.callbacks.History at 0x1a21dd4080>"
      ]
     },
     "execution_count": 7,
     "metadata": {},
     "output_type": "execute_result"
    }
   ],
   "source": [
    "model.fit(x_train, y_train, \n",
    "          batch_size=64, epochs=10,\n",
    "          validation_data=(x_test, y_test))"
   ]
  },
  {
   "cell_type": "code",
   "execution_count": 8,
   "metadata": {},
   "outputs": [
    {
     "data": {
      "text/plain": [
       "[0.31469209027290346, 0.8891]"
      ]
     },
     "execution_count": 8,
     "metadata": {},
     "output_type": "execute_result"
    }
   ],
   "source": [
    "model.evaluate(x_test, y_test, verbose=0)"
   ]
  },
  {
   "cell_type": "code",
   "execution_count": 9,
   "metadata": {},
   "outputs": [],
   "source": [
    "tmp_model = Model(model.inputs, model.layers[-2].output)"
   ]
  },
  {
   "cell_type": "code",
   "execution_count": 10,
   "metadata": {},
   "outputs": [],
   "source": [
    "def softmax(x, t=1.0):\n",
    "    x_exp = np.exp(x / t)\n",
    "    return x_exp / x_exp.sum(axis=1, keepdims=True)"
   ]
  },
  {
   "cell_type": "code",
   "execution_count": 11,
   "metadata": {},
   "outputs": [
    {
     "data": {
      "application/vnd.jupyter.widget-view+json": {
       "model_id": "deaeb0db3f514876822ece0caf71966c",
       "version_major": 2,
       "version_minor": 0
      },
      "text/html": [
       "<p>Failed to display Jupyter Widget of type <code>HBox</code>.</p>\n",
       "<p>\n",
       "  If you're reading this message in the Jupyter Notebook or JupyterLab Notebook, it may mean\n",
       "  that the widgets JavaScript is still loading. If this message persists, it\n",
       "  likely means that the widgets JavaScript library is either not installed or\n",
       "  not enabled. See the <a href=\"https://ipywidgets.readthedocs.io/en/stable/user_install.html\">Jupyter\n",
       "  Widgets Documentation</a> for setup instructions.\n",
       "</p>\n",
       "<p>\n",
       "  If you're reading this message in another frontend (for example, a static\n",
       "  rendering on GitHub or <a href=\"https://nbviewer.jupyter.org/\">NBViewer</a>),\n",
       "  it may mean that your frontend doesn't currently support widgets.\n",
       "</p>\n"
      ],
      "text/plain": [
       "HBox(children=(IntProgress(value=0, max=5), HTML(value='')))"
      ]
     },
     "metadata": {},
     "output_type": "display_data"
    },
    {
     "data": {
      "application/vnd.jupyter.widget-view+json": {
       "model_id": "aa5c3dd1fa3c4fe2b21a6bac5c71d071",
       "version_major": 2,
       "version_minor": 0
      },
      "text/html": [
       "<p>Failed to display Jupyter Widget of type <code>HBox</code>.</p>\n",
       "<p>\n",
       "  If you're reading this message in the Jupyter Notebook or JupyterLab Notebook, it may mean\n",
       "  that the widgets JavaScript is still loading. If this message persists, it\n",
       "  likely means that the widgets JavaScript library is either not installed or\n",
       "  not enabled. See the <a href=\"https://ipywidgets.readthedocs.io/en/stable/user_install.html\">Jupyter\n",
       "  Widgets Documentation</a> for setup instructions.\n",
       "</p>\n",
       "<p>\n",
       "  If you're reading this message in another frontend (for example, a static\n",
       "  rendering on GitHub or <a href=\"https://nbviewer.jupyter.org/\">NBViewer</a>),\n",
       "  it may mean that your frontend doesn't currently support widgets.\n",
       "</p>\n"
      ],
      "text/plain": [
       "HBox(children=(IntProgress(value=0, max=6), HTML(value='')))"
      ]
     },
     "metadata": {},
     "output_type": "display_data"
    },
    {
     "name": "stdout",
     "output_type": "stream",
     "text": [
      "[1.1610413181304933, 0.85899999999999999]\n",
      "[1.2026985507011414, 0.84399999999999997]\n",
      "[1.225564053440094, 0.80449999999999999]\n",
      "[1.409953079032898, 0.62670000000000003]\n",
      "[1.6020756855010987, 0.54600000000000004]\n",
      "[1.7919849548339843, 0.37640000000000001]\n"
     ]
    },
    {
     "data": {
      "application/vnd.jupyter.widget-view+json": {
       "model_id": "eaee60840a004f13b95b2893cd78278a",
       "version_major": 2,
       "version_minor": 0
      },
      "text/html": [
       "<p>Failed to display Jupyter Widget of type <code>HBox</code>.</p>\n",
       "<p>\n",
       "  If you're reading this message in the Jupyter Notebook or JupyterLab Notebook, it may mean\n",
       "  that the widgets JavaScript is still loading. If this message persists, it\n",
       "  likely means that the widgets JavaScript library is either not installed or\n",
       "  not enabled. See the <a href=\"https://ipywidgets.readthedocs.io/en/stable/user_install.html\">Jupyter\n",
       "  Widgets Documentation</a> for setup instructions.\n",
       "</p>\n",
       "<p>\n",
       "  If you're reading this message in another frontend (for example, a static\n",
       "  rendering on GitHub or <a href=\"https://nbviewer.jupyter.org/\">NBViewer</a>),\n",
       "  it may mean that your frontend doesn't currently support widgets.\n",
       "</p>\n"
      ],
      "text/plain": [
       "HBox(children=(IntProgress(value=0, max=6), HTML(value='')))"
      ]
     },
     "metadata": {},
     "output_type": "display_data"
    },
    {
     "name": "stdout",
     "output_type": "stream",
     "text": [
      "[1.1620588979721069, 0.86140000000000005]\n",
      "[1.2019466753005981, 0.84760000000000002]\n",
      "[1.2285985300064086, 0.81259999999999999]\n",
      "[1.3737139690399169, 0.68489999999999995]\n",
      "[1.6457752994537354, 0.51700000000000002]\n",
      "[1.8284554531097412, 0.30309999999999998]\n"
     ]
    },
    {
     "data": {
      "application/vnd.jupyter.widget-view+json": {
       "model_id": "38cd474bac134668bf4b4231685956b7",
       "version_major": 2,
       "version_minor": 0
      },
      "text/html": [
       "<p>Failed to display Jupyter Widget of type <code>HBox</code>.</p>\n",
       "<p>\n",
       "  If you're reading this message in the Jupyter Notebook or JupyterLab Notebook, it may mean\n",
       "  that the widgets JavaScript is still loading. If this message persists, it\n",
       "  likely means that the widgets JavaScript library is either not installed or\n",
       "  not enabled. See the <a href=\"https://ipywidgets.readthedocs.io/en/stable/user_install.html\">Jupyter\n",
       "  Widgets Documentation</a> for setup instructions.\n",
       "</p>\n",
       "<p>\n",
       "  If you're reading this message in another frontend (for example, a static\n",
       "  rendering on GitHub or <a href=\"https://nbviewer.jupyter.org/\">NBViewer</a>),\n",
       "  it may mean that your frontend doesn't currently support widgets.\n",
       "</p>\n"
      ],
      "text/plain": [
       "HBox(children=(IntProgress(value=0, max=6), HTML(value='')))"
      ]
     },
     "metadata": {},
     "output_type": "display_data"
    },
    {
     "name": "stdout",
     "output_type": "stream",
     "text": [
      "[1.1579137153625487, 0.86280000000000001]\n",
      "[1.171803758239746, 0.84960000000000002]\n",
      "[1.2938455959320068, 0.75339999999999996]\n",
      "[1.4242952377319336, 0.63549999999999995]\n",
      "[1.569299104309082, 0.53220000000000001]\n",
      "[1.7743207567214965, 0.37819999999999998]\n"
     ]
    },
    {
     "data": {
      "application/vnd.jupyter.widget-view+json": {
       "model_id": "c467aafc85494393b834d1b858861d17",
       "version_major": 2,
       "version_minor": 0
      },
      "text/html": [
       "<p>Failed to display Jupyter Widget of type <code>HBox</code>.</p>\n",
       "<p>\n",
       "  If you're reading this message in the Jupyter Notebook or JupyterLab Notebook, it may mean\n",
       "  that the widgets JavaScript is still loading. If this message persists, it\n",
       "  likely means that the widgets JavaScript library is either not installed or\n",
       "  not enabled. See the <a href=\"https://ipywidgets.readthedocs.io/en/stable/user_install.html\">Jupyter\n",
       "  Widgets Documentation</a> for setup instructions.\n",
       "</p>\n",
       "<p>\n",
       "  If you're reading this message in another frontend (for example, a static\n",
       "  rendering on GitHub or <a href=\"https://nbviewer.jupyter.org/\">NBViewer</a>),\n",
       "  it may mean that your frontend doesn't currently support widgets.\n",
       "</p>\n"
      ],
      "text/plain": [
       "HBox(children=(IntProgress(value=0, max=6), HTML(value='')))"
      ]
     },
     "metadata": {},
     "output_type": "display_data"
    },
    {
     "name": "stdout",
     "output_type": "stream",
     "text": [
      "[1.1729410400390625, 0.85919999999999996]\n",
      "[1.2028791221618653, 0.84550000000000003]\n",
      "[1.2536537002563477, 0.82010000000000005]\n",
      "[1.3802650272369386, 0.69710000000000005]\n",
      "[1.5988061145782471, 0.50739999999999996]\n",
      "[1.8331725666046144, 0.33950000000000002]\n"
     ]
    },
    {
     "data": {
      "application/vnd.jupyter.widget-view+json": {
       "model_id": "0cb9b8d4308f47d9a8aee2ed9af4f8b5",
       "version_major": 2,
       "version_minor": 0
      },
      "text/html": [
       "<p>Failed to display Jupyter Widget of type <code>HBox</code>.</p>\n",
       "<p>\n",
       "  If you're reading this message in the Jupyter Notebook or JupyterLab Notebook, it may mean\n",
       "  that the widgets JavaScript is still loading. If this message persists, it\n",
       "  likely means that the widgets JavaScript library is either not installed or\n",
       "  not enabled. See the <a href=\"https://ipywidgets.readthedocs.io/en/stable/user_install.html\">Jupyter\n",
       "  Widgets Documentation</a> for setup instructions.\n",
       "</p>\n",
       "<p>\n",
       "  If you're reading this message in another frontend (for example, a static\n",
       "  rendering on GitHub or <a href=\"https://nbviewer.jupyter.org/\">NBViewer</a>),\n",
       "  it may mean that your frontend doesn't currently support widgets.\n",
       "</p>\n"
      ],
      "text/plain": [
       "HBox(children=(IntProgress(value=0, max=6), HTML(value='')))"
      ]
     },
     "metadata": {},
     "output_type": "display_data"
    },
    {
     "name": "stdout",
     "output_type": "stream",
     "text": [
      "[1.1962925031661988, 0.86270000000000002]\n",
      "[1.1786498293876648, 0.84570000000000001]\n",
      "[1.2713024853706361, 0.77790000000000004]\n",
      "[1.3661492040634156, 0.67469999999999997]\n",
      "[1.643050743484497, 0.55220000000000002]\n",
      "[1.8758137201309204, 0.35759999999999997]\n",
      "\n"
     ]
    }
   ],
   "source": [
    "result = {}\n",
    "for t in tqdm_notebook([1, 4, 16, 32, 128]):\n",
    "    probs_train = softmax(tmp_model.predict(x_train), t=10)\n",
    "    for k in tqdm_notebook(range(2, 8), leave=False):\n",
    "        new_model = Sequential()\n",
    "        new_model.add(Flatten(input_shape=(28, 28)))\n",
    "        new_model.add(Dense(512 // 2 ** k, activation='relu'))\n",
    "        new_model.add(Dropout(0.2))\n",
    "        new_model.add(Dense(256 // 2 ** k, activation='relu'))\n",
    "        new_model.add(Dropout(0.2))\n",
    "        new_model.add(Dense(10))\n",
    "        new_model.add(Activation('softmax'))\n",
    "\n",
    "        new_model.compile('adam', 'kullback_leibler_divergence', metrics=['accuracy'])\n",
    "\n",
    "        new_model.fit(x_train, probs_train, \n",
    "                      batch_size=64, epochs=10,\n",
    "                      validation_data=(x_test, y_test), verbose=0)\n",
    "        \n",
    "        result[(t, k)] = new_model.evaluate(x_test, y_test, verbose=0)\n",
    "        print(result[(t, k)])"
   ]
  },
  {
   "cell_type": "code",
   "execution_count": 12,
   "metadata": {},
   "outputs": [
    {
     "data": {
      "application/vnd.jupyter.widget-view+json": {
       "model_id": "12b12754508043498d8311a18d440db8",
       "version_major": 2,
       "version_minor": 0
      },
      "text/html": [
       "<p>Failed to display Jupyter Widget of type <code>HBox</code>.</p>\n",
       "<p>\n",
       "  If you're reading this message in the Jupyter Notebook or JupyterLab Notebook, it may mean\n",
       "  that the widgets JavaScript is still loading. If this message persists, it\n",
       "  likely means that the widgets JavaScript library is either not installed or\n",
       "  not enabled. See the <a href=\"https://ipywidgets.readthedocs.io/en/stable/user_install.html\">Jupyter\n",
       "  Widgets Documentation</a> for setup instructions.\n",
       "</p>\n",
       "<p>\n",
       "  If you're reading this message in another frontend (for example, a static\n",
       "  rendering on GitHub or <a href=\"https://nbviewer.jupyter.org/\">NBViewer</a>),\n",
       "  it may mean that your frontend doesn't currently support widgets.\n",
       "</p>\n"
      ],
      "text/plain": [
       "HBox(children=(IntProgress(value=0, max=6), HTML(value='')))"
      ]
     },
     "metadata": {},
     "output_type": "display_data"
    },
    {
     "name": "stdout",
     "output_type": "stream",
     "text": [
      "[0.34326943603754045, 0.87839999999999996]\n",
      "[0.37301515779495237, 0.86770000000000003]\n",
      "[0.40172986302375796, 0.8569]\n",
      "[0.49323345069885255, 0.83530000000000004]\n",
      "[0.82074329738616947, 0.71930000000000005]\n",
      "[1.4670499469757079, 0.38140000000000002]\n",
      "\r"
     ]
    }
   ],
   "source": [
    "result_baseline = {}\n",
    "\n",
    "for k in tqdm_notebook(range(2, 8), leave=False):\n",
    "    new_model = Sequential()\n",
    "    new_model.add(Flatten(input_shape=(28, 28)))\n",
    "    new_model.add(Dense(512 // 2 ** k, activation='relu'))\n",
    "    new_model.add(Dropout(0.2))\n",
    "    new_model.add(Dense(256 // 2 ** k, activation='relu'))\n",
    "    new_model.add(Dropout(0.2))\n",
    "    new_model.add(Dense(10))\n",
    "    new_model.add(Activation('softmax'))\n",
    "\n",
    "    new_model.compile('adam', 'categorical_crossentropy', metrics=['accuracy'])\n",
    "\n",
    "    new_model.fit(x_train, y_train, \n",
    "                  batch_size=64, epochs=10,\n",
    "                  validation_data=(x_test, y_test), verbose=0)\n",
    "        \n",
    "    result_baseline[k] = new_model.evaluate(x_test, y_test, verbose=0)\n",
    "    print(result_baseline[k])"
   ]
  },
  {
   "cell_type": "code",
   "execution_count": 13,
   "metadata": {},
   "outputs": [
    {
     "data": {
      "text/plain": [
       "{2: [0.34326943603754045, 0.87839999999999996],\n",
       " 3: [0.37301515779495237, 0.86770000000000003],\n",
       " 4: [0.40172986302375796, 0.8569],\n",
       " 5: [0.49323345069885255, 0.83530000000000004],\n",
       " 6: [0.82074329738616947, 0.71930000000000005],\n",
       " 7: [1.4670499469757079, 0.38140000000000002]}"
      ]
     },
     "execution_count": 13,
     "metadata": {},
     "output_type": "execute_result"
    }
   ],
   "source": [
    "result_baseline"
   ]
  },
  {
   "cell_type": "code",
   "execution_count": 14,
   "metadata": {},
   "outputs": [
    {
     "data": {
      "text/plain": [
       "<matplotlib.legend.Legend at 0x1a51757860>"
      ]
     },
     "execution_count": 14,
     "metadata": {},
     "output_type": "execute_result"
    },
    {
     "data": {
      "image/png": "[encoded data removed]",
      "text/plain": [
       "<matplotlib.figure.Figure at 0x1a4008f4e0>"
      ]
     },
     "metadata": {},
     "output_type": "display_data"
    }
   ],
   "source": [
    "legend = []\n",
    "\n",
    "plt.figure(figsize=(10, 6))\n",
    "plt.title('Fashion-MNIST')\n",
    "plt.plot([result_baseline[i] for i in range(2, 8)])\n",
    "for i in range(2, 8):\n",
    "    legend += ['train_logloss_{}'.format(i), \n",
    "               'train_accuracy_{}'.format(i)]\n",
    "\n",
    "for t in [1, 4, 16, 32, 128]:\n",
    "    plt.plot([result[(t, i)] for i in range(2, 8)])\n",
    "    for i in range(2, 8):\n",
    "        legend += ['distill_t_{}_logloss_{}'.format(t, i), \n",
    "                   'distill_t_{}_accuracy_{}'.format(t, i)]\n",
    "    \n",
    "plt.ylabel('metric')\n",
    "plt.xlabel('log layer output divisior')\n",
    "plt.legend(legend, bbox_to_anchor=(1.0, 1.0))"
   ]
  }
 ],
 "metadata": {
  "kernelspec": {
   "display_name": "Python 3",
   "language": "python",
   "name": "python3"
  },
  "language_info": {
   "codemirror_mode": {
    "name": "ipython",
    "version": 3
   },
   "file_extension": ".py",
   "mimetype": "text/x-python",
   "name": "python",
   "nbconvert_exporter": "python",
   "pygments_lexer": "ipython3",
   "version": "3.6.3"
  }
 },
 "nbformat": 4,
 "nbformat_minor": 2
}
