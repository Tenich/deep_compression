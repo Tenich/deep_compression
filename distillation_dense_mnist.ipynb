{
 "cells": [
  {
   "cell_type": "code",
   "execution_count": 1,
   "metadata": {},
   "outputs": [
    {
     "name": "stderr",
     "output_type": "stream",
     "text": [
      "Using TensorFlow backend.\n",
      "/Users/tentenich/anaconda3/lib/python3.6/importlib/_bootstrap.py:219: RuntimeWarning: compiletime version 3.5 of module 'tensorflow.python.framework.fast_tensor_util' does not match runtime version 3.6\n",
      "  return f(*args, **kwds)\n"
     ]
    }
   ],
   "source": [
    "import numpy as np\n",
    "\n",
    "from keras.datasets import mnist\n",
    "\n",
    "from keras.models import Sequential, Model\n",
    "from keras.layers import Flatten, Dense, Activation, Dropout\n",
    "from keras.utils import to_categorical\n",
    "\n",
    "from tqdm import tqdm_notebook\n",
    "\n",
    "import matplotlib.pyplot as plt\n",
    "%matplotlib inline\n",
    "import seaborn as sns"
   ]
  },
  {
   "cell_type": "code",
   "execution_count": 2,
   "metadata": {},
   "outputs": [],
   "source": [
    "(x_train, y_train), (x_test, y_test) = mnist.load_data()\n",
    "x_train =  x_train / 255.0\n",
    "x_test = x_test / 255.0\n",
    "y_train = to_categorical(y_train)\n",
    "y_test = to_categorical(y_test)"
   ]
  },
  {
   "cell_type": "code",
   "execution_count": 3,
   "metadata": {},
   "outputs": [
    {
     "data": {
      "text/plain": [
       "(60000, 28, 28)"
      ]
     },
     "execution_count": 3,
     "metadata": {},
     "output_type": "execute_result"
    }
   ],
   "source": [
    "x_train.shape"
   ]
  },
  {
   "cell_type": "code",
   "execution_count": 4,
   "metadata": {},
   "outputs": [],
   "source": [
    "model = Sequential()\n",
    "model.add(Flatten(input_shape=(28, 28)))\n",
    "model.add(Dense(512, activation='relu'))\n",
    "model.add(Dropout(0.2))\n",
    "model.add(Dense(512, activation='relu'))\n",
    "model.add(Dropout(0.2))\n",
    "model.add(Dense(10))\n",
    "model.add(Activation('softmax'))"
   ]
  },
  {
   "cell_type": "code",
   "execution_count": 5,
   "metadata": {},
   "outputs": [],
   "source": [
    "model.compile('adam', 'categorical_crossentropy', metrics=['accuracy'])"
   ]
  },
  {
   "cell_type": "code",
   "execution_count": 6,
   "metadata": {},
   "outputs": [
    {
     "name": "stdout",
     "output_type": "stream",
     "text": [
      "_________________________________________________________________\n",
      "Layer (type)                 Output Shape              Param #   \n",
      "=================================================================\n",
      "flatten_1 (Flatten)          (None, 784)               0         \n",
      "_________________________________________________________________\n",
      "dense_1 (Dense)              (None, 512)               401920    \n",
      "_________________________________________________________________\n",
      "dropout_1 (Dropout)          (None, 512)               0         \n",
      "_________________________________________________________________\n",
      "dense_2 (Dense)              (None, 512)               262656    \n",
      "_________________________________________________________________\n",
      "dropout_2 (Dropout)          (None, 512)               0         \n",
      "_________________________________________________________________\n",
      "dense_3 (Dense)              (None, 10)                5130      \n",
      "_________________________________________________________________\n",
      "activation_1 (Activation)    (None, 10)                0         \n",
      "=================================================================\n",
      "Total params: 669,706\n",
      "Trainable params: 669,706\n",
      "Non-trainable params: 0\n",
      "_________________________________________________________________\n"
     ]
    }
   ],
   "source": [
    "model.summary()"
   ]
  },
  {
   "cell_type": "code",
   "execution_count": 7,
   "metadata": {},
   "outputs": [
    {
     "name": "stdout",
     "output_type": "stream",
     "text": [
      "Train on 60000 samples, validate on 10000 samples\n",
      "Epoch 1/10\n",
      "60000/60000 [==============================] - 21s 348us/step - loss: 0.2208 - acc: 0.9331 - val_loss: 0.0991 - val_acc: 0.9690\n",
      "Epoch 2/10\n",
      "60000/60000 [==============================] - 23s 387us/step - loss: 0.1005 - acc: 0.9691 - val_loss: 0.0857 - val_acc: 0.9724\n",
      "Epoch 3/10\n",
      "60000/60000 [==============================] - 26s 438us/step - loss: 0.0752 - acc: 0.9762 - val_loss: 0.0851 - val_acc: 0.9740\n",
      "Epoch 4/10\n",
      "60000/60000 [==============================] - 22s 367us/step - loss: 0.0586 - acc: 0.9812 - val_loss: 0.0720 - val_acc: 0.9779\n",
      "Epoch 5/10\n",
      "60000/60000 [==============================] - 24s 401us/step - loss: 0.0506 - acc: 0.9837 - val_loss: 0.0691 - val_acc: 0.9798\n",
      "Epoch 6/10\n",
      "60000/60000 [==============================] - 40s 672us/step - loss: 0.0442 - acc: 0.9854 - val_loss: 0.0704 - val_acc: 0.9789\n",
      "Epoch 7/10\n",
      "60000/60000 [==============================] - 42s 692us/step - loss: 0.0395 - acc: 0.9874 - val_loss: 0.0656 - val_acc: 0.9811\n",
      "Epoch 8/10\n",
      "60000/60000 [==============================] - 48s 802us/step - loss: 0.0348 - acc: 0.9891 - val_loss: 0.0781 - val_acc: 0.9798\n",
      "Epoch 9/10\n",
      "60000/60000 [==============================] - 49s 818us/step - loss: 0.0340 - acc: 0.9891 - val_loss: 0.0651 - val_acc: 0.9820\n",
      "Epoch 10/10\n",
      "60000/60000 [==============================] - 37s 618us/step - loss: 0.0310 - acc: 0.9900 - val_loss: 0.0872 - val_acc: 0.9802\n"
     ]
    },
    {
     "data": {
      "text/plain": [
       "<keras.callbacks.History at 0x1a34ef9ef0>"
      ]
     },
     "execution_count": 7,
     "metadata": {},
     "output_type": "execute_result"
    }
   ],
   "source": [
    "model.fit(x_train, y_train, \n",
    "          batch_size=64, epochs=10,\n",
    "          validation_data=(x_test, y_test))"
   ]
  },
  {
   "cell_type": "code",
   "execution_count": 8,
   "metadata": {},
   "outputs": [
    {
     "data": {
      "text/plain": [
       "[0.087207956858585026, 0.98019999999999996]"
      ]
     },
     "execution_count": 8,
     "metadata": {},
     "output_type": "execute_result"
    }
   ],
   "source": [
    "model.evaluate(x_test, y_test, verbose=0)"
   ]
  },
  {
   "cell_type": "code",
   "execution_count": 9,
   "metadata": {},
   "outputs": [],
   "source": [
    "tmp_model = Model(model.inputs, model.layers[-2].output)"
   ]
  },
  {
   "cell_type": "code",
   "execution_count": 10,
   "metadata": {},
   "outputs": [],
   "source": [
    "def softmax(x, t=1.0):\n",
    "    x_exp = np.exp(x / t)\n",
    "    return x_exp / x_exp.sum(axis=1, keepdims=True)"
   ]
  },
  {
   "cell_type": "code",
   "execution_count": 11,
   "metadata": {},
   "outputs": [
    {
     "data": {
      "application/vnd.jupyter.widget-view+json": {
       "model_id": "4a24b253e859443abd6ad826a9084e55",
       "version_major": 2,
       "version_minor": 0
      },
      "text/html": [
       "<p>Failed to display Jupyter Widget of type <code>HBox</code>.</p>\n",
       "<p>\n",
       "  If you're reading this message in the Jupyter Notebook or JupyterLab Notebook, it may mean\n",
       "  that the widgets JavaScript is still loading. If this message persists, it\n",
       "  likely means that the widgets JavaScript library is either not installed or\n",
       "  not enabled. See the <a href=\"https://ipywidgets.readthedocs.io/en/stable/user_install.html\">Jupyter\n",
       "  Widgets Documentation</a> for setup instructions.\n",
       "</p>\n",
       "<p>\n",
       "  If you're reading this message in another frontend (for example, a static\n",
       "  rendering on GitHub or <a href=\"https://nbviewer.jupyter.org/\">NBViewer</a>),\n",
       "  it may mean that your frontend doesn't currently support widgets.\n",
       "</p>\n"
      ],
      "text/plain": [
       "HBox(children=(IntProgress(value=0, max=5), HTML(value='')))"
      ]
     },
     "metadata": {},
     "output_type": "display_data"
    },
    {
     "data": {
      "application/vnd.jupyter.widget-view+json": {
       "model_id": "1874580b59ce44d092a5f2895d065267",
       "version_major": 2,
       "version_minor": 0
      },
      "text/html": [
       "<p>Failed to display Jupyter Widget of type <code>HBox</code>.</p>\n",
       "<p>\n",
       "  If you're reading this message in the Jupyter Notebook or JupyterLab Notebook, it may mean\n",
       "  that the widgets JavaScript is still loading. If this message persists, it\n",
       "  likely means that the widgets JavaScript library is either not installed or\n",
       "  not enabled. See the <a href=\"https://ipywidgets.readthedocs.io/en/stable/user_install.html\">Jupyter\n",
       "  Widgets Documentation</a> for setup instructions.\n",
       "</p>\n",
       "<p>\n",
       "  If you're reading this message in another frontend (for example, a static\n",
       "  rendering on GitHub or <a href=\"https://nbviewer.jupyter.org/\">NBViewer</a>),\n",
       "  it may mean that your frontend doesn't currently support widgets.\n",
       "</p>\n"
      ],
      "text/plain": [
       "HBox(children=(IntProgress(value=0, max=6), HTML(value='')))"
      ]
     },
     "metadata": {},
     "output_type": "display_data"
    },
    {
     "name": "stdout",
     "output_type": "stream",
     "text": [
      "[0.68387128229141236, 0.96879999999999999]\n",
      "[0.71011628246307368, 0.95909999999999995]\n",
      "[0.81585477027893072, 0.9395]\n",
      "[1.0182662712097168, 0.90339999999999998]\n",
      "[1.4085629436492919, 0.72160000000000002]\n",
      "[1.7839486965179443, 0.50860000000000005]\n"
     ]
    },
    {
     "data": {
      "application/vnd.jupyter.widget-view+json": {
       "model_id": "026a05f3d3104caa81a4072d894631ef",
       "version_major": 2,
       "version_minor": 0
      },
      "text/html": [
       "<p>Failed to display Jupyter Widget of type <code>HBox</code>.</p>\n",
       "<p>\n",
       "  If you're reading this message in the Jupyter Notebook or JupyterLab Notebook, it may mean\n",
       "  that the widgets JavaScript is still loading. If this message persists, it\n",
       "  likely means that the widgets JavaScript library is either not installed or\n",
       "  not enabled. See the <a href=\"https://ipywidgets.readthedocs.io/en/stable/user_install.html\">Jupyter\n",
       "  Widgets Documentation</a> for setup instructions.\n",
       "</p>\n",
       "<p>\n",
       "  If you're reading this message in another frontend (for example, a static\n",
       "  rendering on GitHub or <a href=\"https://nbviewer.jupyter.org/\">NBViewer</a>),\n",
       "  it may mean that your frontend doesn't currently support widgets.\n",
       "</p>\n"
      ],
      "text/plain": [
       "HBox(children=(IntProgress(value=0, max=6), HTML(value='')))"
      ]
     },
     "metadata": {},
     "output_type": "display_data"
    },
    {
     "name": "stdout",
     "output_type": "stream",
     "text": [
      "[0.6948214530944824, 0.97030000000000005]\n",
      "[0.71795420646667485, 0.95899999999999996]\n",
      "[0.80398239822387696, 0.9355]\n",
      "[1.0248754589080811, 0.90190000000000003]\n",
      "[1.4096997861862182, 0.7651]\n",
      "[1.7868844917297364, 0.42320000000000002]\n"
     ]
    },
    {
     "data": {
      "application/vnd.jupyter.widget-view+json": {
       "model_id": "69d0750a985f41f7a5b1cbc081d7054a",
       "version_major": 2,
       "version_minor": 0
      },
      "text/html": [
       "<p>Failed to display Jupyter Widget of type <code>HBox</code>.</p>\n",
       "<p>\n",
       "  If you're reading this message in the Jupyter Notebook or JupyterLab Notebook, it may mean\n",
       "  that the widgets JavaScript is still loading. If this message persists, it\n",
       "  likely means that the widgets JavaScript library is either not installed or\n",
       "  not enabled. See the <a href=\"https://ipywidgets.readthedocs.io/en/stable/user_install.html\">Jupyter\n",
       "  Widgets Documentation</a> for setup instructions.\n",
       "</p>\n",
       "<p>\n",
       "  If you're reading this message in another frontend (for example, a static\n",
       "  rendering on GitHub or <a href=\"https://nbviewer.jupyter.org/\">NBViewer</a>),\n",
       "  it may mean that your frontend doesn't currently support widgets.\n",
       "</p>\n"
      ],
      "text/plain": [
       "HBox(children=(IntProgress(value=0, max=6), HTML(value='')))"
      ]
     },
     "metadata": {},
     "output_type": "display_data"
    },
    {
     "name": "stdout",
     "output_type": "stream",
     "text": [
      "[0.70832047805786136, 0.9698]\n",
      "[0.73363930463790894, 0.96309999999999996]\n",
      "[0.81529138298034665, 0.94020000000000004]\n",
      "[1.0531558255195617, 0.89419999999999999]\n",
      "[1.4180498867034912, 0.74719999999999998]\n",
      "[1.8100345912933349, 0.48649999999999999]\n"
     ]
    },
    {
     "data": {
      "application/vnd.jupyter.widget-view+json": {
       "model_id": "4521bae091b6440f8b653d2d02e0e8c9",
       "version_major": 2,
       "version_minor": 0
      },
      "text/html": [
       "<p>Failed to display Jupyter Widget of type <code>HBox</code>.</p>\n",
       "<p>\n",
       "  If you're reading this message in the Jupyter Notebook or JupyterLab Notebook, it may mean\n",
       "  that the widgets JavaScript is still loading. If this message persists, it\n",
       "  likely means that the widgets JavaScript library is either not installed or\n",
       "  not enabled. See the <a href=\"https://ipywidgets.readthedocs.io/en/stable/user_install.html\">Jupyter\n",
       "  Widgets Documentation</a> for setup instructions.\n",
       "</p>\n",
       "<p>\n",
       "  If you're reading this message in another frontend (for example, a static\n",
       "  rendering on GitHub or <a href=\"https://nbviewer.jupyter.org/\">NBViewer</a>),\n",
       "  it may mean that your frontend doesn't currently support widgets.\n",
       "</p>\n"
      ],
      "text/plain": [
       "HBox(children=(IntProgress(value=0, max=6), HTML(value='')))"
      ]
     },
     "metadata": {},
     "output_type": "display_data"
    },
    {
     "name": "stdout",
     "output_type": "stream",
     "text": [
      "[0.69565194120407103, 0.96819999999999995]\n",
      "[0.71770561304092406, 0.96060000000000001]\n",
      "[0.7933579082489014, 0.94330000000000003]\n",
      "[1.0373911024093627, 0.88439999999999996]\n",
      "[1.4343521713256835, 0.748]\n",
      "[1.8067946029663087, 0.49519999999999997]\n"
     ]
    },
    {
     "data": {
      "application/vnd.jupyter.widget-view+json": {
       "model_id": "19541f11c9d94a468196b8b2d01947e3",
       "version_major": 2,
       "version_minor": 0
      },
      "text/html": [
       "<p>Failed to display Jupyter Widget of type <code>HBox</code>.</p>\n",
       "<p>\n",
       "  If you're reading this message in the Jupyter Notebook or JupyterLab Notebook, it may mean\n",
       "  that the widgets JavaScript is still loading. If this message persists, it\n",
       "  likely means that the widgets JavaScript library is either not installed or\n",
       "  not enabled. See the <a href=\"https://ipywidgets.readthedocs.io/en/stable/user_install.html\">Jupyter\n",
       "  Widgets Documentation</a> for setup instructions.\n",
       "</p>\n",
       "<p>\n",
       "  If you're reading this message in another frontend (for example, a static\n",
       "  rendering on GitHub or <a href=\"https://nbviewer.jupyter.org/\">NBViewer</a>),\n",
       "  it may mean that your frontend doesn't currently support widgets.\n",
       "</p>\n"
      ],
      "text/plain": [
       "HBox(children=(IntProgress(value=0, max=6), HTML(value='')))"
      ]
     },
     "metadata": {},
     "output_type": "display_data"
    },
    {
     "name": "stdout",
     "output_type": "stream",
     "text": [
      "[0.67745736913681032, 0.9698]\n",
      "[0.71507681541442869, 0.96109999999999995]\n",
      "[0.80379360361099239, 0.94240000000000002]\n",
      "[1.0067450031280518, 0.90249999999999997]\n",
      "[1.5416747245788573, 0.63529999999999998]\n",
      "[1.8066210189819336, 0.4093]\n",
      "\n"
     ]
    }
   ],
   "source": [
    "result = {}\n",
    "for t in tqdm_notebook([1, 4, 16, 32, 128]):\n",
    "    probs_train = softmax(tmp_model.predict(x_train), t=10)\n",
    "    for k in tqdm_notebook(range(2, 8), leave=False):\n",
    "        new_model = Sequential()\n",
    "        new_model.add(Flatten(input_shape=(28, 28)))\n",
    "        new_model.add(Dense(512 // 2 ** k, activation='relu'))\n",
    "        new_model.add(Dropout(0.2))\n",
    "        new_model.add(Dense(256 // 2 ** k, activation='relu'))\n",
    "        new_model.add(Dropout(0.2))\n",
    "        new_model.add(Dense(10))\n",
    "        new_model.add(Activation('softmax'))\n",
    "\n",
    "        new_model.compile('adam', 'kullback_leibler_divergence', metrics=['accuracy'])\n",
    "\n",
    "        new_model.fit(x_train, probs_train, \n",
    "                      batch_size=64, epochs=10,\n",
    "                      validation_data=(x_test, y_test), verbose=0)\n",
    "        \n",
    "        result[(t, k)] = new_model.evaluate(x_test, y_test, verbose=0)\n",
    "        print(result[(t, k)])"
   ]
  },
  {
   "cell_type": "code",
   "execution_count": 12,
   "metadata": {},
   "outputs": [
    {
     "data": {
      "application/vnd.jupyter.widget-view+json": {
       "model_id": "040924042353472c9f2895e543b23a10",
       "version_major": 2,
       "version_minor": 0
      },
      "text/html": [
       "<p>Failed to display Jupyter Widget of type <code>HBox</code>.</p>\n",
       "<p>\n",
       "  If you're reading this message in the Jupyter Notebook or JupyterLab Notebook, it may mean\n",
       "  that the widgets JavaScript is still loading. If this message persists, it\n",
       "  likely means that the widgets JavaScript library is either not installed or\n",
       "  not enabled. See the <a href=\"https://ipywidgets.readthedocs.io/en/stable/user_install.html\">Jupyter\n",
       "  Widgets Documentation</a> for setup instructions.\n",
       "</p>\n",
       "<p>\n",
       "  If you're reading this message in another frontend (for example, a static\n",
       "  rendering on GitHub or <a href=\"https://nbviewer.jupyter.org/\">NBViewer</a>),\n",
       "  it may mean that your frontend doesn't currently support widgets.\n",
       "</p>\n"
      ],
      "text/plain": [
       "HBox(children=(IntProgress(value=0, max=6), HTML(value='')))"
      ]
     },
     "metadata": {},
     "output_type": "display_data"
    },
    {
     "name": "stdout",
     "output_type": "stream",
     "text": [
      "[0.075203182488493628, 0.9788]\n",
      "[0.093084225583006622, 0.97140000000000004]\n",
      "[0.14554217061232774, 0.95660000000000001]\n",
      "[0.27607546288967133, 0.92789999999999995]\n",
      "[0.82387235450744634, 0.82840000000000003]\n",
      "[1.8580213680267335, 0.32219999999999999]\n",
      "\r"
     ]
    }
   ],
   "source": [
    "result_baseline = {}\n",
    "\n",
    "for k in tqdm_notebook(range(2, 8), leave=False):\n",
    "    new_model = Sequential()\n",
    "    new_model.add(Flatten(input_shape=(28, 28)))\n",
    "    new_model.add(Dense(512 // 2 ** k, activation='relu'))\n",
    "    new_model.add(Dropout(0.2))\n",
    "    new_model.add(Dense(256 // 2 ** k, activation='relu'))\n",
    "    new_model.add(Dropout(0.2))\n",
    "    new_model.add(Dense(10))\n",
    "    new_model.add(Activation('softmax'))\n",
    "\n",
    "    new_model.compile('adam', 'categorical_crossentropy', metrics=['accuracy'])\n",
    "\n",
    "    new_model.fit(x_train, y_train, \n",
    "                  batch_size=64, epochs=10,\n",
    "                  validation_data=(x_test, y_test), verbose=0)\n",
    "        \n",
    "    result_baseline[k] = new_model.evaluate(x_test, y_test, verbose=0)\n",
    "    print(result_baseline[k])"
   ]
  },
  {
   "cell_type": "code",
   "execution_count": 13,
   "metadata": {},
   "outputs": [
    {
     "data": {
      "text/plain": [
       "{2: [0.075203182488493628, 0.9788],\n",
       " 3: [0.093084225583006622, 0.97140000000000004],\n",
       " 4: [0.14554217061232774, 0.95660000000000001],\n",
       " 5: [0.27607546288967133, 0.92789999999999995],\n",
       " 6: [0.82387235450744634, 0.82840000000000003],\n",
       " 7: [1.8580213680267335, 0.32219999999999999]}"
      ]
     },
     "execution_count": 13,
     "metadata": {},
     "output_type": "execute_result"
    }
   ],
   "source": [
    "result_baseline"
   ]
  },
  {
   "cell_type": "code",
   "execution_count": 15,
   "metadata": {},
   "outputs": [
    {
     "data": {
      "text/plain": [
       "<matplotlib.legend.Legend at 0x1a472c9da0>"
      ]
     },
     "execution_count": 15,
     "metadata": {},
     "output_type": "execute_result"
    },
    {
     "data": {
      "image/png": "[encoded data removed]",
      "text/plain": [
       "<matplotlib.figure.Figure at 0x1a46b2f668>"
      ]
     },
     "metadata": {},
     "output_type": "display_data"
    }
   ],
   "source": [
    "legend = []\n",
    "\n",
    "plt.figure(figsize=(10, 6))\n",
    "plt.title('MNIST')\n",
    "\n",
    "    \n",
    "plt.plot([result_baseline[i] for i in range(2, 8)])\n",
    "legend = ['train_logloss', 'train_accuracy']\n",
    "\n",
    "for t in [1, 4, 16, 32, 128]:\n",
    "    plt.plot([result[(t, i)] for i in range(2, 8)])\n",
    "  \n",
    "    legend += ['distill_t_{}_logloss'.format(t), \n",
    "               'distill_t_{}_accuracy'.format(t)]\n",
    "    \n",
    "plt.ylabel('metric')\n",
    "plt.xlabel('log layer output divisior')\n",
    "plt.legend(legend, bbox_to_anchor=(1.0, 1.0))"
   ]
  }
 ],
 "metadata": {
  "kernelspec": {
   "display_name": "Python 3",
   "language": "python",
   "name": "python3"
  },
  "language_info": {
   "codemirror_mode": {
    "name": "ipython",
    "version": 3
   },
   "file_extension": ".py",
   "mimetype": "text/x-python",
   "name": "python",
   "nbconvert_exporter": "python",
   "pygments_lexer": "ipython3",
   "version": "3.6.3"
  }
 },
 "nbformat": 4,
 "nbformat_minor": 2
}
