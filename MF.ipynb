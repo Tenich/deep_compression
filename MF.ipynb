{
 "cells": [
  {
   "cell_type": "code",
   "execution_count": 21,
   "metadata": {},
   "outputs": [],
   "source": [
    "import numpy as np\n",
    "\n",
    "from keras.datasets import mnist\n",
    "\n",
    "from keras.models import Sequential\n",
    "from keras.layers import Flatten, Dense\n",
    "from keras.utils import to_categorical"
   ]
  },
  {
   "cell_type": "code",
   "execution_count": 2,
   "metadata": {},
   "outputs": [],
   "source": [
    "(x_train, y_train), (x_test, y_test) = mnist.load_data()\n",
    "x_train =  x_train / 255.0\n",
    "x_test = x_test / 255.0\n",
    "y_train = to_categorical(y_train)\n",
    "y_test = to_categorical(y_test)"
   ]
  },
  {
   "cell_type": "code",
   "execution_count": 3,
   "metadata": {},
   "outputs": [
    {
     "data": {
      "text/plain": [
       "(60000, 28, 28)"
      ]
     },
     "execution_count": 3,
     "metadata": {},
     "output_type": "execute_result"
    }
   ],
   "source": [
    "x_train.shape"
   ]
  },
  {
   "cell_type": "code",
   "execution_count": 53,
   "metadata": {},
   "outputs": [],
   "source": [
    "model = Sequential()\n",
    "model.add(Flatten(input_shape=(28, 28)))\n",
    "model.add(Dense(256, activation='relu'))\n",
    "model.add(Dense(128, activation='relu'))\n",
    "model.add(Dense(64, activation='relu'))\n",
    "model.add(Dense(10, activation='softmax'))"
   ]
  },
  {
   "cell_type": "code",
   "execution_count": 54,
   "metadata": {
    "collapsed": true
   },
   "outputs": [],
   "source": [
    "model.compile('adam', 'categorical_crossentropy', metrics=['accuracy'])"
   ]
  },
  {
   "cell_type": "code",
   "execution_count": 55,
   "metadata": {},
   "outputs": [
    {
     "name": "stdout",
     "output_type": "stream",
     "text": [
      "_________________________________________________________________\n",
      "Layer (type)                 Output Shape              Param #   \n",
      "=================================================================\n",
      "flatten_3 (Flatten)          (None, 784)               0         \n",
      "_________________________________________________________________\n",
      "dense_10 (Dense)             (None, 256)               200960    \n",
      "_________________________________________________________________\n",
      "dense_11 (Dense)             (None, 128)               32896     \n",
      "_________________________________________________________________\n",
      "dense_12 (Dense)             (None, 64)                8256      \n",
      "_________________________________________________________________\n",
      "dense_13 (Dense)             (None, 10)                650       \n",
      "=================================================================\n",
      "Total params: 242,762\n",
      "Trainable params: 242,762\n",
      "Non-trainable params: 0\n",
      "_________________________________________________________________\n"
     ]
    }
   ],
   "source": [
    "model.summary()"
   ]
  },
  {
   "cell_type": "code",
   "execution_count": 56,
   "metadata": {},
   "outputs": [
    {
     "name": "stdout",
     "output_type": "stream",
     "text": [
      "Train on 60000 samples, validate on 10000 samples\n",
      "Epoch 1/10\n",
      "60000/60000 [==============================] - 8s 140us/step - loss: 0.2365 - acc: 0.9299 - val_loss: 0.1097 - val_acc: 0.9666\n",
      "Epoch 2/10\n",
      "60000/60000 [==============================] - 9s 149us/step - loss: 0.0908 - acc: 0.9722 - val_loss: 0.0936 - val_acc: 0.9720\n",
      "Epoch 3/10\n",
      "60000/60000 [==============================] - 7s 123us/step - loss: 0.0607 - acc: 0.9807 - val_loss: 0.0813 - val_acc: 0.9760\n",
      "Epoch 4/10\n",
      "60000/60000 [==============================] - 8s 136us/step - loss: 0.0464 - acc: 0.9856 - val_loss: 0.0710 - val_acc: 0.9789\n",
      "Epoch 5/10\n",
      "60000/60000 [==============================] - 7s 124us/step - loss: 0.0371 - acc: 0.9878 - val_loss: 0.0810 - val_acc: 0.9766\n",
      "Epoch 6/10\n",
      "60000/60000 [==============================] - 7s 113us/step - loss: 0.0276 - acc: 0.9911 - val_loss: 0.0755 - val_acc: 0.9793\n",
      "Epoch 7/10\n",
      "60000/60000 [==============================] - 7s 109us/step - loss: 0.0274 - acc: 0.9907 - val_loss: 0.0720 - val_acc: 0.9807\n",
      "Epoch 8/10\n",
      "60000/60000 [==============================] - 6s 98us/step - loss: 0.0198 - acc: 0.9937 - val_loss: 0.0930 - val_acc: 0.9770\n",
      "Epoch 9/10\n",
      "60000/60000 [==============================] - 6s 108us/step - loss: 0.0184 - acc: 0.9938 - val_loss: 0.0980 - val_acc: 0.9762\n",
      "Epoch 10/10\n",
      "60000/60000 [==============================] - 6s 95us/step - loss: 0.0184 - acc: 0.9942 - val_loss: 0.0843 - val_acc: 0.9788\n"
     ]
    },
    {
     "data": {
      "text/plain": [
       "<keras.callbacks.History at 0x181b6b44e0>"
      ]
     },
     "execution_count": 56,
     "metadata": {},
     "output_type": "execute_result"
    }
   ],
   "source": [
    "model.fit(x_train, y_train, \n",
    "          batch_size=64, epochs=10,\n",
    "          validation_data=(x_test, y_test))"
   ]
  },
  {
   "cell_type": "code",
   "execution_count": 57,
   "metadata": {},
   "outputs": [
    {
     "data": {
      "text/plain": [
       "[0.084290636213625841, 0.9788]"
      ]
     },
     "execution_count": 57,
     "metadata": {},
     "output_type": "execute_result"
    }
   ],
   "source": [
    "model.evaluate(x_test, y_test, verbose=0)"
   ]
  },
  {
   "cell_type": "code",
   "execution_count": 73,
   "metadata": {},
   "outputs": [
    {
     "name": "stdout",
     "output_type": "stream",
     "text": [
      "[4.6312937911987309, 0.20399999999999999]\n",
      "[8.0829713439941404, 0.17230000000000001]\n",
      "[7.0796395072937015, 0.25600000000000001]\n",
      "[4.0804842388153073, 0.54959999999999998]\n",
      "[1.0896742362964897, 0.80810000000000004]\n",
      "[0.14903200184771559, 0.95979999999999999]\n",
      "[0.089170128039208069, 0.97750000000000004]\n",
      "[0.086126177126480616, 0.9778]\n"
     ]
    }
   ],
   "source": [
    "target = model.layers[1].get_weights()\n",
    "u, s, v_t = np.linalg.svd(target[0], full_matrices=False)\n",
    "\n",
    "for k in range(8):\n",
    "    tmp_s = s.copy()\n",
    "    tmp_s[2 ** k:] = 0\n",
    "    new_weight = u @ np.diag(tmp_s) @ v_t\n",
    "    \n",
    "    model.layers[1].set_weights([new_weight, target[1]])\n",
    "    \n",
    "    print(model.evaluate(x_test, y_test, verbose=0))\n",
    "model.layers[1].set_weights(target)"
   ]
  },
  {
   "cell_type": "code",
   "execution_count": 76,
   "metadata": {},
   "outputs": [
    {
     "name": "stdout",
     "output_type": "stream",
     "text": [
      "[1.3606835624694824, 0.4909]\n",
      "[0.79150962805747982, 0.75060000000000004]\n",
      "[0.36113099954724309, 0.88690000000000002]\n",
      "[0.15023983775712549, 0.95369999999999999]\n",
      "[0.10398878726357652, 0.97260000000000002]\n",
      "[0.086782847858476453, 0.97819999999999996]\n",
      "[0.093802640231544498, 0.97589999999999999]\n",
      "[0.1304598247610731, 0.96450000000000002]\n"
     ]
    }
   ],
   "source": [
    "for k in range(8):\n",
    "    new_model = Sequential()\n",
    "    new_model.add(Flatten(input_shape=(28, 28)))\n",
    "    new_model.add(Dense(2 ** k))\n",
    "    new_model.add(Dense(256, activation='relu'))\n",
    "    new_model.add(Dense(128, activation='relu'))\n",
    "    new_model.add(Dense(64, activation='relu'))\n",
    "    new_model.add(Dense(10, activation='softmax'))\n",
    "    \n",
    "    new_model.compile('adam', 'categorical_crossentropy', metrics=['accuracy'])\n",
    "    \n",
    "    new_model.fit(x_train, y_train, \n",
    "                  batch_size=64, epochs=10,\n",
    "                  validation_data=(x_test, y_test), verbose=0)\n",
    "    \n",
    "    print(new_model.evaluate(x_test, y_test, verbose=0))"
   ]
  }
 ],
 "metadata": {
  "kernelspec": {
   "display_name": "Python 3",
   "language": "python",
   "name": "python3"
  },
  "language_info": {
   "codemirror_mode": {
    "name": "ipython",
    "version": 3
   },
   "file_extension": ".py",
   "mimetype": "text/x-python",
   "name": "python",
   "nbconvert_exporter": "python",
   "pygments_lexer": "ipython3",
   "version": "3.6.3"
  }
 },
 "nbformat": 4,
 "nbformat_minor": 2
}
